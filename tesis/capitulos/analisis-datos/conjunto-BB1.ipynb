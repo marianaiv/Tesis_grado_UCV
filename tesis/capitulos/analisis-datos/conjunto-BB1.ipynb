{
 "cells": [
  {
   "cell_type": "markdown",
   "metadata": {},
   "source": [
    "# Conjunto BB1\n",
    "Este conjunto de datos posee la misma señal que el conjunto R&D, pero con un 0,08 % de señal. También hay diferencia en las masas de las partículas $Z'$, $X$ y $Y$, que para este conjunto son 3,823 TeV, 732 GeV y 378 GeV, respectivamente. "
   ]
  },
  {
   "cell_type": "code",
   "execution_count": 1,
   "metadata": {},
   "outputs": [],
   "source": [
    "# Importamos las librerías principales\n",
    "import pandas as pd\n",
    "import numpy as np\n",
    "import matplotlib.pyplot as plt\n",
    "from myst_nb import glue\n",
    "\n",
    "# Funciones de benchtools\n",
    "from benchtools.src.plotools import bkg_sig_hist, bkg_sig_scatter\n",
    "from benchtools.src.clustering import build_features"
   ]
  },
  {
   "cell_type": "code",
   "execution_count": 3,
   "metadata": {},
   "outputs": [
    {
     "name": "stdout",
     "output_type": "stream",
     "text": [
      "Part 1/2\n"
     ]
    },
    {
     "name": "stderr",
     "output_type": "stream",
     "text": [
      "100%|██████████| 50000/50000 [12:50<00:00, 64.93it/s]\n"
     ]
    },
    {
     "name": "stdout",
     "output_type": "stream",
     "text": [
      "Part 2/2\n"
     ]
    },
    {
     "name": "stderr",
     "output_type": "stream",
     "text": [
      "100%|██████████| 50000/50000 [11:48<00:00, 70.54it/s]\n"
     ]
    },
    {
     "name": "stdout",
     "output_type": "stream",
     "text": [
      "Done\n",
      "Merging files\n"
     ]
    }
   ],
   "source": [
    "# Pre-procesando datos\n",
    "path_data = \"../../../datos/events_LHCO2020_BlackBox1.h5\"\n",
    "path_key = \"../../../datos/events_LHCO2020_BlackBox1.masterkey\"\n",
    "build_features(path_data=path_data, nbatch=2, outname='BB1-100000', path_label=path_key, outdir='../../../datos/', chunksize=50000)"
   ]
  },
  {
   "cell_type": "code",
   "execution_count": 6,
   "metadata": {},
   "outputs": [
    {
     "data": {
      "application/papermill.record/text/plain": "0.08"
     },
     "metadata": {
      "scrapbook": {
       "mime_prefix": "application/papermill.record/",
       "name": "RnD-ratio"
      }
     },
     "output_type": "display_data"
    }
   ],
   "source": [
    "df = pd.read_csv(\"../../../datos/BB1-100000.csv\")\n",
    "\n",
    "# Calculamos la proporción de señal\n",
    "df_sig = df[df.iloc[:,-1]==1]    # Última columna es señal\n",
    "ratio_sig = df_sig.shape[0]*100/df.shape[0]\n",
    "# Guardamos el valor en el notebook\n",
    "glue(\"BB1-ratio\", ratio_sig, display=False)"
   ]
  },
  {
   "cell_type": "markdown",
   "metadata": {},
   "source": [
    "Para analizar este conjunto de datos, también utilizamos una fracción de los datos. 100,000 eventos, con {glue:text}`BB1-ratio:.2f`% de señal, que es una buena representación del conjunto completo.\n",
    "## Datos pre-procesados\n",
    "Los datos pre-procesados de este conjunto presentan las mismas características que los del conjunto R&D. La diferencia principal son las distribuciones de masa."
   ]
  }
 ],
 "metadata": {
  "interpreter": {
   "hash": "209c128faaab343eb2bb2c317df6382432bb77157bcf5f74f482fb74b543730e"
  },
  "kernelspec": {
   "display_name": "Python 3.8.11 ('base')",
   "language": "python",
   "name": "python3"
  },
  "language_info": {
   "codemirror_mode": {
    "name": "ipython",
    "version": 3
   },
   "file_extension": ".py",
   "mimetype": "text/x-python",
   "name": "python",
   "nbconvert_exporter": "python",
   "pygments_lexer": "ipython3",
   "version": "3.8.11"
  },
  "orig_nbformat": 4
 },
 "nbformat": 4,
 "nbformat_minor": 2
}
