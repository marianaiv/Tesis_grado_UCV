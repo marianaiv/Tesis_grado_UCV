{
 "cells": [
  {
   "cell_type": "markdown",
   "metadata": {},
   "source": [
    "(dGANAE)=\n",
    "# Datos de GAN-AE\n",
    "Las variables obtenidas en el pre-procesamiento de GAN-AE para los dos jets principales son{cite}`Vaslin_2020`:\n",
    "- $p_T$, $\\eta$, $\\phi$, $m$ y $E$.\n",
    "- El número de subjets inclusivos y exclusivos ($nsj_{inclusive}$, $nsj_{exclusive}$) del evento y el número de constituyentes.\n",
    "- Subjettiness: $\\tau_1$, $\\tau_2$, $\\tau_3$, $\\tau_{32}$ y $\\tau_{21}$\n",
    "- Anillos de energía definidos como $\\left(\\sum E_{const}/E_{jet}\\right)$ con $\\Delta R(jet, constit) \\in \\left[R_{jet}(i/n);R_{jet}((i+1)/n)\\right]$ y $n = 1,2,\\dots,10$.\n",
    "\n",
    "Y del evento:\n",
    "- $m_{jj}$ y número de jets $n_{jets}$ con $p_T\\geq20$ GeV\n",
    "\n",
    "(dGANAE-dist)=\n",
    "## Distribuciones\n",
    "GAN-AE utiliza una gran cantidad de variables. Sin embargo, en la {numref}`dGANAE-dist-importance` se observan las distribuciones de las características más importantes para la clasificación de acuerdo con {cite}`Vaslin_2020`."
   ]
  },
  {
   "cell_type": "code",
   "execution_count": 1,
   "metadata": {
    "tags": [
     "remove-cell"
    ]
   },
   "outputs": [],
   "source": [
    "# Importamos librerias básicas\n",
    "import pandas as pd\n",
    "import h5py\n",
    "import numpy as np\n",
    "import matplotlib.pyplot as plt\n",
    "import nexusformat.nexus as nx\n",
    "\n",
    "# Funciones de benchtools\n",
    "from benchtools.src.plotools import bkg_sig_hist, bkg_sig_scatter, create_png, image_grid\n",
    "\n",
    "# Definimos el path de las imagenes\n",
    "PATH_FIGURES = '../../figuras/'"
   ]
  },
  {
   "cell_type": "code",
   "execution_count": 2,
   "metadata": {
    "tags": [
     "remove-cell"
    ]
   },
   "outputs": [],
   "source": [
    "# Cargamos los datos\n",
    "df_bkg = pd.read_hdf('../../../datos/bkgHLF_merged_RnD.h5')\n",
    "df_sig=pd.read_hdf('../../../datos/sigHLF_merged_RnD.h5')\n",
    "# Agregamos las etiquetas de señal y fondo\n",
    "df_bkg['label']=0\n",
    "df_sig['label']=1\n",
    "# Juntamos dfs\n",
    "df = pd.concat([df_bkg, df_sig])"
   ]
  },
  {
   "cell_type": "code",
   "execution_count": 3,
   "metadata": {
    "tags": [
     "remove-cell"
    ]
   },
   "outputs": [
    {
     "data": {
      "text/plain": [
       "<Figure size 432x288 with 0 Axes>"
      ]
     },
     "metadata": {},
     "output_type": "display_data"
    },
    {
     "data": {
      "text/plain": [
       "<Figure size 432x288 with 0 Axes>"
      ]
     },
     "metadata": {},
     "output_type": "display_data"
    },
    {
     "data": {
      "text/plain": [
       "<Figure size 432x288 with 0 Axes>"
      ]
     },
     "metadata": {},
     "output_type": "display_data"
    },
    {
     "data": {
      "text/plain": [
       "<Figure size 432x288 with 0 Axes>"
      ]
     },
     "metadata": {},
     "output_type": "display_data"
    },
    {
     "data": {
      "text/plain": [
       "<Figure size 432x288 with 0 Axes>"
      ]
     },
     "metadata": {},
     "output_type": "display_data"
    },
    {
     "data": {
      "text/plain": [
       "<Figure size 432x288 with 0 Axes>"
      ]
     },
     "metadata": {},
     "output_type": "display_data"
    },
    {
     "data": {
      "text/plain": [
       "<Figure size 432x288 with 0 Axes>"
      ]
     },
     "metadata": {},
     "output_type": "display_data"
    }
   ],
   "source": [
    "# Graficamos la distribución de variables\n",
    "variables = ['mjj', 'm1', 'm2','pt1', 'pt2', '21tau1', '21tau2']\n",
    "lista = create_png(namedf='GAN-AE', df=df, variables=variables, keyname='dist', path=PATH_FIGURES, nbins=50, type='distribution',title=True)\n",
    "# Grid de imagenes\n",
    "image_grid(rows=2, columns=4, images=lista, name='dGANAE-dist-importance', path=PATH_FIGURES, remove=True)"
   ]
  },
  {
   "cell_type": "code",
   "execution_count": 4,
   "metadata": {
    "tags": [
     "remove-cell"
    ]
   },
   "outputs": [
    {
     "data": {
      "text/plain": [
       "<Figure size 432x288 with 0 Axes>"
      ]
     },
     "metadata": {},
     "output_type": "display_data"
    },
    {
     "data": {
      "text/plain": [
       "<Figure size 432x288 with 0 Axes>"
      ]
     },
     "metadata": {},
     "output_type": "display_data"
    },
    {
     "data": {
      "text/plain": [
       "<Figure size 432x288 with 0 Axes>"
      ]
     },
     "metadata": {},
     "output_type": "display_data"
    }
   ],
   "source": [
    "# Graficamos la distribución de variables\n",
    "variables = ['nisj1', 'nisj2', '1tau2']\n",
    "lista = create_png(namedf='GAN-AE', df=df, variables=variables, keyname='dist', path=PATH_FIGURES, nbins=50, type='distribution', title=True)\n",
    "# Grid de imagenes\n",
    "image_grid(rows=1, columns=3, images=lista, name='dGANAE-dist-importance-diff', path=PATH_FIGURES, remove=True)"
   ]
  },
  {
   "cell_type": "markdown",
   "metadata": {},
   "source": [
    "```{figure} ./../../figuras/dGANAE-dist-importance.png\n",
    "---\n",
    "name: dGANAE-dist-importance\n",
    "width: 100%\n",
    "---\n",
    "Distribución de las variables más importantes según {cite}`Vaslin_2020`. Masa invariante y masa, $p_T$ y $\\tau_{21}$ de los dos jets principales.\n",
    "```\n",
    "Las distribuciones de la masa invariante, el $p_T$ de los dos jets principales y la masa de los dos jets principales en la {numref}`dGANAE-dist-importance` son iguales a las obtenidas en la {numref}`datospp-dist` para el conjunto R&D, el conjunto utilizado en este análisis. $\\tau_{21}$ de los dos jets principales son similare a lo obtenido con `benchtools`. \n",
    "\n",
    "```{figure} ./../../figuras/dGANAE-dist-importance-diff.png\n",
    "---\n",
    "name: dGANAE-dist-importance-diff\n",
    "width: 100%\n",
    "---\n",
    "Distribución de las variables más importantes según {cite}`Vaslin_2020`. Número de subjets inclusivos y $\\tau_1$ para el jet secundario.\n",
    "```\n",
    "Por otra parte, en la {numref}`dGANAE-dist-importance-diff`, observamos que la distribución del número de subjets inclusivos de los dos jets principales es diferente para señal y fondo; en general, la señal posee menos subjets. Las distribuciones del fondo y la señal de $\\tau_1$ para el jet secundario son similares, siendo la distribución de la señal un poco mas ancha.\n",
    "(dGANAE-corr)=\n",
    "## Correlaciones\n",
    "Las correlaciones discutidas en la {numref}`datospp-correlaciones`, se observan también en los datos pre-procesados analizados en esta sección. En la {numref}`dGANAE-correlaciones`, la señal presenta algunas correlaciones que no se observan en el fondo, como entre el numero de subjets inclusivos del jet secundario con la masa del jet principal, o algunos anillos de energía."
   ]
  },
  {
   "cell_type": "code",
   "execution_count": 5,
   "metadata": {
    "tags": [
     "remove-cell"
    ]
   },
   "outputs": [],
   "source": [
    "# Queremos tener las correlaciones para la señal y el fondo en dataframes separados\n",
    "df_sig = df[df['label']==1].drop(['label'], axis=1)\n",
    "df_bkg = df[df['label']==0].drop(['label'], axis=1)\n",
    "\n",
    "# Calculamos las correlaciones\n",
    "df_sig_corr = df_sig.corr()\n",
    "df_bkg_corr = df_bkg.corr()\n",
    "\n",
    "# Definimos figura y tamaño\n",
    "fig, axes = plt.subplots(figsize=[14,11], facecolor='white', nrows=1, ncols=2, sharey=True)\n",
    "fig.tight_layout() \n",
    "\n",
    "# Para graficar el mapa de correlaciones:\n",
    "for ax, (name, corr) in zip(axes.flat, [('Señal', df_sig_corr), ('Fondo', df_bkg_corr)]):\n",
    "    \n",
    "    cax = ax.matshow(corr,cmap='coolwarm', vmin=-1, vmax=1)\n",
    "\n",
    "    #Ejes\n",
    "    ticks = np.arange(0,len(corr.columns),1)\n",
    "    ax.set_xticks(ticks)\n",
    "    ax.set_yticks(ticks)\n",
    "    ax.set_xticklabels(corr.columns, rotation=90)\n",
    "    ax.set_yticklabels(corr.columns)\n",
    "    ax.xaxis.tick_top()\n",
    "    ax.set_title('{}'.format(name), fontsize=16) \n",
    "    \n",
    "# Mapa de color\n",
    "fig.colorbar(cax, ax=axes.ravel().tolist(), fraction=0.025, pad=0.04)\n",
    "# Título\n",
    "#fig.suptitle('Mapa de correlaciones', fontsize=25)\n",
    "\n",
    "#plt.show()\n",
    "plt.savefig('./../../figuras/dGANAE-correlaciones', bbox_inches='tight', facecolor=fig.get_facecolor(),edgecolor='none')\n",
    "plt.close()"
   ]
  },
  {
   "cell_type": "markdown",
   "metadata": {},
   "source": [
    "```{figure} ./../../figuras/dGANAE-correlaciones.png\n",
    "---\n",
    "name: dGANAE-correlaciones\n",
    "width: 85%\n",
    "---\n",
    "Correlaciones de las variables pre-procesadas para GAN-AE.\n",
    "```\n",
    "Sin embargo, las correlaciones en los eventos de señal no son evidentes en la {numref}`dGANAE-corr-scatter`."
   ]
  },
  {
   "cell_type": "code",
   "execution_count": 6,
   "metadata": {
    "tags": [
     "remove-cell"
    ]
   },
   "outputs": [
    {
     "data": {
      "text/plain": [
       "<Figure size 432x288 with 0 Axes>"
      ]
     },
     "metadata": {},
     "output_type": "display_data"
    },
    {
     "data": {
      "text/plain": [
       "<Figure size 432x288 with 0 Axes>"
      ]
     },
     "metadata": {},
     "output_type": "display_data"
    }
   ],
   "source": [
    "# Graficamos las correlaciones de algunas variables\n",
    "variables = [('nisj2', 'm1'), ('eRing3_1', 'E1')]\n",
    "lista = create_png(namedf='GANAE', df=df, variables=variables, keyname='corr', path=PATH_FIGURES, type='scatter', title=True)\n",
    "image_grid(rows=1, columns=2, images=lista, name='dGANAE-corr-scatter', path=PATH_FIGURES, remove=True)"
   ]
  },
  {
   "cell_type": "markdown",
   "metadata": {},
   "source": [
    "```{figure} ./../../figuras/dGANAE-corr-scatter.png\n",
    "---\n",
    "name: dGANAE-corr-scatter\n",
    "width: 100%\n",
    "---\n",
    "Correlación de el número de jets inclusivos del jet secundario con la masa del jet principal y el tercer anillo de energía y la energía del jet principal.\n",
    "```"
   ]
  }
 ],
 "metadata": {
  "celltoolbar": "Tags",
  "interpreter": {
   "hash": "be244558907c567e73a32fad5ffef5514602d6da01bb2b6b51508d7e46fcc84d"
  },
  "kernelspec": {
   "display_name": "Python 3.8.11 ('base')",
   "language": "python",
   "name": "python3"
  },
  "language_info": {
   "codemirror_mode": {
    "name": "ipython",
    "version": 3
   },
   "file_extension": ".py",
   "mimetype": "text/x-python",
   "name": "python",
   "nbconvert_exporter": "python",
   "pygments_lexer": "ipython3",
   "version": "3.8.11"
  }
 },
 "nbformat": 4,
 "nbformat_minor": 2
}
