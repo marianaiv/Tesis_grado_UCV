{
 "cells": [
  {
   "cell_type": "markdown",
   "metadata": {
    "ExecuteTime": {
     "end_time": "2022-04-19T17:24:30.796417Z",
     "start_time": "2022-04-19T17:24:30.789287Z"
    },
    "slideshow": {
     "slide_type": "slide"
    }
   },
   "source": [
    "<style>\n",
    "header {\n",
    "    padding: 0.5px;\n",
    "}\n",
    "footer {\n",
    "  padding: 0.5px;\n",
    "  background-color: #70c6ca;\n",
    "  color: white;\n",
    "}\n",
    "</style>\n",
    "\n",
    "<div class=\"header\">\n",
    "    <div style=\"display:inline-block;vertical-align:top;\">\n",
    "    <img src=\"../tesis/figuras/logo_ucv.png\" width=\"100\" align=\"left\"/>\n",
    "    </div>\n",
    "    <div style=\"display:inline-block;\">\n",
    "    <p>\n",
    "    Universidad Central de Venezuela<br>\n",
    "            Facultad de Ciencia<br>\n",
    "            Escuela de Física\n",
    "    </p>\n",
    "</div>\n",
    "    <p>\n",
    "\n",
    "<h2 align=\"center\"> Búsqueda de nueva física utilizando técnicas de aprendizaje automático en eventos de múltiples jets </h2>\n",
    "<h3 align=\"left\"> Análisis comparativo de algoritmos de clasificación en términos de reproducibilidad y rendimiento </h3>\n",
    "\n",
    "\n",
    "\n",
    "<footer>\n",
    "   <p style='text-align: center;'> \n",
    "       <strong>Autor</strong>: Mariana Vivas (<a href=\"mailto:marianaivivas@gmail.com\">marianaivivas@gmail.com</a>)<br>\n",
    "       <strong>Tutores</strong>: Dra. Reina Camacho Toro (LPNHE/CNRS), Dr. José López (UCV) <br>\n",
    "       <strong>Co-tutor</strong>: Dra. Camila Rangel Smith (The Alan Turing Institute)\n",
    "    </p>\n",
    "    \n",
    "</footer>"
   ]
  },
  {
   "cell_type": "code",
   "execution_count": 1,
   "metadata": {
    "slideshow": {
     "slide_type": "skip"
    }
   },
   "outputs": [
    {
     "data": {
      "text/html": [
       "\n",
       "<style>\n",
       ".output_png {\n",
       "    display: block;\n",
       "    text-align: center;\n",
       "    align-items: middle;\n",
       "}\n",
       "</style>\n"
      ],
      "text/plain": [
       "<IPython.core.display.HTML object>"
      ]
     },
     "execution_count": 1,
     "metadata": {},
     "output_type": "execute_result"
    }
   ],
   "source": [
    "import matplotlib.pyplot as plt\n",
    "import numpy as np\n",
    "import pandas as pd\n",
    "from benchtools.src.plotools import bkg_sig_scatter\n",
    "np.random.seed(6)\n",
    "\n",
    "from IPython.core.display import HTML\n",
    "HTML(\"\"\"\n",
    "<style>\n",
    ".output_png {\n",
    "    display: block;\n",
    "    text-align: center;\n",
    "    align-items: middle;\n",
    "}\n",
    "</style>\n",
    "\"\"\")"
   ]
  },
  {
   "cell_type": "markdown",
   "metadata": {
    "slideshow": {
     "slide_type": "slide"
    }
   },
   "source": [
    "# <font color='#307a71'>Marco teórico</font>"
   ]
  },
  {
   "cell_type": "markdown",
   "metadata": {
    "slideshow": {
     "slide_type": "subslide"
    }
   },
   "source": [
    "## El modelo estándar\n",
    "Es la teoría cuántica relativista de de campos que intenta describir las partículas elementales y sus interacciones."
   ]
  },
  {
   "cell_type": "markdown",
   "metadata": {
    "slideshow": {
     "slide_type": "subslide"
    }
   },
   "source": [
    "<figure>\n",
    "<center><img src=\"../tesis/figuras/sm-particulas.png\" style=\"width:80%\"></center>\n",
    "<figcaption align = \"center\"> <small>Fig.1: Contenido de partículas del modelo estándar. Los leptones están organizados de acuerdo a sus generaciones</small></figcaption>\n",
    "</figure>"
   ]
  },
  {
   "cell_type": "markdown",
   "metadata": {
    "slideshow": {
     "slide_type": "skip"
    }
   },
   "source": [
    "Describe tres de las cuatro interacciones fundamentales:\n",
    "- Interacción electromagnética\n",
    "- Interacción débil\n",
    "- Interacción fuerte"
   ]
  },
  {
   "cell_type": "markdown",
   "metadata": {
    "slideshow": {
     "slide_type": "subslide"
    }
   },
   "source": [
    "### Cromodinámica cuántica\n",
    "Es la teoría de la interacción fuerte y describe la dinámica de los quarks y gluones."
   ]
  },
  {
   "cell_type": "markdown",
   "metadata": {
    "slideshow": {
     "slide_type": "fragment"
    }
   },
   "source": [
    "<img style=\"float: right; width:60%\" src=\"../tesis/figuras/qcd-alphas.png\">\n",
    "\n",
    "**Libertad asintótica** \n",
    "\n",
    "   La constante de acople $\\alpha_s$ disminuye al aumentar la transferencia de momento $Q$ y desaparece asintóticamente.\n",
    "\n",
    "**Confinamiento**\n",
    "    \n",
    "   La fuerza de la interacción aumenta a pequeñas transferencias de momento.\n",
    "  \n",
    "<figcaption align = \"right\"> <small>Fig.2: Resumen de medidas experimentales de $\\alpha_s$ en función de la escala de energía $Q$</small></figcaption>"
   ]
  },
  {
   "cell_type": "markdown",
   "metadata": {
    "slideshow": {
     "slide_type": "subslide"
    }
   },
   "source": [
    "### Formación de jets\n",
    "<figure>\n",
    "<center><img src=\"../tesis/figuras/jets-formacion.png\" style=\"width:100%\"></center>\n",
    "<figcaption align = \"center\"> <small>Fig.3: Esquema de la formación de jets.</small></figcaption>"
   ]
  },
  {
   "cell_type": "markdown",
   "metadata": {
    "slideshow": {
     "slide_type": "subslide"
    }
   },
   "source": [
    "## Agrupamiento de jets\n",
    "La existencia de un jet es dependiente de la regla matemática que lo define. Esta regla matemática agrupa los constituyentes del jet de acuerdo a propiedades cinemáticas.\n",
    "### Recombinación secuencial\n",
    "Utilizan las siguientes medidas de distancia entre dos constituyentes:\n",
    "$$\n",
    "    d_{ij} = min(p_{Ti}^{2p},p_{Tj}^{2p})\\times \\frac{\\Delta R_{ij}^2}{R}\n",
    "$$\n",
    "y la distancia entre el eje del haz y el constituyente detectado:\n",
    "$$\n",
    "    d_{iB}=p_{Ti}^{2p}\n",
    "$$"
   ]
  },
  {
   "cell_type": "markdown",
   "metadata": {
    "slideshow": {
     "slide_type": "subslide"
    }
   },
   "source": [
    "**Algoritmos de recombinación secuencial**\n",
    "<hr> \n",
    "\n",
    "**Input:** Constituyentes del evento<br>\n",
    "1. Hallar el mínimo en el conjunto $\\{d_{ij},d_{iB}\\}$:<br>\n",
    "  1. *Si el mínimo es $d_{ij}$*: los constituyentes *i* y *j* se unen en un solo constituyente *ij*, sumando el cuadri-momento y eliminando *i* y *j*  de la lista de constituyentes.<br>\n",
    "  2. *Si el mínimo es $d_{iB}$*: *i* se considera jet y eliminado de la lista de constituyentes.  \n",
    "\n",
    "<hr> \n",
    "\n",
    "<figure>\n",
    "<center><img src=\"../tesis/figuras/presentacion-algrecombinacion.png\" style=\"width:100%\"></center>\n",
    "<figcaption align = \"center\"> <small>Fig.4: Algoritmos de recombinación secuencial.</small></figcaption>"
   ]
  },
  {
   "cell_type": "markdown",
   "metadata": {
    "slideshow": {
     "slide_type": "subslide"
    }
   },
   "source": [
    "## Variables de subestructura\n",
    "<figure>\n",
    "<center><img src=\"../tesis/figuras/jets-diagramajets.png\" style=\"width:90%\"></center>\n",
    "<figcaption align = \"center\"> <small>Fig.5: Algoritmos de recombinación secuencial.</small></figcaption>"
   ]
  },
  {
   "cell_type": "markdown",
   "metadata": {
    "slideshow": {
     "slide_type": "subslide"
    }
   },
   "source": [
    "### Masa\n",
    "La masa de un jet es cercana a la masa de la partícula de la cual se origina, asumiendo que los productos del decaimiento están contenidos en el jet. \n",
    "\n",
    "Está definida como la suma de la masa invariante de todos los constituyentes del jet, calculada a partir del cuadri-momento de cada constituyente. \n",
    "\n",
    "<figure>\n",
    "<center><img src=\"../tesis/figuras/jets-masa.png\" style=\"width:60%\"></center>\n",
    "<figcaption align = \"center\"> <small>Fig.6: Distribuciones de la masa del jet principal para jets de quarks y gluones, o fondo, y de una señal de nueva física con partículas de 500 y 100 GeV.</small></figcaption>"
   ]
  },
  {
   "cell_type": "markdown",
   "metadata": {
    "slideshow": {
     "slide_type": "subslide"
    }
   },
   "source": [
    "### N-subjettiness\n",
    "Esta variable intenta diferenciar jets de acuerdo al número N de subjets que lo conforman. \n",
    "$$\n",
    "    \\tau_N = \\left(\\frac{1}{d_0}\\right)\\sum_{i=0}^{i=N} p_{Ti} \\times \\Delta R_{min,i}\n",
    "$$\n",
    "\n",
    "Se prefiere utilizar variables adimensionales $\\longrightarrow$ $\\tau_{N,N-1}=\\frac{\\tau_{N}}{\\tau_{N-1}}$\n",
    "\n",
    "<figure>\n",
    "<center><img src=\"../tesis/figuras/jets-tau.png\" style=\"width:55%\"></center>\n",
    "<figcaption align = \"center\"> <small>Fig.7: Distribuciones de $\\tau_{21}$ para jets de quarks y gluones, o fondo, y de una señal de nueva física con jets que tienen subestructura de 2 o más jets.</small></figcaption>"
   ]
  },
  {
   "cell_type": "markdown",
   "metadata": {
    "ExecuteTime": {
     "end_time": "2022-04-19T18:14:34.553747Z",
     "start_time": "2022-04-19T18:14:34.543052Z"
    },
    "slideshow": {
     "slide_type": "subslide"
    }
   },
   "source": [
    "### Más allá del modelo estándar\n",
    "Limitaciones **fenomenológicas**:\n",
    "\n",
    "- Asimetría materia-antemateria\n",
    "- Masa de los neutrinos\n",
    "- Materia oscura y energía oscura"
   ]
  },
  {
   "cell_type": "markdown",
   "metadata": {
    "ExecuteTime": {
     "end_time": "2022-04-19T18:14:34.587384Z",
     "start_time": "2022-04-19T18:14:34.556811Z"
    },
    "slideshow": {
     "slide_type": "fragment"
    }
   },
   "source": [
    "Limitaciones **teóricas**:\n",
    "- Descripción cuántica de la gravedad\n",
    "- Origen de las masas/mezclas\n",
    "- Problema CP fuerte\n",
    "- Problema de jerarquía"
   ]
  },
  {
   "cell_type": "markdown",
   "metadata": {
    "slideshow": {
     "slide_type": "subslide"
    }
   },
   "source": [
    "### Eventos dijet\n",
    "Múltiples modelos de física más allá del modelo estándar (BSM) plantean la existencia de nuevas practiculas. Son de particular interés los eventos que decaen a dos jets porque:\n",
    "- Una alta fracción de los eventos de colisión resultan en jets.\n",
    "- Varios modelos predicen la existencia de nuevas partículas masivas que decaen a dos jets\n",
    "- Los jets son la firma experimental de los quarks y gluones, productos en el decaimiento de los bosones *W/Z* y del bosón de Higgs."
   ]
  },
  {
   "cell_type": "markdown",
   "metadata": {
    "slideshow": {
     "slide_type": "slide"
    }
   },
   "source": [
    "# <font color='#307a71'>Aprendizaje automático para la búsqueda de nueva física</font>"
   ]
  },
  {
   "cell_type": "markdown",
   "metadata": {
    "slideshow": {
     "slide_type": "subslide"
    }
   },
   "source": [
    "### Aprendizaje automático\n",
    "El aprendizaje automático es un subcampo de la inteligencia artificial que tiene como objetivo el desarrollo de algoritmos que mejoran su desempeño de manera cuantificable en una tarea determinada.\n",
    "\n",
    "Hay dos tipos principales de tareas: clasificación y regresión. Estas pueden ser supervisadas y no supervisadas."
   ]
  },
  {
   "cell_type": "markdown",
   "metadata": {
    "slideshow": {
     "slide_type": "fragment"
    }
   },
   "source": [
    "<figure>\n",
    "<center><img src=\"../tesis/figuras/presentacion-sup-unsup.png\" style=\"width:85%\"></center>\n",
    "<figcaption align = \"center\"> <small>Fig.8: Ejemplo de clasificación por algoritmo supervisado y no supervisado</small></figcaption>"
   ]
  },
  {
   "cell_type": "markdown",
   "metadata": {
    "slideshow": {
     "slide_type": "subslide"
    }
   },
   "source": [
    "### Aprendizaje automático en HEP"
   ]
  },
  {
   "cell_type": "markdown",
   "metadata": {
    "slideshow": {
     "slide_type": "fragment"
    }
   },
   "source": [
    "#### Detección de anomalías\n",
    "La tarea de detección de anomalías tiene como objetivo predecir la categoría a la que pertenece una muestra: \"normal\" o \"anómala\""
   ]
  },
  {
   "cell_type": "code",
   "execution_count": 2,
   "metadata": {
    "slideshow": {
     "slide_type": "fragment"
    }
   },
   "outputs": [
    {
     "data": {
      "image/png": "[encoded data removed]",
      "text/plain": [
       "<Figure size 720x216 with 1 Axes>"
      ]
     },
     "metadata": {},
     "output_type": "display_data"
    }
   ],
   "source": [
    "# Imagen detección anomalias\n",
    "# Creando las etiquetas con el ratio de BB1\n",
    "label = np.random.choice([0, 1], size=1000, p=[.92, .08])\n",
    "# Creamos los datos \n",
    "xaxis=np.random.rand(1000)\n",
    "yaxis=np.random.rand(1000)\n",
    "# Creamos un df con los datos\n",
    "df = pd.DataFrame(np.stack((xaxis, yaxis, label), axis=1), columns=['x-axis','y-axis','label'])\n",
    "\n",
    "# Graficamos\n",
    "fig, ax = plt.subplots(facecolor='white', figsize=[10,3])\n",
    "# Separamos en señal y fondo\n",
    "sig = df.loc[df['label']==1]\n",
    "bkg = df.loc[df['label']==0]\n",
    "# Plots\n",
    "ax.scatter(sig['x-axis'], sig['y-axis'], c='r', alpha=1, label='señal')\n",
    "ax.scatter(bkg['x-axis'], bkg['y-axis'], c='b', alpha=0.3, label='fondo')\n",
    "# Información\n",
    "plt.legend(loc='upper right')\n",
    "txt=\"Fig 9: conjunto de datos con clases altamente desbalanceadas.\"\n",
    "plt.figtext(0.5, -0.09, txt, wrap=True, horizontalalignment='center', fontsize=10);\n",
    "plt.show()"
   ]
  },
  {
   "cell_type": "markdown",
   "metadata": {
    "slideshow": {
     "slide_type": "fragment"
    }
   },
   "source": [
    "#### Búsquedas independientes de modelo\n",
    "- *Libre de modelo*: sin suposiciones sobre las densidades\n",
    "- *No-paramétrica*: compara las densidades como un todo.\n",
    "- *No-clasificada*: usa la dimensionalidad completa de la información."
   ]
  },
  {
   "cell_type": "markdown",
   "metadata": {
    "slideshow": {
     "slide_type": "subslide"
    }
   },
   "source": [
    "### Olimpiadas LHC 2020\n",
    "En las olimpiadas se simulan datos que podrían generarse en el acelerador. Los participantes interpretan los datos, buscando partículas y evidencia de teorías que no se han presenciado o confirmados. \n",
    "\n",
    "Las olimpiadas de 2020 estuvieron enfocadas en el uso de aprendizaje automático para búsqueda de anomalías en eventos con un estado final de múltiples jets.\n",
    "\n",
    "<figure>\n",
    "<center><img src=\"../tesis/figuras/lhco-topologia.png\" style=\"width:60%\"></center>\n",
    "<figcaption align = \"center\"> <small>Fig.10: Un tipo de topología que se puede encontrar en los datos de las LHCO 2020. Evento dijet por el decaimiento de una partícula de nueva física en dos partículas de nueva física que decaen a jets</small></figcaption>"
   ]
  },
  {
   "cell_type": "markdown",
   "metadata": {
    "slideshow": {
     "slide_type": "subslide"
    }
   },
   "source": [
    "### Resultados LHCO 2020\n",
    "Los participantes debían reportar el número de eventos de señal, una descripción de la nueva física y un valor p asociado a la hipótesis nula."
   ]
  },
  {
   "cell_type": "markdown",
   "metadata": {
    "slideshow": {
     "slide_type": "fragment"
    }
   },
   "source": [
    "#### Reproducibilidad\n",
    "<center><img src=\"../tesis/figuras/alglhco-repfig.png\" style=\"width:65%\"></center>\n",
    "<figcaption align = \"center\"> <small>Fig.11: Resumen de la reproducibilidad de los participantes de las LHCO 2020.</small></figcaption>"
   ]
  },
  {
   "cell_type": "markdown",
   "metadata": {
    "slideshow": {
     "slide_type": "subslide"
    }
   },
   "source": [
    "### Barreras para la investigación reproducible\n",
    "<img style=\"float: right; width:60%\" src=\"../tesis/figuras/presentacion-turing.png\">\n",
    "\n",
    "- Estructura actual de la <br> investigación académica\n",
    "\n",
    "- Desafios técnicos\n",
    "\n",
    "- Presiones sobre los <br> científicos de datos\n",
    "\n",
    "#### <font color='mediumTurquoise'>The Turing Way</font>\n",
    "\n",
    "Es una guía con la información que los investigadores y científicos de datos necesitan para garantizar que los proyectos en los que trabajan sean fáciles de reproducir y reutilizar.\n",
    "\n",
    "<figcaption align = \"right\"> <small>Fig.12: Fig: Proyecto The Turing Way. Zenodo. <br> http://doi.org/10.5281/zenodo.3332807¶</small></figcaption>"
   ]
  },
  {
   "cell_type": "markdown",
   "metadata": {
    "slideshow": {
     "slide_type": "slide"
    }
   },
   "source": [
    "# <font color='#307a71'>Datos y métodos</font>"
   ]
  },
  {
   "cell_type": "markdown",
   "metadata": {
    "slideshow": {
     "slide_type": "subslide"
    }
   },
   "source": [
    "### Conjuntos de datos\n",
    "Cada evento está compuesto por una lista de todos los hadrones y su cinemática<br> ($p_T,\\eta,\\phi$). La señal de los conjuntos es $Z'\\rightarrow XY$, donde $Z'$, $X$ y $Y$ son partículas BSM.\n",
    "\n",
    "<img style=\"float: right; width:60%\" src=\"../tesis/figuras/lhco-RnD.png\">\n",
    "\n",
    "#### R&D\n",
    "Este conjunto contiene 9.09% de eventos de señal con masas:\n",
    "\n",
    "$Z'=3.5$ TeV<br> $X=500$ GeV<br> $Y=100$ GeV.\n",
    "\n",
    "#### BB1\n",
    "Este conjunto contiene 0.083% de señal con masas:\n",
    "\n",
    "$Z'=3.823$ TeV<br> $X=732$ GeV<br> $Y=378$ GeV.\n",
    "\n",
    "<figcaption align = \"right\"> <small>Fig.13: Diagrama de Feynmann para la señal del conjunto R&D y la BB1.</small></figcaption>"
   ]
  },
  {
   "cell_type": "markdown",
   "metadata": {
    "slideshow": {
     "slide_type": "subslide"
    }
   },
   "source": [
    "### Algoritmos para detección de anomalías\n",
    "La implementación de aprendizaje automático en este trabajo está comprendida por:\n",
    "1. Pre-procesamiento de los datos\n",
    "2. División de los datos en conjuntos de entrenamiento y prueba\n",
    "3. Ajuste de los modelos utilizando los datos de entrenamiento\n",
    "4. Evaluación del rendimiento del modelo\n",
    "\n",
    "Los algoritmos utilizados en este trabajo se escogieron a partir de su rendimiento, estudiado durante el desarrollo de las herramientas de análisis de datos"
   ]
  },
  {
   "cell_type": "markdown",
   "metadata": {
    "slideshow": {
     "slide_type": "subslide"
    }
   },
   "source": [
    "### Algoritmos supervisados"
   ]
  },
  {
   "cell_type": "markdown",
   "metadata": {
    "slideshow": {
     "slide_type": "subslide"
    }
   },
   "source": [
    "#### Bosque aleatorio\n",
    "<center><img src=\"../tesis/figuras/ml-bosquealeatorio.png\" style=\"width:90%\"></center>\n",
    "<figcaption align = \"center\"> <small>Fig.14: Representación visual del funcionamiento de un bosque aleatorio</small></figcaption>"
   ]
  },
  {
   "cell_type": "markdown",
   "metadata": {
    "slideshow": {
     "slide_type": "subslide"
    }
   },
   "source": [
    "#### Potenciación del gradiente\n",
    "<center><img src=\"../tesis/figuras/ml-gbc.png\" style=\"width:70%\"></center>\n",
    "<figcaption align = \"center\"> <small>Fig.15: Ilustración del funcionamiento de GBC</small></figcaption>"
   ]
  },
  {
   "cell_type": "markdown",
   "metadata": {
    "slideshow": {
     "slide_type": "subslide"
    }
   },
   "source": [
    "#### Análisis de discriminante cuadrático\n",
    "<center><img src=\"../tesis/figuras/ml-qda.png\" style=\"width:90%\"></center>\n",
    "<figcaption align = \"center\"> <small>Fig.16: Clasificación con QDA. a) Los puntos a ser clasificados, b) los límites o fronteras de decisión. La barra de color indica la probabilidad de pertenecer a la clase 1.</small></figcaption>"
   ]
  },
  {
   "cell_type": "markdown",
   "metadata": {
    "slideshow": {
     "slide_type": "subslide"
    }
   },
   "source": [
    "#### Redes neuronales\n",
    "<center><img src=\"../tesis/figuras/presentacion-nn.png\" style=\"width:60%\"></center>\n",
    "<figcaption align = \"center\"> <small>Fig.18: Diagrama de una red neuronal. Las transformaciones se ordenan por capas, donde la salida de una capa es la entrada de la siguiente.</small></figcaption>"
   ]
  },
  {
   "cell_type": "markdown",
   "metadata": {
    "slideshow": {
     "slide_type": "subslide"
    }
   },
   "source": [
    "### Algoritmos no supervisados"
   ]
  },
  {
   "cell_type": "markdown",
   "metadata": {
    "slideshow": {
     "slide_type": "subslide"
    }
   },
   "source": [
    "#### KMeans\n",
    "<center><img src=\"../tesis/figuras/ml-kmeans.webp\" style=\"width:55%\"></center>\n",
    "<figcaption align = \"center\"> <small>Fig.19: Distintas inicialización de KMeans en los mismos datos.</small></figcaption>"
   ]
  },
  {
   "cell_type": "markdown",
   "metadata": {
    "slideshow": {
     "slide_type": "subslide"
    }
   },
   "source": [
    "#### Codificador automático\n",
    "<center><img src=\"../tesis/figuras/alg-ae.png\" style=\"width:80%\"></center>\n",
    "<figcaption align = \"center\"> <small>Fig.20: Diagrama del funcionamiento de un codificador automático. La entrada se mapea a una representación de dimensionalidad reducida y luego es reconstruida.</small></figcaption>"
   ]
  },
  {
   "cell_type": "markdown",
   "metadata": {
    "slideshow": {
     "slide_type": "subslide"
    }
   },
   "source": [
    "#### Red generativa antagónica\n",
    "<center><img src=\"../tesis/figuras/presentacion-gan.png\" style=\"width:80%\"></center>\n",
    "<figcaption align = \"center\"> <small>Fig.21: Diagrama del funcionamiento de una red generativa antagónica. El generador aprende a producir datos para engañar al discriminador.</small></figcaption>"
   ]
  },
  {
   "cell_type": "markdown",
   "metadata": {
    "slideshow": {
     "slide_type": "subslide"
    }
   },
   "source": [
    "## Algoritmos LHCO 2020\n",
    "De los algoritmos participantes, se escogieron **UCluster** y **GAN-AE** porque cumplen con las características de reproducibilidad necesarias y proporcionaron la información de manera simple."
   ]
  },
  {
   "cell_type": "markdown",
   "metadata": {
    "slideshow": {
     "slide_type": "fragment"
    }
   },
   "source": [
    "| Nombre | Preprocesamiento | Código| Instrucciones | Entorno| Licencia|\n",
    "|:------:|:-----------------:|:-----:|:-------------:|:------:|:-------:|\n",
    "| GAN-AE |$\\checkmark$ |$\\checkmark$ |$\\checkmark$ |$\\checkmark$ |- |\n",
    "|UCluster|$\\checkmark$ |$\\checkmark$ |$\\checkmark$ |$\\checkmark$ |$\\checkmark$ |"
   ]
  },
  {
   "cell_type": "markdown",
   "metadata": {
    "slideshow": {
     "slide_type": "subslide"
    }
   },
   "source": [
    "### UCluster\n"
   ]
  },
  {
   "cell_type": "markdown",
   "metadata": {
    "slideshow": {
     "slide_type": "subslide"
    }
   },
   "source": [
    "### GAN-AE"
   ]
  },
  {
   "cell_type": "markdown",
   "metadata": {
    "slideshow": {
     "slide_type": "subslide"
    }
   },
   "source": [
    "## Métricas de rendimiento\n",
    "La métrica de evaluación primaria es la matriz de confusión.\n",
    "<center><img src=\"../tesis/figuras/met-matrizconfusion.png\" style=\"width:100%\"></center>\n",
    "<figcaption align = \"center\"> <small>Fig.22: Matriz de confusión.</small></figcaption>"
   ]
  },
  {
   "cell_type": "markdown",
   "metadata": {
    "slideshow": {
     "slide_type": "subslide"
    }
   },
   "source": [
    "### Métricas numéricas\n",
    "| Métrica      | Ecuación &emsp;&emsp;&emsp;&emsp;&emsp;&emsp;&emsp;&emsp;| Enfoque de evaluación   |\n",
    "|:------------|:---------------------------:|:-------------------------|\n",
    "| Exactitud    | $\\frac{TP+TN}{TP+FP+FN+TN}$ | Número correcto de predicciones sobre todas las predicciones hechas |\n",
    "| Precisión    | $\\frac{TP}{TP+FP}$ | Proporción de tasa de verdaderos positivos |\n",
    "| Recuperación | $\\frac{TP}{TP+FN}$ | Efectividad del clasificador para identificar etiquetas positivas |\n",
    "| Especificidad| $\\frac{TN}{TN+FP}$ | Efectividad del clasificador para identificar etiquetas negativas |\n",
    "| Puntaje f1 | $\\frac{2\\text{precisión}\\times\\text{recuperación}}{\\text{precisión}+\\text{recuperación}}$ | Promedio ponderado de precisión y sensibilidad |\n",
    "| Exactitud balanceada| $\\frac{\\text{recuperación}+\\text{especificidad}}{2}$| Promedio de la proporción de predicciones correctas de cada clase |"
   ]
  },
  {
   "cell_type": "markdown",
   "metadata": {
    "slideshow": {
     "slide_type": "subslide"
    }
   },
   "source": [
    "### Métricas bidimensionales\n",
    "\n",
    "- Los clasificadores asignan un puntaje $\\mathcal{D}$ $\\longrightarrow$ puntuación más alta significa mayor probabilidad de ser señal\n",
    "- La clasificación discreta se logra escogiendo un *punto de operación* $\\mathcal{D}_{thr}$ $\\longrightarrow$ si $\\mathcal{D}\\geq\\mathcal{D}_{thr}$ se clasifica el evento como señal."
   ]
  },
  {
   "cell_type": "markdown",
   "metadata": {
    "slideshow": {
     "slide_type": "fragment"
    }
   },
   "source": [
    "<div class=\"alert alert-info\">\n",
    "  <strong>Nota:</strong> los clasificadores de agrupamiento no asignan puntuaciones, asignan distancias entre los datos y los centroides. En este trabajo, se tomó la distancia hacia el centroide de señal como el puntaje relacionado a la probabilidad de ser señal.\n",
    "</div>"
   ]
  },
  {
   "cell_type": "markdown",
   "metadata": {
    "slideshow": {
     "slide_type": "subslide"
    }
   },
   "source": [
    "### Curva ROC\n",
    "<center><img src=\"../tesis/figuras/ml-roc.png\" style=\"width:55%\"></center>\n",
    "<figcaption align = \"center\"> <small>Fig.23: La diagonal representa a un clasificador aleatorio o que no distingue entre clases. En este caso, el clasificador con la curva azul es mejor distinguiendo entre clases.</small></figcaption>"
   ]
  },
  {
   "cell_type": "markdown",
   "metadata": {
    "slideshow": {
     "slide_type": "fragment"
    }
   },
   "source": [
    "El *área bajo de la curva* (AUC, por sus siglas en inglés) representa la habilidad del clasificador para distinguir entre clases. Un valor de AUC de 0.5 indica que la predicción no es mejor que una clasificación aleatoria. Menor a 0.5 indica que el clasificador está clasificando de manera inversa"
   ]
  },
  {
   "cell_type": "markdown",
   "metadata": {
    "slideshow": {
     "slide_type": "subslide"
    }
   },
   "source": [
    "### Variaciones de la curva ROC\n",
    "En HEP se utilizan versiones de esta curva: la curva de *eficiencia de señal* vs. *rechazo de fondo* e *inverso de la eficiencia de fondo* vs. *eficiencia de señal*\n",
    "\n",
    "<center><img src=\"../tesis/figuras/ml-otrasroc.PNG\" style=\"width:100%\"></center>\n",
    "<figcaption align = \"center\"> <small>Fig.24: Ejemplos de otras versiones de la curva ROC.</small></figcaption>"
   ]
  },
  {
   "cell_type": "markdown",
   "metadata": {
    "slideshow": {
     "slide_type": "subslide"
    }
   },
   "source": [
    "### Curva PR\n",
    "Para datos altamente desbalanceados se suele sugerir el uso de la curva PR, donde se grafica la precisión vs. la recuperación.\n",
    "<center><img src=\"../tesis/figuras/ml-curvapr.png\" style=\"width:50%\"></center>\n",
    "<figcaption align = \"center\"> <small>Fig.25: Ejemplos de curvas precisión-recuperación.</small></figcaption>"
   ]
  },
  {
   "cell_type": "markdown",
   "metadata": {
    "slideshow": {
     "slide_type": "fragment"
    }
   },
   "source": [
    "Análogo al AUC, se utiliza la *precisión promedio* (AP, por sus siglas en inglés). La precisión promedio resume la curva PR utilizando la media ponderada de las precisiones logradas en cada umbral, usando como peso el aumento en recuperación del umbral anterior"
   ]
  },
  {
   "cell_type": "markdown",
   "metadata": {
    "slideshow": {
     "slide_type": "subslide"
    }
   },
   "source": [
    "### Mejora de la significancia\n",
    "Está definida como:\n",
    "$$\n",
    "    \\text{Mejora de la significancia} = \\frac{\\epsilon_s}{\\sqrt{\\epsilon_b}}\n",
    "$$\n",
    "Una mejora de la significancia igual a 2 significa que la mejora de la significancia inicial es amplificada por un factor de 2 después de utilizar la estrategia de clasificación.\n",
    "\n",
    "<center><img src=\"../tesis/figuras/ml-significancia.PNG\" style=\"width:50%\"></center>\n",
    "<figcaption align = \"center\"> <small>Fig.26: Ejemplo de curva de mejora de la significancia.</small></figcaption>"
   ]
  },
  {
   "cell_type": "markdown",
   "metadata": {
    "slideshow": {
     "slide_type": "subslide"
    }
   },
   "source": [
    "## ✨ Benchtools ✨\n",
    "Es un paquete de software desarrollado en python con herramientas para el manejo de datos de eventos de jets. Incluye funciones para:\n",
    "- Manejo de grandes cantidades de datos.\n",
    "- Calcular variables cinemática y de subestructura de los jets.\n",
    "- Agrupar jets y calcular variables cinemáticas.\n",
    "- Graficar datos con dos clases.\n",
    "- Calcular métricas de rendimiento de algoritmos de clasificación binaria.\n",
    "\n",
    "También incluye un *pipeline* para comparar modelos de clasificación binaria."
   ]
  },
  {
   "cell_type": "markdown",
   "metadata": {
    "slideshow": {
     "slide_type": "subslide"
    }
   },
   "source": [
    "### Preprocesamiento\n",
    "| Variable          | Descripción                                                         |\n",
    "|:------------------|:---------------------------------------------------------------------|\n",
    "| $pT_{ji}$         | Momento transversal del jet *i*                                     |\n",
    "| $m_{ji}$          | Masa invariante del jet *i*                                         |\n",
    "| $\\eta_{ji}$       | Pseudorapidez del jet *i*                                           |\n",
    "| $\\phi_{ji}$       | Ángulo azimutal en el plano transverso del jet *i*                  |\n",
    "| $E_{ji}$          | Energía del jet *i*                                                 |\n",
    "| $\\tau_{21,ji}$    | Subjetiness del jet *i*                                             |\n",
    "| nro. hadrones $ji$| Número de hadrones constituyentes del jet *i*                       |\n",
    "| $\\Delta R$        | Distancia angular entre los dos jets principales                    |\n",
    "| $m_{jj}$          | Masa invariante de los dos jets principales                         |\n",
    "| nro. hadrones     | Número de hadrones del evento                                       |"
   ]
  },
  {
   "cell_type": "markdown",
   "metadata": {
    "slideshow": {
     "slide_type": "subslide"
    }
   },
   "source": [
    "### Pipeline\n",
    "<center><img src=\"../tesis/figuras/bench-pipeline.png\" style=\"width:100%\"></center>\n",
    "<figcaption align = \"center\"> <small>Fig.27: Diagrama del pipeline de <code>benchtools</code>.</small></figcaption>"
   ]
  },
  {
   "cell_type": "markdown",
   "metadata": {
    "slideshow": {
     "slide_type": "slide"
    }
   },
   "source": [
    "# <font color='#307a71'>Exploración de datos</font>"
   ]
  },
  {
   "cell_type": "markdown",
   "metadata": {
    "slideshow": {
     "slide_type": "subslide"
    }
   },
   "source": [
    "## Datos sin preprocesar\n",
    "Podemos ver los datos antes de hacer el agrupamiento en jets."
   ]
  },
  {
   "cell_type": "markdown",
   "metadata": {
    "slideshow": {
     "slide_type": "fragment"
    }
   },
   "source": [
    "### Estructura de los datos\n",
    "Cada fila es un evento y la última columna hace referencia a si el evento es fondo (0) o señal (1).\n",
    "\n",
    "|Evento   |$pT$     | $\\eta$  | $\\phi$  | $pT$    | $\\eta$  | $\\phi$  | $\\cdots$| señal |\n",
    "|---------|---------|---------|---------|---------|---------|---------|---------|-------|\n",
    "| 1       | $\\cdots$| $\\cdots$| $\\cdots$| $\\cdots$| $\\cdots$| $\\cdots$| $\\cdots$| 1.0   |\n",
    "| 2       | $\\cdots$| $\\cdots$| $\\cdots$| $\\cdots$| $\\cdots$| $\\cdots$| $\\cdots$| 0.0   |\n",
    "| $\\vdots$| $\\cdots$| $\\cdots$| $\\cdots$| $\\cdots$| $\\cdots$| $\\cdots$| $\\cdots$| 0.0   |"
   ]
  },
  {
   "cell_type": "markdown",
   "metadata": {
    "slideshow": {
     "slide_type": "subslide"
    }
   },
   "source": [
    "## Datos preprocesados\n",
    "Cada grupo participante de las LHCO 2020 preprocesa los datos de manera distinta."
   ]
  },
  {
   "cell_type": "markdown",
   "metadata": {
    "slideshow": {
     "slide_type": "subslide"
    }
   },
   "source": [
    "### Benchtools"
   ]
  },
  {
   "cell_type": "markdown",
   "metadata": {
    "slideshow": {
     "slide_type": "subslide"
    }
   },
   "source": [
    "### UCluster"
   ]
  },
  {
   "cell_type": "markdown",
   "metadata": {
    "slideshow": {
     "slide_type": "subslide"
    }
   },
   "source": [
    "### GAN-AE"
   ]
  },
  {
   "cell_type": "markdown",
   "metadata": {
    "slideshow": {
     "slide_type": "slide"
    }
   },
   "source": [
    "# <font color='#307a71'>Resultados</font>"
   ]
  },
  {
   "cell_type": "markdown",
   "metadata": {
    "slideshow": {
     "slide_type": "slide"
    }
   },
   "source": [
    "# <font color='#307a71'>Conclusiones</font>"
   ]
  },
  {
   "cell_type": "markdown",
   "metadata": {
    "slideshow": {
     "slide_type": "slide"
    }
   },
   "source": [
    "*Slide Type: Slide*\n",
    "\n",
    "### Thanks for reading!"
   ]
  }
 ],
 "metadata": {
  "celltoolbar": "Slideshow",
  "kernelspec": {
   "display_name": "Python 3",
   "language": "python",
   "name": "python3"
  },
  "language_info": {
   "codemirror_mode": {
    "name": "ipython",
    "version": 3
   },
   "file_extension": ".py",
   "mimetype": "text/x-python",
   "name": "python",
   "nbconvert_exporter": "python",
   "pygments_lexer": "ipython3",
   "version": "3.8.11"
  },
  "toc": {
   "base_numbering": 1,
   "nav_menu": {},
   "number_sections": true,
   "sideBar": true,
   "skip_h1_title": false,
   "title_cell": "Table of Contents",
   "title_sidebar": "Contents",
   "toc_cell": false,
   "toc_position": {},
   "toc_section_display": true,
   "toc_window_display": false
  }
 },
 "nbformat": 4,
 "nbformat_minor": 4
}
