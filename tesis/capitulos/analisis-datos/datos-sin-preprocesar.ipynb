{
 "cells": [
  {
   "cell_type": "markdown",
   "metadata": {},
   "source": [
    "(rawdata)=\n",
    "# Datos sin pre-procesar\n",
    "Los dos conjuntos de datos utilizados en este trabajo, como se explica en la {numref}`datos`, poseen la misma señal de nueva física. Se diferencian por las masas de las partículas BSM y las fracciones de eventos de señal y fondo. En esta sección se realizará una breve exploración de los datos R&D y BB1 publicados para las LHCO 2020. \n",
    "\n",
    "\n",
<<<<<<< HEAD
    "Para esta sección, utilizamos los primeros 100,000 eventos de cada conjunto."
=======
    "```{figure} ./../../figuras/lhco-RnD.png\n",
    "---\n",
    "name: rawdata-senal\n",
    "figclass: margin\n",
    "---\n",
    "Diagrama de Feynmann para la señal.\n",
    "```\n",
<<<<<<< HEAD
    "Para esta sección, utilizamos los primeros 100,000 eventos de cada conjunto de datos por dos razones: utilizar todos los eventos no es posible porque requiere una gran cantidad de memoria y 100,000 eventos es suficiente para observar las distribuciones de los datos. Los datos utilizados representan el 9% y el 10% de los eventos del conjunto R&D y BB1, respectivamente, y poseen la misma proporción de señal y fondo que cada uno de conjuntos en su totalidad."
>>>>>>> discusion-conclusion
=======
    "Para esta sección, utilizamos los primeros 100,000 eventos de cada conjunto de datos por dos razones: utilizar todos los eventos no es posible porque requiere una gran cantidad de memoria y 100,000 eventos son suficientes para observar las distribuciones de los datos. Los datos utilizados representan el 9% y el 10% de los eventos del conjunto R&D y BB1, respectivamente, y poseen la misma proporción de señal y fondo que cada uno de los conjuntos en su totalidad."
>>>>>>> correcciones-1
   ]
  },
  {
   "cell_type": "code",
   "execution_count": 1,
   "metadata": {
    "tags": [
     "remove-cell"
    ]
   },
   "outputs": [],
   "source": [
    "# Importamos las librerías principales\n",
    "import pandas as pd\n",
    "import numpy as np\n",
    "import matplotlib.pyplot as plt\n",
    "from myst_nb import glue\n",
    "from PIL import Image\n",
    "import os\n",
    "\n",
    "# Funciones de benchtools\n",
    "from benchtools.src.datatools import ascii_column\n",
    "from benchtools.src.plotools import bkg_sig_hist, create_png, image_grid\n",
    "\n",
    "# Definimos variables globales\n",
    "PATH_IMAGES = '../../figuras/'"
   ]
  },
  {
   "cell_type": "markdown",
   "metadata": {},
   "source": [
    "(rawdata-estruc)=\n",
    "## Estructura\n",
    "El conjunto de datos R&D y BB1 publicados para las olimpiadas posee un evento por fila, con la información de $p_T$, $\\eta$ y $\\phi$ para cada hadrón del evento, como se muestra en {numref}`rawdata-rawdataframe`. La diferencia entre ambos archivos recae en que el conjunto R&D tiene en la última columna la etiqueta del evento (señal o fondo), mientras que para el conjunto BB1 la etiqueta se encuentra en un archivo aparte.\n",
    "\n",
    "```{table} Estructura del conjunto de datos R&D. Cada fila es un evento y la última columna hace referencia a si el evento es fondo (0) o señal (1).\n",
    ":name: rawdata-rawdataframe\n",
    "|Evento   |$pT$     | $\\eta$  | $\\phi$  | $pT$    | $\\eta$  | $\\phi$  | $\\cdots$| señal |\n",
    "|---------|---------|---------|---------|---------|---------|---------|---------|-------|\n",
    "| 1       | $\\cdots$| $\\cdots$| $\\cdots$| $\\cdots$| $\\cdots$| $\\cdots$| $\\cdots$| 1.0   |\n",
    "| 2       | $\\cdots$| $\\cdots$| $\\cdots$| $\\cdots$| $\\cdots$| $\\cdots$| $\\cdots$| 0.0   |\n",
    "| $\\vdots$| $\\cdots$| $\\cdots$| $\\cdots$| $\\cdots$| $\\cdots$| $\\cdots$| $\\cdots$| 0.0   |\n",
    "```\n",
    "El conjunto R&D posee 1,000,000 de eventos de fondo y 100,000 de señal (aproximadamente 9.09% de los eventos son señal). En este conjunto las partículas $Z'$, $X$ y $Y$ tienen masas de 3.5 TeV, 500 GeV y 100 GeV, respectivamente. En el conjunto BB1, las partículas $Z'$, $X$ y $Y$ tienen masas de 3,823 TeV, 732 GeV y 378 GeV, respectivamente, con un porcentaje menor de señal: de 1,000,000, 834 son señal, es decir, el 0.08% es señal.\n",
    "\n",
    "La información de los primeros 5 eventos del conjunto R&D se puede observar en la {numref}`df-raw`."
   ]
  },
  {
   "cell_type": "code",
   "execution_count": 2,
   "metadata": {
    "tags": [
     "remove-cell"
    ]
   },
   "outputs": [
    {
     "data": {
      "application/papermill.record/text/html": "<div>\n<style scoped>\n    .dataframe tbody tr th:only-of-type {\n        vertical-align: middle;\n    }\n\n    .dataframe tbody tr th {\n        vertical-align: top;\n    }\n\n    .dataframe thead th {\n        text-align: right;\n    }\n</style>\n<table border=\"1\" class=\"dataframe\">\n  <thead>\n    <tr style=\"text-align: right;\">\n      <th></th>\n      <th>0</th>\n      <th>1</th>\n      <th>2</th>\n      <th>3</th>\n      <th>4</th>\n      <th>5</th>\n      <th>6</th>\n      <th>7</th>\n      <th>8</th>\n      <th>9</th>\n      <th>...</th>\n      <th>2091</th>\n      <th>2092</th>\n      <th>2093</th>\n      <th>2094</th>\n      <th>2095</th>\n      <th>2096</th>\n      <th>2097</th>\n      <th>2098</th>\n      <th>2099</th>\n      <th>2100</th>\n    </tr>\n  </thead>\n  <tbody>\n    <tr>\n      <th>0</th>\n      <td>0.324101</td>\n      <td>-0.361158</td>\n      <td>2.737669</td>\n      <td>0.409859</td>\n      <td>-2.429939</td>\n      <td>0.729830</td>\n      <td>0.867922</td>\n      <td>-2.267777</td>\n      <td>-1.161310</td>\n      <td>0.383031</td>\n      <td>...</td>\n      <td>0.0</td>\n      <td>0.0</td>\n      <td>0.0</td>\n      <td>0.0</td>\n      <td>0.0</td>\n      <td>0.0</td>\n      <td>0.0</td>\n      <td>0.0</td>\n      <td>0.0</td>\n      <td>0.0</td>\n    </tr>\n    <tr>\n      <th>1</th>\n      <td>0.646304</td>\n      <td>-0.539460</td>\n      <td>-1.386258</td>\n      <td>0.471293</td>\n      <td>-1.636572</td>\n      <td>0.751657</td>\n      <td>0.453769</td>\n      <td>-1.099593</td>\n      <td>-0.393405</td>\n      <td>0.485929</td>\n      <td>...</td>\n      <td>0.0</td>\n      <td>0.0</td>\n      <td>0.0</td>\n      <td>0.0</td>\n      <td>0.0</td>\n      <td>0.0</td>\n      <td>0.0</td>\n      <td>0.0</td>\n      <td>0.0</td>\n      <td>0.0</td>\n    </tr>\n    <tr>\n      <th>2</th>\n      <td>0.325172</td>\n      <td>-0.833948</td>\n      <td>2.404844</td>\n      <td>1.295058</td>\n      <td>-2.089618</td>\n      <td>-1.873342</td>\n      <td>0.451272</td>\n      <td>-0.101877</td>\n      <td>2.217348</td>\n      <td>0.461293</td>\n      <td>...</td>\n      <td>0.0</td>\n      <td>0.0</td>\n      <td>0.0</td>\n      <td>0.0</td>\n      <td>0.0</td>\n      <td>0.0</td>\n      <td>0.0</td>\n      <td>0.0</td>\n      <td>0.0</td>\n      <td>0.0</td>\n    </tr>\n    <tr>\n      <th>3</th>\n      <td>0.290918</td>\n      <td>-2.200063</td>\n      <td>1.630132</td>\n      <td>0.565028</td>\n      <td>-1.714345</td>\n      <td>-2.617103</td>\n      <td>0.951042</td>\n      <td>-0.532720</td>\n      <td>2.941473</td>\n      <td>0.896248</td>\n      <td>...</td>\n      <td>0.0</td>\n      <td>0.0</td>\n      <td>0.0</td>\n      <td>0.0</td>\n      <td>0.0</td>\n      <td>0.0</td>\n      <td>0.0</td>\n      <td>0.0</td>\n      <td>0.0</td>\n      <td>0.0</td>\n    </tr>\n    <tr>\n      <th>4</th>\n      <td>0.526330</td>\n      <td>-2.349110</td>\n      <td>-1.745532</td>\n      <td>0.542491</td>\n      <td>-2.080352</td>\n      <td>-3.044045</td>\n      <td>0.390727</td>\n      <td>-1.278563</td>\n      <td>-2.131058</td>\n      <td>2.530358</td>\n      <td>...</td>\n      <td>0.0</td>\n      <td>0.0</td>\n      <td>0.0</td>\n      <td>0.0</td>\n      <td>0.0</td>\n      <td>0.0</td>\n      <td>0.0</td>\n      <td>0.0</td>\n      <td>0.0</td>\n      <td>1.0</td>\n    </tr>\n  </tbody>\n</table>\n<p>5 rows × 2101 columns</p>\n</div>",
      "application/papermill.record/text/plain": "       0         1         2         3         4         5         6     \\\n0  0.324101 -0.361158  2.737669  0.409859 -2.429939  0.729830  0.867922   \n1  0.646304 -0.539460 -1.386258  0.471293 -1.636572  0.751657  0.453769   \n2  0.325172 -0.833948  2.404844  1.295058 -2.089618 -1.873342  0.451272   \n3  0.290918 -2.200063  1.630132  0.565028 -1.714345 -2.617103  0.951042   \n4  0.526330 -2.349110 -1.745532  0.542491 -2.080352 -3.044045  0.390727   \n\n       7         8         9     ...  2091  2092  2093  2094  2095  2096  \\\n0 -2.267777 -1.161310  0.383031  ...   0.0   0.0   0.0   0.0   0.0   0.0   \n1 -1.099593 -0.393405  0.485929  ...   0.0   0.0   0.0   0.0   0.0   0.0   \n2 -0.101877  2.217348  0.461293  ...   0.0   0.0   0.0   0.0   0.0   0.0   \n3 -0.532720  2.941473  0.896248  ...   0.0   0.0   0.0   0.0   0.0   0.0   \n4 -1.278563 -2.131058  2.530358  ...   0.0   0.0   0.0   0.0   0.0   0.0   \n\n   2097  2098  2099  2100  \n0   0.0   0.0   0.0   0.0  \n1   0.0   0.0   0.0   0.0  \n2   0.0   0.0   0.0   0.0  \n3   0.0   0.0   0.0   0.0  \n4   0.0   0.0   0.0   1.0  \n\n[5 rows x 2101 columns]"
     },
     "metadata": {
      "scrapbook": {
       "mime_prefix": "application/papermill.record/",
       "name": "df-raw"
      }
     },
     "output_type": "display_data"
    }
   ],
   "source": [
    "# Cargamos 100,000 eventos\n",
    "path_data = \"../../../datos/events_anomalydetection.h5\"\n",
    "df_RnD = pd.read_hdf(path_data, stop=100000)\n",
    "glue(\"df-raw\", df_RnD.head(), display=False)"
   ]
  },
  {
   "cell_type": "markdown",
   "metadata": {},
   "source": [
    "```{glue:figure} df-raw\n",
    ":figwidth: 600px\n",
    ":name: \"df-raw\"\n",
    "\n",
    "Primeros 5 eventos de los datos R&D. Cada fila representa un evento y cada columna representa una medida de la cinemática de un hadrón, como se muestra en la {numref}`rawdata-rawdataframe`. La columna 2100 representa la etiqueta del evento (señal o fondo).\n",
    "```"
   ]
  },
  {
   "cell_type": "markdown",
   "metadata": {},
   "source": [
    "En general, cada evento tiene un número distinto de hadrónes. Por ejemplo, para los primeros eventos del conjunto R&D se tienen:"
   ]
  },
  {
   "cell_type": "code",
   "execution_count": 3,
   "metadata": {
    "tags": [
     "remove-input"
    ]
   },
   "outputs": [
    {
     "name": "stdout",
     "output_type": "stream",
     "text": [
      "Evento 0: 109 hadrones\n",
      "Evento 1: 208 hadrones\n",
      "Evento 2: 196 hadrones\n",
      "Evento 3: 183 hadrones\n",
      "Evento 4: 169 hadrones\n"
     ]
    }
   ],
   "source": [
    "# Eliminamos la señal para evitar contar los hadrónes\n",
    "ns_df_RnD = df_RnD.iloc[:,:-1]  \n",
    "\n",
    "# Contamos los valores de pT distintos de cero\n",
    "df_RnD['n_hadróns'] = ns_df_RnD.iloc[:,::3].gt(0).sum(axis='columns')\n",
    "\n",
    "# Imprimimos para los primeros 5 eventos    \n",
    "for event in range(5):\n",
    "    print(\"Evento {}: {} hadrónes\".format(event, df_RnD.loc[event,'n_hadróns']))"
   ]
  },
  {
   "cell_type": "markdown",
   "metadata": {},
   "source": [
    "(rawdata-dist)=\n",
    "## Distribuciones\n",
    "Para ambos conjuntos, las distribuciones de los datos son similares, a excepción de la evidente diferencia entre la proporción de eventos de señal."
   ]
  },
  {
   "cell_type": "code",
   "execution_count": 4,
   "metadata": {
    "tags": [
     "remove-cell"
    ]
   },
   "outputs": [],
   "source": [
    "# Cargamos 100,000 eventos de los datos BB1 \n",
    "df_BB1_nk = pd.read_hdf('../../../datos/events_LHCO2020_BlackBox1.h5', stop=100000)\n",
    "# Cargamos las estiquetas\n",
    "df_key = ascii_column('../../../datos/events_LHCO2020_BlackBox1.masterkey', column_name=2100)\n",
    "# Juntamos los dataframes\n",
    "df_BB1 = pd.concat([df_BB1_nk, df_key.iloc[:100000]], axis=1, sort=False)\n",
    "# Contamos el numero de hadrónes\n",
    "# Eliminamos la señal para evitar contar los hadrónes\n",
    "ns_df_BB1 = df_BB1.iloc[:,:-1]  \n",
    "df_BB1['n_hadróns'] = ns_df_BB1.iloc[:,::3].gt(0).sum(axis='columns')"
   ]
  },
  {
   "cell_type": "code",
   "execution_count": 5,
   "metadata": {
    "tags": [
     "remove-cell"
    ]
   },
   "outputs": [
    {
     "data": {
      "text/plain": [
       "<Figure size 432x576 with 0 Axes>"
      ]
     },
     "metadata": {},
     "output_type": "display_data"
    },
    {
     "data": {
      "text/plain": [
       "<Figure size 432x288 with 0 Axes>"
      ]
     },
     "metadata": {},
     "output_type": "display_data"
    },
    {
     "data": {
      "text/plain": [
       "<Figure size 432x576 with 0 Axes>"
      ]
     },
     "metadata": {},
     "output_type": "display_data"
    },
    {
     "data": {
      "text/plain": [
       "<Figure size 432x288 with 0 Axes>"
      ]
     },
     "metadata": {},
     "output_type": "display_data"
    }
   ],
   "source": [
    "for name, df in zip(['RnD', 'BB1'], [df_RnD,df_BB1]):\n",
    "    # Graficamos utilizando benchtools\n",
    "    fig = plt.figure(facecolor='white', figsize=(6,8));\n",
    "    bkg_sig_hist(df, variable='n_hadróns', label=2100, n_bins=20); # label=2100 porque esa es la columna de señal\n",
    "    plt.title('Nro. hadrónes {}'.format(name))\n",
    "    plt.savefig(os.path.join('../../figuras/','rawdata-{}-nhadróns.png'.format(name)), bbox_inches='tight', facecolor=fig.get_facecolor(),edgecolor='none')\n",
    "    plt.clf()\n",
    "\n",
    "# Creamos un grid de las imagenes usando benchtools\n",
    "imagenes = ['./../../figuras/rawdata-RnD-nhadróns.png', './../../figuras/rawdata-BB1-nhadróns.png']\n",
    "image_grid(rows=1, columns=2, images=imagenes, name='rawdata-nhadrónes', path=PATH_IMAGES, remove=True)"
   ]
  },
  {
   "cell_type": "markdown",
   "metadata": {},
   "source": [
    "```{figure} ./../../figuras/rawdata-nhadrones.png\n",
    "---\n",
    "name: rawdata-nhadrones\n",
    "width: 80%\n",
    "---\n",
    "Distribución del número de hadrones para eventos de señal y fondo. A la izquierda el conjunto R&D y a la derecha el conjunto BB1.\n",
    "```"
   ]
  },
  {
   "cell_type": "code",
   "execution_count": 6,
   "metadata": {
    "tags": [
     "remove-cell"
    ]
   },
   "outputs": [
    {
     "data": {
      "application/papermill.record/text/plain": "139.69080472458327"
     },
     "metadata": {
      "scrapbook": {
       "mime_prefix": "application/papermill.record/",
       "name": "mean_nhad_RnD_sig"
      }
     },
     "output_type": "display_data"
    },
    {
     "data": {
      "application/papermill.record/text/plain": "147.025"
     },
     "metadata": {
      "scrapbook": {
       "mime_prefix": "application/papermill.record/",
       "name": "mean_nhad_BB1_sig"
      }
     },
     "output_type": "display_data"
    },
    {
     "data": {
      "application/papermill.record/text/plain": "171.3385711615223"
     },
     "metadata": {
      "scrapbook": {
       "mime_prefix": "application/papermill.record/",
       "name": "mean_nhad_RnD_bkg"
      }
     },
     "output_type": "display_data"
    },
    {
     "data": {
      "application/papermill.record/text/plain": "173.6753903122498"
     },
     "metadata": {
      "scrapbook": {
       "mime_prefix": "application/papermill.record/",
       "name": "mean_nhad_BB1_bkg"
      }
     },
     "output_type": "display_data"
    }
   ],
   "source": [
    "# En esta celda calculamos la media del numero de hadrónes de la figura anterior\n",
    "# Señal\n",
    "mean_nhad_RnD_sig = df_RnD.loc[df_RnD[2100]==1]['n_hadróns'].mean()\n",
    "mean_nhad_BB1_sig = df_BB1.loc[df_BB1[2100]==1]['n_hadróns'].mean()\n",
    "# Fondo\n",
    "mean_nhad_RnD_bkg = df_RnD.loc[df_RnD[2100]==0]['n_hadróns'].mean()\n",
    "mean_nhad_BB1_bkg = df_BB1.loc[df_BB1[2100]==0]['n_hadróns'].mean()\n",
    "\n",
    "glue(\"mean_nhad_RnD_sig\", mean_nhad_RnD_sig, display=False)\n",
    "glue(\"mean_nhad_BB1_sig\", mean_nhad_BB1_sig, display=False)\n",
    "glue(\"mean_nhad_RnD_bkg\", mean_nhad_RnD_bkg, display=False)\n",
    "glue(\"mean_nhad_BB1_bkg\", mean_nhad_BB1_bkg, display=False)\n"
   ]
  },
  {
   "cell_type": "markdown",
   "metadata": {},
   "source": [
    "Como se puede ver en la {numref}`rawdata-nhadones`, el conjunto R&D posee una media de {glue:text}`mean_nhad_RnD_sig:.0f` hadrones por evento para la señal, y de {glue:text}`mean_nhad_RnD_bkg:.0f` hadrones por evento para el fondo. El conjunto BB1 es similar, con una media de {glue:text}`mean_nhad_BB1_sig:.0f` y {glue:text}`mean_nhad_BB1_bkg:.0f` hadrones por evento para señal y fondo, respectivamente. En general, los eventos de señal producen menos hadrones.\n",
    "\n",
    "Las distribuciones de la media de las variables $p_T$, $\\eta$ y $\\phi$ por evento se puede observar en las {numref}`rawdata-meanRnD` y {numref}`rawdata-meanBB1`, para el conjunto R&D y el conjunto BB1, respectivamente."
   ]
  },
  {
   "cell_type": "code",
   "execution_count": 7,
   "metadata": {
    "tags": [
     "remove-cell"
    ]
   },
   "outputs": [
    {
     "data": {
      "text/plain": [
       "<Figure size 432x288 with 0 Axes>"
      ]
     },
     "metadata": {},
     "output_type": "display_data"
    },
    {
     "data": {
      "text/plain": [
       "<Figure size 432x288 with 0 Axes>"
      ]
     },
     "metadata": {},
     "output_type": "display_data"
    },
    {
     "data": {
      "text/plain": [
       "<Figure size 432x288 with 0 Axes>"
      ]
     },
     "metadata": {},
     "output_type": "display_data"
    },
    {
     "data": {
      "text/plain": [
       "<Figure size 432x288 with 0 Axes>"
      ]
     },
     "metadata": {},
     "output_type": "display_data"
    },
    {
     "data": {
      "text/plain": [
       "<Figure size 432x288 with 0 Axes>"
      ]
     },
     "metadata": {},
     "output_type": "display_data"
    },
    {
     "data": {
      "text/plain": [
       "<Figure size 432x288 with 0 Axes>"
      ]
     },
     "metadata": {},
     "output_type": "display_data"
    },
    {
     "data": {
      "text/plain": [
       "<Figure size 432x288 with 0 Axes>"
      ]
     },
     "metadata": {},
     "output_type": "display_data"
    },
    {
     "data": {
      "text/plain": [
       "<Figure size 432x288 with 0 Axes>"
      ]
     },
     "metadata": {},
     "output_type": "display_data"
    },
    {
     "data": {
      "text/plain": [
       "<Figure size 432x288 with 0 Axes>"
      ]
     },
     "metadata": {},
     "output_type": "display_data"
    },
    {
     "data": {
      "text/plain": [
       "<Figure size 432x288 with 0 Axes>"
      ]
     },
     "metadata": {},
     "output_type": "display_data"
    },
    {
     "data": {
      "text/plain": [
       "<Figure size 432x288 with 0 Axes>"
      ]
     },
     "metadata": {},
     "output_type": "display_data"
    },
    {
     "data": {
      "text/plain": [
       "<Figure size 432x288 with 0 Axes>"
      ]
     },
     "metadata": {},
     "output_type": "display_data"
    }
   ],
   "source": [
    "# En esta celda graficamos la distribución del valor medio de pT, eta y phi de cada evento.\n",
    "\n",
    "# Cada 3 valores es pT, cada 3 empezando por 1 es eta \n",
    "# y cada 3 empezando por 2 es phi.\n",
    "# Remplazamos los ceros con NaN para poder utilizar .mean()\n",
    "for name, ns_df, df, nbins in zip(['RnD', 'BB1'], [ns_df_RnD, ns_df_BB1], [df_RnD,df_BB1], [50,20]):\n",
    "    pt_df = ns_df.iloc[:,::3].replace(0, np.NaN)\n",
    "    eta_df = ns_df.iloc[:,1::3].replace(0, np.NaN)\n",
    "    phi_df = ns_df.iloc[:,2::3].replace(0, np.NaN)\n",
    "\n",
    "    # Calculamos la media de cada evento\n",
    "    df['mean_pT'] = pt_df.mean(axis=1)\n",
    "    df['mean_eta']= eta_df.mean(axis=1)\n",
    "    df['mean_phi']= phi_df.mean(axis=1)\n",
    "\n",
    "    # Graficamos cada variable\n",
    "    variables = ['mean_pT', 'mean_eta', 'mean_phi']\n",
    "    for variable in variables:\n",
    "        fig = plt.figure(facecolor='white')\n",
    "        bkg_sig_hist(df, variable, label=2100, n_bins=nbins)\n",
    "        plt.title('{}: Distribución de {} '.format(name,variable))\n",
    "        plt.savefig(os.path.join('../../figuras/','rawdata-{}-{}.png'.format(variable,name)), bbox_inches='tight', facecolor=fig.get_facecolor(),edgecolor='none')\n",
    "        plt.clf()\n",
    "\n",
    "# Creamos un grid para RnD\n",
    "imagenes = ['./../../figuras/rawdata-mean_pT-RnD.png', \n",
    "'./../../figuras/rawdata-mean_eta-RnD.png',\n",
    "'./../../figuras/rawdata-mean_phi-RnD.png']\n",
    "image_grid(rows=1, columns=3, images=imagenes, name='rawdata-means-RnD', path=PATH_IMAGES, remove=True)\n",
    "\n",
    "# Creamos un grid para BB1\n",
    "imagenes = ['./../../figuras/rawdata-mean_pT-BB1.png', \n",
    "'./../../figuras/rawdata-mean_eta-BB1.png',\n",
    "'./../../figuras/rawdata-mean_phi-BB1.png']\n",
    "image_grid(rows=1, columns=3, images=imagenes, name='rawdata-means-BB1', path=PATH_IMAGES, remove=True)\n",
    "\n"
   ]
  },
  {
   "cell_type": "markdown",
   "metadata": {},
   "source": [
    "```{figure} ./../../figuras/rawdata-means-RnD.png\n",
    "---\n",
    "name: rawdata-meanRnD\n",
    "width: 100%\n",
    "---\n",
    "Distribución de la media de $p_T$, $\\eta$ y $\\phi$ para los eventos del conjunto R&D.\n",
    "```\n",
    "\n",
    "```{figure} ./../../figuras/rawdata-means-BB1.png\n",
    "---\n",
    "name: rawdata-meanBB1\n",
    "width: 100%\n",
    "---\n",
    "Distribución de la media de $p_T$, $\\eta$ y $\\phi$ para los eventos del conjunto BB1.\n",
    "```"
   ]
  },
  {
   "cell_type": "code",
   "execution_count": 8,
   "metadata": {
    "tags": [
     "remove-cell"
    ]
   },
   "outputs": [
    {
     "data": {
      "application/papermill.record/text/plain": "25.247649677146946"
     },
     "metadata": {
      "scrapbook": {
       "mime_prefix": "application/papermill.record/",
       "name": "meanpt_sig_RnD"
      }
     },
     "output_type": "display_data"
    },
    {
     "data": {
      "application/papermill.record/text/plain": "19.19757850577501"
     },
     "metadata": {
      "scrapbook": {
       "mime_prefix": "application/papermill.record/",
       "name": "meanpt_bkg_RnD"
      }
     },
     "output_type": "display_data"
    },
    {
     "data": {
      "application/papermill.record/text/plain": "25.202933721950238"
     },
     "metadata": {
      "scrapbook": {
       "mime_prefix": "application/papermill.record/",
       "name": "meanpt_sig_BB1"
      }
     },
     "output_type": "display_data"
    },
    {
     "data": {
      "application/papermill.record/text/plain": "19.942760435054584"
     },
     "metadata": {
      "scrapbook": {
       "mime_prefix": "application/papermill.record/",
       "name": "meanpt_bkg_BB1"
      }
     },
     "output_type": "display_data"
    }
   ],
   "source": [
    "# En esta celda calculamos los valores medios de pT de las figuras anteriores\n",
    "meanpt_sig_RnD = df_RnD.loc[df_RnD.iloc[:,2100]==1]['mean_pT'].mean()\n",
    "meanpt_bkg_RnD = df_RnD.loc[df_RnD.iloc[:,2100]==0]['mean_pT'].mean()\n",
    "meanpt_sig_BB1 = df_BB1.loc[df_BB1.iloc[:,2100]==1]['mean_pT'].mean()\n",
    "meanpt_bkg_BB1 = df_BB1.loc[df_BB1.iloc[:,2100]==0]['mean_pT'].mean()\n",
    "\n",
    "glue(\"meanpt_sig_RnD\", meanpt_sig_RnD, display=False)\n",
    "glue(\"meanpt_bkg_RnD\", meanpt_bkg_RnD , display=False)\n",
    "glue(\"meanpt_sig_BB1\", meanpt_sig_BB1, display=False)\n",
    "glue(\"meanpt_bkg_BB1\", meanpt_bkg_BB1, display=False)"
   ]
  },
  {
   "cell_type": "markdown",
   "metadata": {},
   "source": [
    "Las distribuciones de la señal son más claras en la {numref}`rawdata-meanRnD` que en la {numref}`rawdata-meanBB1`, debido a que hay mayor cantidad de eventos de señal. $\\phi$ y $\\eta$ no parecen diferir notablemente entre eventos de señal y fondo. Sin embargo, se observa que los valores de $p_T$ difieren, siendo el $p_T$ de los eventos de señal mayor que el $p_T$ de los eventos de fondo.\n",
    "\n",
    "En el caso del conjunto R&D, se tiene una media de $p_T$ de {glue:text}`meanpt_sig_RnD:.0f` y {glue:text}`meanpt_bkg_RnD:.0f` GeV para señal y fondo, respectivamente. Para el conjunto BB1 las medias son de {glue:text}`meanpt_sig_BB1:.0f` y {glue:text}`meanpt_bkg_BB1:.0f` GeV. En general, la media de $p_T$ de los eventos de señal es mayor."
   ]
  }
 ],
 "metadata": {
  "celltoolbar": "Tags",
  "interpreter": {
   "hash": "be244558907c567e73a32fad5ffef5514602d6da01bb2b6b51508d7e46fcc84d"
  },
  "kernelspec": {
   "display_name": "Python 3.8.11 ('base')",
   "language": "python",
   "name": "python3"
  },
  "language_info": {
   "codemirror_mode": {
    "name": "ipython",
    "version": 3
   },
   "file_extension": ".py",
   "mimetype": "text/x-python",
   "name": "python",
   "nbconvert_exporter": "python",
   "pygments_lexer": "ipython3",
   "version": "3.8.11"
  }
 },
 "nbformat": 4,
 "nbformat_minor": 2
}
