{
 "cells": [
  {
   "cell_type": "markdown",
   "metadata": {},
   "source": [
    "(dGANAE)=\n",
    "# Datos de GAN-AE\n",
    "Las variables obtenidas en el preprocesamiento de GAN-AE para los dos jets principales son{cite}`Vaslin_2020`:\n",
    "- $pT$, $\\eta$, $\\phi$, $m$ y $E$.\n",
    "- El número de subjets inclusivos y exclusivos del evento y el número de constituyentes.\n",
    "- Subjettiness: $\\tau_1$, $\\tau_2$, $\\tau_3$, $\\tau_{32}$ y $\\tau_{21}$\n",
    "- Anillos de energía definidos como $\\left(\\sum E_{const}/E_{jet}\\right)$ con $\\Delta R(jet, constit) \\in \\left[R_{jet}(i/n);R_{jet}((i+1)/n)\\right]$ y $n = 1,2,\\dots,10$.\n",
    "\n",
    "Y del evento:\n",
    "- $m_{jj}$ y número de jets $n_{jets}$ con $pT\\geq20$ GeV\n",
    "\n",
    "(dGANAE-dist)=\n",
    "## Distribuciones\n",
    "GAN-AE utiliza una gran cantidad de variables. En la {numref}`dGANAE-dist-importance` se muestran las distribuciones de las características más importantes para la clasificación de acuerdo con {cite}`Vaslin_2020`."
   ]
  },
  {
   "cell_type": "code",
   "execution_count": 1,
   "metadata": {
    "tags": [
     "remove-cell"
    ]
   },
   "outputs": [],
   "source": [
    "# Importamos librerias básicas\n",
    "import pandas as pd\n",
    "import h5py\n",
    "import numpy as np\n",
    "import matplotlib.pyplot as plt\n",
    "import nexusformat.nexus as nx\n",
    "import os\n",
    "\n",
    "# Funciones de benchtools\n",
    "from benchtools.src.plotools import bkg_sig_hist, bkg_sig_scatter, create_png, image_grid\n",
    "\n",
    "# Definimos el path de las imagenes\n",
    "PATH_FIGURES = '../../figuras/'"
   ]
  },
  {
   "cell_type": "code",
   "execution_count": 2,
   "metadata": {
    "tags": [
     "remove-cell"
    ]
   },
   "outputs": [],
   "source": [
    "# Cargamos los datos\n",
    "df_bkg = pd.read_hdf('../../../datos/bkgHLF_merged_RnD.h5')\n",
    "df_sig=pd.read_hdf('../../../datos/sigHLF_merged_RnD.h5')\n",
    "# Agregamos las etiquetas de señal y fondo\n",
    "df_bkg['label']=0\n",
    "df_sig['label']=1\n",
    "# Juntamos dfs\n",
    "df = pd.concat([df_bkg, df_sig])"
   ]
  },
  {
   "cell_type": "code",
   "execution_count": 18,
   "metadata": {
    "tags": [
     "remove-cell"
    ]
   },
   "outputs": [
    {
     "data": {
      "text/plain": [
       "<Figure size 432x288 with 0 Axes>"
      ]
     },
     "metadata": {},
     "output_type": "display_data"
    },
    {
     "data": {
      "text/plain": [
       "<Figure size 432x288 with 0 Axes>"
      ]
     },
     "metadata": {},
     "output_type": "display_data"
    },
    {
     "data": {
      "text/plain": [
       "<Figure size 432x288 with 0 Axes>"
      ]
     },
     "metadata": {},
     "output_type": "display_data"
    },
    {
     "data": {
      "text/plain": [
       "<Figure size 432x288 with 0 Axes>"
      ]
     },
     "metadata": {},
     "output_type": "display_data"
    },
    {
     "data": {
      "text/plain": [
       "<Figure size 432x288 with 0 Axes>"
      ]
     },
     "metadata": {},
     "output_type": "display_data"
    },
    {
     "data": {
      "text/plain": [
       "<Figure size 432x288 with 0 Axes>"
      ]
     },
     "metadata": {},
     "output_type": "display_data"
    },
    {
     "data": {
      "text/plain": [
       "<Figure size 432x288 with 0 Axes>"
      ]
     },
     "metadata": {},
     "output_type": "display_data"
    }
   ],
   "source": [
    "# Graficamos la distribución de variables\n",
    "# Definimos los datos para graficar separados por jet principal y jet secundario\n",
    "#variables = ['mjj', 'm1', 'm2','pt1', 'pt2', '21tau1', '21tau2']\n",
    "variables1 = ['m1','pt1','21tau1']\n",
    "variables2 = ['m2','pt2','21tau2']\n",
    "variables3 = ['mjj']\n",
    "\n",
    "xlabels12 = [r'$m$', r'$pT$', r'$\\tau_{21}$']\n",
    "xlabels3 = [r'$m_{jj}$']\n",
    "\n",
    "# Graficamos\n",
    "lista=[]\n",
    "for variables, jet, xlabels in zip([variables1, variables2, variables3],['jet principal', 'jet secundario', None],[xlabels12, xlabels12, xlabels3]):\n",
    "    lista_imagenes = create_png(namedf='GAN-AE', df=df, variables=variables, keyname='dist', path=PATH_FIGURES, \n",
    "                                xlabels=xlabels, ylabels=['Densidad de eventos']*3,jet=jet, nbins=50, type='distribution',title=True)\n",
    "    for filename in lista_imagenes:\n",
    "        lista.append(filename)\n",
    "    \n",
    "# Grid de imagenes\n",
    "image_grid(rows=2, columns=4, images=lista, name='dGANAE-dist-importance', path=PATH_FIGURES, remove=True)"
   ]
  },
  {
   "cell_type": "code",
   "execution_count": 4,
   "metadata": {
    "tags": [
     "remove-cell"
    ]
   },
   "outputs": [
    {
     "data": {
      "text/plain": [
       "<Figure size 432x288 with 0 Axes>"
      ]
     },
     "metadata": {},
     "output_type": "display_data"
    },
    {
     "data": {
      "text/plain": [
       "<Figure size 432x288 with 0 Axes>"
      ]
     },
     "metadata": {},
     "output_type": "display_data"
    },
    {
     "data": {
      "text/plain": [
       "<Figure size 432x288 with 0 Axes>"
      ]
     },
     "metadata": {},
     "output_type": "display_data"
    }
   ],
   "source": [
    "# Graficamos la distribución de variables\n",
    "variables = ['nisj1', 'nisj2', '1tau2']\n",
    "xlabels = ['n. subjets inclusivos del jet principal', 'n. subjets inclusivos del jet secundario', r'$\\tau_1$ del jet secundario']\n",
    "\n",
    "# Definimos las funciones aquí porque necesito cambiar los bins de señal y fondo solo para estos plots\n",
    "def bkg_sig_hist(df, variable, label, xlabel=None, ylabel='Events density', n_bins_sig=50, n_bins_bkg=50):\n",
    "    # Getting the labels\n",
    "    labels = df[label].unique()\n",
    "    colors = ['b','r','y']\n",
    "    \n",
    "    fig = plt.figure()\n",
    "    ax = fig.add_subplot(1, 1, 1)\n",
    "    \n",
    "    for integer, color in zip(labels, colors):\n",
    "    # Plotting the histogramas\n",
    "        df_plot = df.loc[df.loc[:,label]==integer]\n",
    "        df_plot = df_plot[variable]\n",
    "        if len(labels)==2:\n",
    "            if integer == 0:\n",
    "                df_plot.plot.hist(bins=n_bins_bkg, facecolor=color, alpha=0.2, label='background'.format(integer), density=True)\n",
    "            else:\n",
    "                df_plot.plot.hist(bins=n_bins_sig, facecolor=color, alpha=0.2, label='signal'.format(integer), density=True)\n",
    "    \n",
    "    # Adding information to the plot\n",
    "    if xlabel != None:\n",
    "        plt.xlabel(xlabel)\n",
    "    else: \n",
    "        plt.xlabel(variable)\n",
    "        \n",
    "    plt.ylabel(ylabel)\n",
    "    plt.legend(loc='upper right')\n",
    "    plt.title('Distribution of {}'.format(variable))\n",
    "    \n",
    "    return ax\n",
    "\n",
    "def create_png_esp(namedf, df, variables, keyname, path, xlabels, ylabels, jet=None , nbins_bkg=50, nbins_sig=50, type='distribution', title=False):\n",
    "    list_images= []\n",
    "    for variable, xlabel, ylabel in zip(variables, xlabels, ylabels):\n",
    "        # Plotting\n",
    "        fig = plt.figure(facecolor='white')\n",
    "        bkg_sig_hist(df, variable=variable, label='label', xlabel=xlabel, ylabel=ylabel, n_bins_sig=nbins_sig, n_bins_bkg=nbins_bkg)\n",
    "        if title is True:\n",
    "            # Title (in spanish but can be changed)\n",
    "            if jet != None:\n",
    "                plt.title('{}: distribución de '.format(namedf)+ xlabel+' del '+ jet)\n",
    "            else:\n",
    "                plt.title('{}: distribución de '.format(namedf)+ xlabel)\n",
    "        # Defining path and name of the files\n",
    "        filename = os.path.join(path,'{}-{}-{}.png'.format(keyname,namedf,variable))\n",
    "        # Saving the path of each file\n",
    "        list_images.append(filename)\n",
    "        # Saving the figure as a png\n",
    "        plt.savefig(filename, bbox_inches='tight', facecolor=fig.get_facecolor(),edgecolor='none')\n",
    "        plt.close()\n",
    "    return list_images\n",
    "\n",
    "\n",
    "\n",
    "lista = create_png_esp(namedf='GAN-AE', df=df, variables=variables, keyname='dist', path=PATH_FIGURES, \n",
    "                   xlabels=xlabels, ylabels=ylabels, nbins_sig=50, nbins_bkg=67, type='distribution', title=True)\n",
    "# Grid de imagenes\n",
    "image_grid(rows=1, columns=3, images=lista, name='dGANAE-dist-importance-diff', path=PATH_FIGURES, remove=True)"
   ]
  },
  {
   "cell_type": "markdown",
   "metadata": {},
   "source": [
    "```{figure} ./../../figuras/dGANAE-dist-importance.png\n",
    "---\n",
    "name: dGANAE-dist-importance\n",
    "width: 100%\n",
    "---\n",
    "Distribución de las variables más importantes según {cite}`Vaslin_2020`. Masa invariante y masa, $pT$ y $\\tau_{21}$ de los dos jets principales.\n",
    "```\n",
    "Las distribuciones de la masa invariante, el $pT$ de los dos jets principales y la masa de los dos jets principales en la {numref}`dGANAE-dist-importance` son iguales a las obtenidas en la {numref}`datospp-dist` para el conjunto R&D, el conjunto utilizado en este análisis. $\\tau_{21}$ de los dos jets principales son similares a lo obtenido con `benchtools`. \n",
    "\n",
    "```{figure} ./../../figuras/dGANAE-dist-importance-diff.png\n",
    "---\n",
    "name: dGANAE-dist-importance-diff\n",
    "width: 100%\n",
    "---\n",
    "Distribución de las variables más importantes según {cite}`Vaslin_2020`. Número de subjets inclusivos del jet principal y secundario y $\\tau_1$ del jet secundario.\n",
    "```\n",
    "Por otra parte, en la {numref}`dGANAE-dist-importance-diff`, observamos que la distribución del número de subjets inclusivos de los dos jets principales es diferente para señal y fondo; en general, la señal posee menos subjets. Las distribuciones del fondo y la señal de $\\tau_1$ para el jet secundario son similares, siendo la distribución de la señal un poco mas ancha, porque los jets de fondo son más consistentes con la subestructura de un jet, como se discutió en la {numref}`datospp`.\n",
    "\n",
    "(dGANAE-corr)=\n",
    "## Correlaciones\n",
    "Las correlaciones discutidas en la {numref}`datospp-correlaciones`, se observan también en los datos preprocesados analizados en esta sección. En la {numref}`dGANAE-correlaciones`, la señal presenta algunas correlaciones que no se observan en el fondo, como entre el numero de subjets inclusivos del jet secundario con la masa del jet principal, o algunos anillos de energía."
   ]
  },
  {
   "cell_type": "code",
   "execution_count": 10,
   "metadata": {
    "tags": [
     "remove-cell"
    ]
   },
   "outputs": [],
   "source": [
    "# Queremos tener las correlaciones para la señal y el fondo en dataframes separados\n",
    "df_sig = df[df['label']==1].drop(['label'], axis=1)\n",
    "df_bkg = df[df['label']==0].drop(['label'], axis=1)\n",
    "\n",
    "# Calculamos las correlaciones\n",
    "df_sig_corr = df_sig.corr()\n",
    "df_bkg_corr = df_bkg.corr()\n",
    "\n",
    "# Nombres de las etiquetas\n",
    "nombres = [r'$pT_{j1}$', r'$\\eta_{j1}$', '$\\phi_{j1}$', r'$E_{j1}$', r'$m_{j1}$', r'nro. hadrones ${j1}$', 'nro. jets incl ${j1}$', \n",
    "           'nro. jets excl ${j1}$', r'$\\tau_{1,j1}$', r'$\\tau_{2,j1}$', r'$\\tau_{3,j1}$', r'$\\tau_{32,j1}$', r'$\\tau_{21,j1}$',\n",
    "          r'$pT_{j2}$', r'$\\eta_{j2}$', '$\\phi_{j2}$', r'$E_{j2}$', r'$m_{j2}$', r'nro. hadrones ${j2}$', 'nro. jets incl ${j2}$', \n",
    "           'nro. jets excl ${j2}$', r'$\\tau_{1,j2}$', r'$\\tau_{2,j2}$', r'$\\tau_{3,j2}$', r'$\\tau_{32,j2}$', r'$\\tau_{21,j2}$',\n",
    "          r'anillo de E. 0 j1',r'anillo de E. 1 j1', r'anillo de E. 2 j1 ', r'anillo de E. 3 j1', r'anillo de E. 4 j1',\n",
    "          r'anillo de E. 5 j1', r'anillo de E. 6 j1', r'anillo de E. 7 j1', r'anillo de E. 8 j1', r'anillo de E. 9 j1',\n",
    "          r'anillo de E. 0 j2',r'anillo de E. 1 j2', r'anillo de E. 2 j2', r'anillo de E. 3 j2', r'anillo de E. 4 j2',\n",
    "          r'anillo de E. 5 j2', r'anillo de E. 6 j2', r'anillo de E. 7 j2', r'anillo de E. 8 j2', r'anillo de E. 9 j2',\n",
    "          r'$m_{jj}$', 'nro. jets', r'$m_{jjj}$']\n",
    "\n",
    "# Definimos figura y tamaño\n",
    "fig, axes = plt.subplots(figsize=[14,11], facecolor='white', nrows=1, ncols=2, sharey=True)\n",
    "fig.tight_layout() \n",
    "\n",
    "# Para graficar el mapa de correlaciones:\n",
    "for ax, (name, corr) in zip(axes.flat, [('Señal', df_sig_corr), ('Fondo', df_bkg_corr)]):\n",
    "    \n",
    "    cax = ax.matshow(corr,cmap='coolwarm', vmin=-1, vmax=1)\n",
    "\n",
    "    #Ejes\n",
    "    ticks = np.arange(0,len(corr.columns),1)\n",
    "    ax.set_xticks(ticks)\n",
    "    ax.set_yticks(ticks)\n",
    "    corr.columns=nombres\n",
    "    ax.set_xticklabels(corr.columns, rotation=90)\n",
    "    ax.set_yticklabels(corr.columns)\n",
    "    ax.xaxis.tick_top()\n",
    "    ax.set_title('{}'.format(name), fontsize=16) \n",
    "    \n",
    "# Mapa de color\n",
    "fig.colorbar(cax, ax=axes.ravel().tolist(), fraction=0.025, pad=0.04)\n",
    "# Título\n",
    "#fig.suptitle('Mapa de correlaciones', fontsize=25)\n",
    "\n",
    "#plt.show()\n",
    "plt.savefig('./../../figuras/dGANAE-correlaciones', bbox_inches='tight', facecolor=fig.get_facecolor(),edgecolor='none')\n",
    "plt.close()"
   ]
  },
  {
   "cell_type": "markdown",
   "metadata": {},
   "source": [
    "```{figure} ./../../figuras/dGANAE-correlaciones.png\n",
    "---\n",
    "name: dGANAE-correlaciones\n",
    "width: 85%\n",
    "---\n",
    "Correlaciones de las variables preprocesadas para GAN-AE.\n",
    "```\n",
    "Sin embargo, las correlaciones en los eventos de señal no son evidentes en la {numref}`dGANAE-corr-scatter`."
   ]
  },
  {
   "cell_type": "code",
   "execution_count": 7,
   "metadata": {
    "tags": [
     "remove-cell"
    ]
   },
   "outputs": [
    {
     "data": {
      "text/plain": [
       "<Figure size 432x288 with 0 Axes>"
      ]
     },
     "metadata": {},
     "output_type": "display_data"
    },
    {
     "data": {
      "text/plain": [
       "<Figure size 432x288 with 0 Axes>"
      ]
     },
     "metadata": {},
     "output_type": "display_data"
    }
   ],
   "source": [
    "# Graficamos las correlaciones de algunas variables\n",
    "variables = [('nisj2', 'm1'), ('eRing3_1', 'E1')]\n",
    "xlabels = ['nro. subjets inclusivos del jet secundario', 'anillo de E. 3 del jet principal']\n",
    "ylabels = ['m del jet principal', 'E del jet principal']\n",
    "lista = create_png(namedf='GAN-AE', df=df, variables=variables, keyname='corr', path=PATH_FIGURES, \n",
    "                   xlabels=xlabels, ylabels=ylabels, type='scatter', title=True)\n",
    "image_grid(rows=1, columns=2, images=lista, name='dGANAE-corr-scatter', path=PATH_FIGURES, remove=True)"
   ]
  },
  {
   "cell_type": "markdown",
   "metadata": {},
   "source": [
    "```{figure} ./../../figuras/dGANAE-corr-scatter.png\n",
    "---\n",
    "name: dGANAE-corr-scatter\n",
    "width: 100%\n",
    "---\n",
    "Correlación del número de jets inclusivos del jet secundario y la masa del jet principal y del tercer anillo de energía y la energía del jet principal.\n",
    "```"
   ]
  }
 ],
 "metadata": {
  "celltoolbar": "Tags",
  "interpreter": {
   "hash": "be244558907c567e73a32fad5ffef5514602d6da01bb2b6b51508d7e46fcc84d"
  },
  "kernelspec": {
   "display_name": "Python 3",
   "language": "python",
   "name": "python3"
  },
  "language_info": {
   "codemirror_mode": {
    "name": "ipython",
    "version": 3
   },
   "file_extension": ".py",
   "mimetype": "text/x-python",
   "name": "python",
   "nbconvert_exporter": "python",
   "pygments_lexer": "ipython3",
   "version": "3.8.11"
  }
 },
 "nbformat": 4,
 "nbformat_minor": 2
}
