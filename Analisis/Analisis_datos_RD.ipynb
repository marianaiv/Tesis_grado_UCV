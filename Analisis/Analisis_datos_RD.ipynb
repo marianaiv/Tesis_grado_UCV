{
 "cells": [
  {
   "cell_type": "markdown",
   "metadata": {},
   "source": [
    "# Análisis de datos R&D - LHCO 2020\n",
    "\n",
    "En este notebook intentaremos entender la distribución y relaciones de los datos R&D del LHC Olympics 2020. Los datos se pueden descargar de [este link](https://zenodo.org/record/4536377).\n",
    "El código está basado en [este notebook](https://github.com/lhcolympics2020/parsingscripts/blob/master/LHCOlympics2020_pyjetexample.ipynb)."
   ]
  },
  {
   "cell_type": "code",
   "execution_count": 1,
   "metadata": {},
   "outputs": [],
   "source": [
    "# Importamos las librerías a utilizar\n",
    "import h5py                             # Para manejar los archivos .h5\n",
    "import numpy as np                      # Manejo de matrices\n",
    "import matplotlib.pyplot as plt         # Plots\n",
    "from pyjet import cluster,DTYPE_PTEPM   # Clustering de los jets\n",
    "import pandas as pd                     # Manejo de tablas\n",
    "import os.path                          # Manejo de directorios\n",
    "from os import path"
   ]
  },
  {
   "cell_type": "markdown",
   "metadata": {},
   "source": [
    "## Lectura de datos"
   ]
  },
  {
   "cell_type": "code",
   "execution_count": 2,
   "metadata": {},
   "outputs": [],
   "source": [
    "# leemos el archivo como un DataFrame de pandas\n",
    "df = pd.read_hdf(\"../events_anomalydetection.h5\")"
   ]
  },
  {
   "cell_type": "code",
   "execution_count": 3,
   "metadata": {},
   "outputs": [
    {
     "data": {
      "text/plain": [
       "pandas.core.frame.DataFrame"
      ]
     },
     "execution_count": 3,
     "metadata": {},
     "output_type": "execute_result"
    }
   ],
   "source": [
    "# Vemos que sea del tipo esperado\n",
    "type(df)"
   ]
  },
  {
   "cell_type": "code",
   "execution_count": 4,
   "metadata": {},
   "outputs": [
    {
     "data": {
      "text/html": [
       "<div>\n",
       "<style scoped>\n",
       "    .dataframe tbody tr th:only-of-type {\n",
       "        vertical-align: middle;\n",
       "    }\n",
       "\n",
       "    .dataframe tbody tr th {\n",
       "        vertical-align: top;\n",
       "    }\n",
       "\n",
       "    .dataframe thead th {\n",
       "        text-align: right;\n",
       "    }\n",
       "</style>\n",
       "<table border=\"1\" class=\"dataframe\">\n",
       "  <thead>\n",
       "    <tr style=\"text-align: right;\">\n",
       "      <th></th>\n",
       "      <th>0</th>\n",
       "      <th>1</th>\n",
       "      <th>2</th>\n",
       "      <th>3</th>\n",
       "      <th>4</th>\n",
       "      <th>5</th>\n",
       "      <th>6</th>\n",
       "      <th>7</th>\n",
       "      <th>8</th>\n",
       "      <th>9</th>\n",
       "      <th>...</th>\n",
       "      <th>2091</th>\n",
       "      <th>2092</th>\n",
       "      <th>2093</th>\n",
       "      <th>2094</th>\n",
       "      <th>2095</th>\n",
       "      <th>2096</th>\n",
       "      <th>2097</th>\n",
       "      <th>2098</th>\n",
       "      <th>2099</th>\n",
       "      <th>2100</th>\n",
       "    </tr>\n",
       "  </thead>\n",
       "  <tbody>\n",
       "    <tr>\n",
       "      <th>0</th>\n",
       "      <td>0.324101</td>\n",
       "      <td>-0.361158</td>\n",
       "      <td>2.737669</td>\n",
       "      <td>0.409859</td>\n",
       "      <td>-2.429939</td>\n",
       "      <td>0.729830</td>\n",
       "      <td>0.867922</td>\n",
       "      <td>-2.267777</td>\n",
       "      <td>-1.161310</td>\n",
       "      <td>0.383031</td>\n",
       "      <td>...</td>\n",
       "      <td>0.0</td>\n",
       "      <td>0.0</td>\n",
       "      <td>0.0</td>\n",
       "      <td>0.0</td>\n",
       "      <td>0.0</td>\n",
       "      <td>0.0</td>\n",
       "      <td>0.0</td>\n",
       "      <td>0.0</td>\n",
       "      <td>0.0</td>\n",
       "      <td>0.0</td>\n",
       "    </tr>\n",
       "    <tr>\n",
       "      <th>1</th>\n",
       "      <td>0.646304</td>\n",
       "      <td>-0.539460</td>\n",
       "      <td>-1.386258</td>\n",
       "      <td>0.471293</td>\n",
       "      <td>-1.636572</td>\n",
       "      <td>0.751657</td>\n",
       "      <td>0.453769</td>\n",
       "      <td>-1.099593</td>\n",
       "      <td>-0.393405</td>\n",
       "      <td>0.485929</td>\n",
       "      <td>...</td>\n",
       "      <td>0.0</td>\n",
       "      <td>0.0</td>\n",
       "      <td>0.0</td>\n",
       "      <td>0.0</td>\n",
       "      <td>0.0</td>\n",
       "      <td>0.0</td>\n",
       "      <td>0.0</td>\n",
       "      <td>0.0</td>\n",
       "      <td>0.0</td>\n",
       "      <td>0.0</td>\n",
       "    </tr>\n",
       "    <tr>\n",
       "      <th>2</th>\n",
       "      <td>0.325172</td>\n",
       "      <td>-0.833948</td>\n",
       "      <td>2.404844</td>\n",
       "      <td>1.295058</td>\n",
       "      <td>-2.089618</td>\n",
       "      <td>-1.873342</td>\n",
       "      <td>0.451272</td>\n",
       "      <td>-0.101877</td>\n",
       "      <td>2.217348</td>\n",
       "      <td>0.461293</td>\n",
       "      <td>...</td>\n",
       "      <td>0.0</td>\n",
       "      <td>0.0</td>\n",
       "      <td>0.0</td>\n",
       "      <td>0.0</td>\n",
       "      <td>0.0</td>\n",
       "      <td>0.0</td>\n",
       "      <td>0.0</td>\n",
       "      <td>0.0</td>\n",
       "      <td>0.0</td>\n",
       "      <td>0.0</td>\n",
       "    </tr>\n",
       "    <tr>\n",
       "      <th>3</th>\n",
       "      <td>0.290918</td>\n",
       "      <td>-2.200063</td>\n",
       "      <td>1.630132</td>\n",
       "      <td>0.565028</td>\n",
       "      <td>-1.714345</td>\n",
       "      <td>-2.617103</td>\n",
       "      <td>0.951042</td>\n",
       "      <td>-0.532720</td>\n",
       "      <td>2.941473</td>\n",
       "      <td>0.896248</td>\n",
       "      <td>...</td>\n",
       "      <td>0.0</td>\n",
       "      <td>0.0</td>\n",
       "      <td>0.0</td>\n",
       "      <td>0.0</td>\n",
       "      <td>0.0</td>\n",
       "      <td>0.0</td>\n",
       "      <td>0.0</td>\n",
       "      <td>0.0</td>\n",
       "      <td>0.0</td>\n",
       "      <td>0.0</td>\n",
       "    </tr>\n",
       "    <tr>\n",
       "      <th>4</th>\n",
       "      <td>0.526330</td>\n",
       "      <td>-2.349110</td>\n",
       "      <td>-1.745532</td>\n",
       "      <td>0.542491</td>\n",
       "      <td>-2.080352</td>\n",
       "      <td>-3.044045</td>\n",
       "      <td>0.390727</td>\n",
       "      <td>-1.278563</td>\n",
       "      <td>-2.131058</td>\n",
       "      <td>2.530358</td>\n",
       "      <td>...</td>\n",
       "      <td>0.0</td>\n",
       "      <td>0.0</td>\n",
       "      <td>0.0</td>\n",
       "      <td>0.0</td>\n",
       "      <td>0.0</td>\n",
       "      <td>0.0</td>\n",
       "      <td>0.0</td>\n",
       "      <td>0.0</td>\n",
       "      <td>0.0</td>\n",
       "      <td>1.0</td>\n",
       "    </tr>\n",
       "  </tbody>\n",
       "</table>\n",
       "<p>5 rows × 2101 columns</p>\n",
       "</div>"
      ],
      "text/plain": [
       "       0         1         2         3         4         5         6     \\\n",
       "0  0.324101 -0.361158  2.737669  0.409859 -2.429939  0.729830  0.867922   \n",
       "1  0.646304 -0.539460 -1.386258  0.471293 -1.636572  0.751657  0.453769   \n",
       "2  0.325172 -0.833948  2.404844  1.295058 -2.089618 -1.873342  0.451272   \n",
       "3  0.290918 -2.200063  1.630132  0.565028 -1.714345 -2.617103  0.951042   \n",
       "4  0.526330 -2.349110 -1.745532  0.542491 -2.080352 -3.044045  0.390727   \n",
       "\n",
       "       7         8         9     ...  2091  2092  2093  2094  2095  2096  \\\n",
       "0 -2.267777 -1.161310  0.383031  ...   0.0   0.0   0.0   0.0   0.0   0.0   \n",
       "1 -1.099593 -0.393405  0.485929  ...   0.0   0.0   0.0   0.0   0.0   0.0   \n",
       "2 -0.101877  2.217348  0.461293  ...   0.0   0.0   0.0   0.0   0.0   0.0   \n",
       "3 -0.532720  2.941473  0.896248  ...   0.0   0.0   0.0   0.0   0.0   0.0   \n",
       "4 -1.278563 -2.131058  2.530358  ...   0.0   0.0   0.0   0.0   0.0   0.0   \n",
       "\n",
       "   2097  2098  2099  2100  \n",
       "0   0.0   0.0   0.0   0.0  \n",
       "1   0.0   0.0   0.0   0.0  \n",
       "2   0.0   0.0   0.0   0.0  \n",
       "3   0.0   0.0   0.0   0.0  \n",
       "4   0.0   0.0   0.0   1.0  \n",
       "\n",
       "[5 rows x 2101 columns]"
      ]
     },
     "execution_count": 4,
     "metadata": {},
     "output_type": "execute_result"
    }
   ],
   "source": [
    "# Vemos como luce el DataFrame\n",
    "df.head()"
   ]
  },
  {
   "cell_type": "markdown",
   "metadata": {},
   "source": [
    "El archivo tiene un evento por fila. Cada fila está compuesta por:\n",
    "- al menos un jet anti-kT R = 1.0 \n",
    "- con pseudorapidez $|\\eta|<2,5$ \n",
    "- y momento transversal $pT> 1,2$ TeV. \n",
    "\n",
    "Para cada evento, hay una lista de todos los hadrones:\n",
    "\n",
    "|Evento|$pT$ | $\\eta$ | $\\phi$ | $pT$ | $\\eta$ | $\\phi$ | $\\cdots$ | Señal? |\n",
    "|------|-----|--------|--------|------|--------|--------|--------|--------|\n",
    "| 1    | $\\cdots$| $\\cdots$| $\\cdots$| $\\cdots$| $\\cdots$| $\\cdots$| $\\cdots$| 1.0|\n",
    "| 2    | $\\cdots$| $\\cdots$| $\\cdots$| $\\cdots$| $\\cdots$| $\\cdots$| $\\cdots$| 0.0|\n",
    "| $\\vdots$| $\\cdots$| $\\cdots$| $\\cdots$| $\\cdots$| $\\cdots$| $\\cdots$| $\\cdots$| 0.0|\n",
    "\n",
    "\n",
    "con relleno de ceros hasta 700 hadrones.\n"
   ]
  },
  {
   "cell_type": "code",
   "execution_count": 5,
   "metadata": {},
   "outputs": [
    {
     "data": {
      "text/plain": [
       "(1100000, 2101)"
      ]
     },
     "execution_count": 5,
     "metadata": {},
     "output_type": "execute_result"
    }
   ],
   "source": [
    "# Sin embargo, tenemos muchos eventos\n",
    "df.shape"
   ]
  },
  {
   "cell_type": "markdown",
   "metadata": {},
   "source": [
    "Haremos la exploración de los datos en un conjunto más pequeño de eventos:"
   ]
  },
  {
   "cell_type": "code",
   "execution_count": 6,
   "metadata": {},
   "outputs": [],
   "source": [
    "# Para el análisis, escogemos 1000 eventos de la muestra\n",
    "dfsample = df.sample(n=1000)"
   ]
  },
  {
   "cell_type": "code",
   "execution_count": 7,
   "metadata": {},
   "outputs": [],
   "source": [
    "# Los guardamos en un archivo .h5 para tener la muestra en la que se haga el análisis\n",
    "if path.exists(\"events_anomalydetection_tiny.h5\")!= True: \n",
    "    dfsample.to_hdf(\"events_anomalydetection_tiny.h5\", key='df', mode='w',complevel=5,complib='blosc')"
   ]
  },
  {
   "cell_type": "code",
   "execution_count": 8,
   "metadata": {},
   "outputs": [],
   "source": [
    "# Utilizamos estos datos para el análisis\n",
    "eventos_tiny = pd.read_hdf(\"events_anomalydetection_tiny.h5\")"
   ]
  },
  {
   "cell_type": "code",
   "execution_count": 9,
   "metadata": {},
   "outputs": [
    {
     "data": {
      "text/plain": [
       "(1000, 2101)"
      ]
     },
     "execution_count": 9,
     "metadata": {},
     "output_type": "execute_result"
    }
   ],
   "source": [
    "# Tenemos un dataframe de \n",
    "# 1000 eventos x 700 hadrones * 3 características ( pT, eta, phi) + 1 columna (si es señal o fondo)\n",
    "# El dataframe debe ser 1000x2101\n",
    "\n",
    "np.shape(eventos_tiny)"
   ]
  },
  {
   "cell_type": "markdown",
   "metadata": {},
   "source": [
    "La última columna tiene la información sobre si el evento es señal(1) o fondo(0)"
   ]
  },
  {
   "cell_type": "code",
   "execution_count": 10,
   "metadata": {},
   "outputs": [
    {
     "data": {
      "text/plain": [
       "742939    0.0\n",
       "101414    1.0\n",
       "612678    0.0\n",
       "911510    1.0\n",
       "738009    0.0\n",
       "Name: 2100, dtype: float64"
      ]
     },
     "execution_count": 10,
     "metadata": {},
     "output_type": "execute_result"
    }
   ],
   "source": [
    "eventos_tiny.iloc[:,-1].head()"
   ]
  },
  {
   "cell_type": "markdown",
   "metadata": {},
   "source": [
    "La ventaja de tener los datos en un dataframe es que podemos **utilizar la información fácilmente**.\n",
    "\n",
    "Por ejemplo, para el clustering vamos a utilizar una lista que contenga los pT de cada jet si estos son mayores que 0."
   ]
  },
  {
   "cell_type": "code",
   "execution_count": 11,
   "metadata": {},
   "outputs": [
    {
     "data": {
      "text/plain": [
       "[0.3853086829185486,\n",
       " 0.734783947467804,\n",
       " 0.16018712520599365,\n",
       " 0.548996090888977,\n",
       " 0.4115477204322815]"
      ]
     },
     "execution_count": 11,
     "metadata": {},
     "output_type": "execute_result"
    }
   ],
   "source": [
    "# Por ejemplo, para el primer evento\n",
    "lista= [data for data in eventos_tiny.iloc[0,::3] if data > 0] # pT, eta, phi, pT... Los pT están cada 3\n",
    "\n",
    "# Vemos los primeros elementos\n",
    "lista[0:5]"
   ]
  },
  {
   "cell_type": "code",
   "execution_count": 12,
   "metadata": {},
   "outputs": [
    {
     "name": "stdout",
     "output_type": "stream",
     "text": [
      "largo para evento 1: 137\n",
      "largo para evento 2: 91\n",
      "largo para evento 3: 139\n",
      "largo para evento 4: 174\n",
      "largo para evento 5: 148\n"
     ]
    }
   ],
   "source": [
    "# el largo de cada lista varía según el evento\n",
    "for evento in range(5):\n",
    "    lista = [data for data in eventos_tiny.iloc[evento,::3] if data > 0]\n",
    "    print(\"largo para evento {}: {}\".format(evento+1, len(lista)))"
   ]
  },
  {
   "cell_type": "markdown",
   "metadata": {},
   "source": [
    "Podemos hacer dataframes de solamente pT, eta o phi"
   ]
  },
  {
   "cell_type": "code",
   "execution_count": 13,
   "metadata": {},
   "outputs": [
    {
     "data": {
      "text/html": [
       "<div>\n",
       "<style scoped>\n",
       "    .dataframe tbody tr th:only-of-type {\n",
       "        vertical-align: middle;\n",
       "    }\n",
       "\n",
       "    .dataframe tbody tr th {\n",
       "        vertical-align: top;\n",
       "    }\n",
       "\n",
       "    .dataframe thead th {\n",
       "        text-align: right;\n",
       "    }\n",
       "</style>\n",
       "<table border=\"1\" class=\"dataframe\">\n",
       "  <thead>\n",
       "    <tr style=\"text-align: right;\">\n",
       "      <th></th>\n",
       "      <th>0</th>\n",
       "      <th>3</th>\n",
       "      <th>6</th>\n",
       "      <th>9</th>\n",
       "      <th>12</th>\n",
       "      <th>15</th>\n",
       "      <th>18</th>\n",
       "      <th>21</th>\n",
       "      <th>24</th>\n",
       "      <th>27</th>\n",
       "      <th>...</th>\n",
       "      <th>2073</th>\n",
       "      <th>2076</th>\n",
       "      <th>2079</th>\n",
       "      <th>2082</th>\n",
       "      <th>2085</th>\n",
       "      <th>2088</th>\n",
       "      <th>2091</th>\n",
       "      <th>2094</th>\n",
       "      <th>2097</th>\n",
       "      <th>2100</th>\n",
       "    </tr>\n",
       "  </thead>\n",
       "  <tbody>\n",
       "    <tr>\n",
       "      <th>742939</th>\n",
       "      <td>0.385309</td>\n",
       "      <td>0.734784</td>\n",
       "      <td>0.160187</td>\n",
       "      <td>0.548996</td>\n",
       "      <td>0.411548</td>\n",
       "      <td>0.451372</td>\n",
       "      <td>0.503312</td>\n",
       "      <td>0.435652</td>\n",
       "      <td>1.757613</td>\n",
       "      <td>34.400837</td>\n",
       "      <td>...</td>\n",
       "      <td>0.0</td>\n",
       "      <td>0.0</td>\n",
       "      <td>0.0</td>\n",
       "      <td>0.0</td>\n",
       "      <td>0.0</td>\n",
       "      <td>0.0</td>\n",
       "      <td>0.0</td>\n",
       "      <td>0.0</td>\n",
       "      <td>0.0</td>\n",
       "      <td>0.0</td>\n",
       "    </tr>\n",
       "    <tr>\n",
       "      <th>101414</th>\n",
       "      <td>0.367030</td>\n",
       "      <td>0.384321</td>\n",
       "      <td>1.112518</td>\n",
       "      <td>0.492048</td>\n",
       "      <td>0.386599</td>\n",
       "      <td>0.585926</td>\n",
       "      <td>1.204301</td>\n",
       "      <td>3.111389</td>\n",
       "      <td>0.869835</td>\n",
       "      <td>1.558793</td>\n",
       "      <td>...</td>\n",
       "      <td>0.0</td>\n",
       "      <td>0.0</td>\n",
       "      <td>0.0</td>\n",
       "      <td>0.0</td>\n",
       "      <td>0.0</td>\n",
       "      <td>0.0</td>\n",
       "      <td>0.0</td>\n",
       "      <td>0.0</td>\n",
       "      <td>0.0</td>\n",
       "      <td>1.0</td>\n",
       "    </tr>\n",
       "    <tr>\n",
       "      <th>612678</th>\n",
       "      <td>0.502873</td>\n",
       "      <td>0.944979</td>\n",
       "      <td>0.507295</td>\n",
       "      <td>0.600883</td>\n",
       "      <td>1.273456</td>\n",
       "      <td>0.571337</td>\n",
       "      <td>0.696852</td>\n",
       "      <td>1.154837</td>\n",
       "      <td>0.685227</td>\n",
       "      <td>2.060275</td>\n",
       "      <td>...</td>\n",
       "      <td>0.0</td>\n",
       "      <td>0.0</td>\n",
       "      <td>0.0</td>\n",
       "      <td>0.0</td>\n",
       "      <td>0.0</td>\n",
       "      <td>0.0</td>\n",
       "      <td>0.0</td>\n",
       "      <td>0.0</td>\n",
       "      <td>0.0</td>\n",
       "      <td>0.0</td>\n",
       "    </tr>\n",
       "    <tr>\n",
       "      <th>911510</th>\n",
       "      <td>0.730323</td>\n",
       "      <td>36.535522</td>\n",
       "      <td>7.075976</td>\n",
       "      <td>9.440829</td>\n",
       "      <td>74.904274</td>\n",
       "      <td>2.142568</td>\n",
       "      <td>8.071389</td>\n",
       "      <td>1.656551</td>\n",
       "      <td>1.344118</td>\n",
       "      <td>1.566197</td>\n",
       "      <td>...</td>\n",
       "      <td>0.0</td>\n",
       "      <td>0.0</td>\n",
       "      <td>0.0</td>\n",
       "      <td>0.0</td>\n",
       "      <td>0.0</td>\n",
       "      <td>0.0</td>\n",
       "      <td>0.0</td>\n",
       "      <td>0.0</td>\n",
       "      <td>0.0</td>\n",
       "      <td>1.0</td>\n",
       "    </tr>\n",
       "    <tr>\n",
       "      <th>738009</th>\n",
       "      <td>8.290358</td>\n",
       "      <td>10.021173</td>\n",
       "      <td>4.864457</td>\n",
       "      <td>1.623914</td>\n",
       "      <td>21.673780</td>\n",
       "      <td>19.501175</td>\n",
       "      <td>253.132095</td>\n",
       "      <td>55.831982</td>\n",
       "      <td>106.397293</td>\n",
       "      <td>36.680111</td>\n",
       "      <td>...</td>\n",
       "      <td>0.0</td>\n",
       "      <td>0.0</td>\n",
       "      <td>0.0</td>\n",
       "      <td>0.0</td>\n",
       "      <td>0.0</td>\n",
       "      <td>0.0</td>\n",
       "      <td>0.0</td>\n",
       "      <td>0.0</td>\n",
       "      <td>0.0</td>\n",
       "      <td>0.0</td>\n",
       "    </tr>\n",
       "  </tbody>\n",
       "</table>\n",
       "<p>5 rows × 701 columns</p>\n",
       "</div>"
      ],
      "text/plain": [
       "            0          3         6         9          12         15    \\\n",
       "742939  0.385309   0.734784  0.160187  0.548996   0.411548   0.451372   \n",
       "101414  0.367030   0.384321  1.112518  0.492048   0.386599   0.585926   \n",
       "612678  0.502873   0.944979  0.507295  0.600883   1.273456   0.571337   \n",
       "911510  0.730323  36.535522  7.075976  9.440829  74.904274   2.142568   \n",
       "738009  8.290358  10.021173  4.864457  1.623914  21.673780  19.501175   \n",
       "\n",
       "              18         21          24         27    ...  2073  2076  2079  \\\n",
       "742939    0.503312   0.435652    1.757613  34.400837  ...   0.0   0.0   0.0   \n",
       "101414    1.204301   3.111389    0.869835   1.558793  ...   0.0   0.0   0.0   \n",
       "612678    0.696852   1.154837    0.685227   2.060275  ...   0.0   0.0   0.0   \n",
       "911510    8.071389   1.656551    1.344118   1.566197  ...   0.0   0.0   0.0   \n",
       "738009  253.132095  55.831982  106.397293  36.680111  ...   0.0   0.0   0.0   \n",
       "\n",
       "        2082  2085  2088  2091  2094  2097  2100  \n",
       "742939   0.0   0.0   0.0   0.0   0.0   0.0   0.0  \n",
       "101414   0.0   0.0   0.0   0.0   0.0   0.0   1.0  \n",
       "612678   0.0   0.0   0.0   0.0   0.0   0.0   0.0  \n",
       "911510   0.0   0.0   0.0   0.0   0.0   0.0   1.0  \n",
       "738009   0.0   0.0   0.0   0.0   0.0   0.0   0.0  \n",
       "\n",
       "[5 rows x 701 columns]"
      ]
     },
     "execution_count": 13,
     "metadata": {},
     "output_type": "execute_result"
    }
   ],
   "source": [
    "# pT está cada 3, partiendo de 0.\n",
    "pt_df = eventos_tiny.iloc[:,::3]\n",
    "\n",
    "pt_df.head()"
   ]
  },
  {
   "cell_type": "code",
   "execution_count": 14,
   "metadata": {},
   "outputs": [],
   "source": [
    "# Hacemos lo mismo con eta y phi\n",
    "\n",
    "# Definimos la columna con la información de señal o fondo\n",
    "senal_column = eventos_tiny[2100]\n",
    "\n",
    "# Concatenamos esta a los slicing de los dataframe\n",
    "eta_df = pd.concat([eventos_tiny.iloc[:,1::3],senal_column], axis = 1)\n",
    "phi_df = pd.concat([eventos_tiny.iloc[:,2::3],senal_column], axis = 1)"
   ]
  },
  {
   "cell_type": "markdown",
   "metadata": {},
   "source": [
    "### Gráficas\n",
    "\n",
    "Antes del clustering, podemos graficar la distribución de los datos para cada evento."
   ]
  },
  {
   "cell_type": "code",
   "execution_count": 15,
   "metadata": {},
   "outputs": [
    {
     "data": {
      "image/png": "[encoded data removed]",
      "text/plain": [
       "<Figure size 432x288 with 1 Axes>"
      ]
     },
     "metadata": {
      "needs_background": "light"
     },
     "output_type": "display_data"
    }
   ],
   "source": [
    "# Distribución de la media de pT para cada evento\n",
    "\n",
    "# Filtramos que elementos son señal o fondo\n",
    "pt_senal = pt_df.loc[df[2100] == 1.0]\n",
    "pt_fondo = pt_df.loc[df[2100] == 0.0]\n",
    "\n",
    "# Eliminamos la ultima columna de ambos\n",
    "pt_senal = pt_senal.iloc[:,:-1]\n",
    "pt_fondo = pt_fondo.iloc[:,:-1]\n",
    "\n",
    "# Graficamos\n",
    "fig = plt.figure()\n",
    "# Definimos los ejes\n",
    "ax = fig.add_subplot(1, 1, 1)\n",
    "# Calculamos la media de las filas y hacemos un histograma\n",
    "pt_fondo.mean(axis=1).plot.hist(bins=50, facecolor='b', alpha=0.2,label='fondo')\n",
    "pt_senal.mean(axis=1).plot.hist(bins=50, facecolor='r', alpha=0.2,label='señal')\n",
    "plt.xlabel(r'Media $p_{T}$ [GeV]')\n",
    "plt.ylabel('Número de eventos')\n",
    "plt.legend(loc='upper right')\n",
    "plt.show()\n",
    "#plt.savefig(\"leadjetpt.pdf\")"
   ]
  },
  {
   "cell_type": "markdown",
   "metadata": {},
   "source": [
    "Podemos hacer lo mismo para $\\eta$ y $\\phi$:"
   ]
  },
  {
   "cell_type": "code",
   "execution_count": 16,
   "metadata": {},
   "outputs": [
    {
     "data": {
      "image/png": "[encoded data removed]",
      "text/plain": [
       "<Figure size 432x288 with 1 Axes>"
      ]
     },
     "metadata": {
      "needs_background": "light"
     },
     "output_type": "display_data"
    }
   ],
   "source": [
    "# Distribución de la media de eta para cada evento\n",
    "\n",
    "# Filtramos que elementos son señal o fondo\n",
    "eta_senal = eta_df.loc[df[2100] == 1.0]\n",
    "eta_fondo = eta_df.loc[df[2100] == 0.0]\n",
    "\n",
    "# Eliminamos la ultima columna de ambos\n",
    "eta_senal = eta_senal.iloc[:,:-1]\n",
    "eta_fondo = eta_fondo.iloc[:,:-1]\n",
    "\n",
    "# Graficamos\n",
    "fig = plt.figure()\n",
    "# Definimos los ejes\n",
    "ax = fig.add_subplot(1, 1, 1)\n",
    "eta_fondo.mean(axis=1).plot.hist(bins=50, facecolor='b', alpha=0.2,label='fondo')\n",
    "eta_senal.mean(axis=1).plot.hist(bins=50, facecolor='r', alpha=0.2,label='señal')\n",
    "plt.xlabel(r'Media $\\eta$')\n",
    "plt.ylabel('Número de eventos')\n",
    "plt.legend(loc='upper right')\n",
    "plt.show()\n",
    "#plt.savefig(\"leadjetpt.pdf\")"
   ]
  },
  {
   "cell_type": "code",
   "execution_count": 17,
   "metadata": {},
   "outputs": [
    {
     "data": {
      "image/png": "[encoded data removed]",
      "text/plain": [
       "<Figure size 432x288 with 1 Axes>"
      ]
     },
     "metadata": {
      "needs_background": "light"
     },
     "output_type": "display_data"
    }
   ],
   "source": [
    "# Distribución de la media de phi para cada evento\n",
    "\n",
    "# Filtramos que elementos son señal o fondo\n",
    "phi_senal = phi_df.loc[df[2100] == 1.0]\n",
    "phi_fondo = phi_df.loc[df[2100] == 0.0]\n",
    "\n",
    "# Eliminamos la ultima columna de ambos\n",
    "phi_senal = phi_senal.iloc[:,:-1]\n",
    "phi_fondo = phi_fondo.iloc[:,:-1]\n",
    "\n",
    "# Graficamos\n",
    "fig = plt.figure()\n",
    "# Definimos los ejes\n",
    "ax = fig.add_subplot(1, 1, 1)\n",
    "phi_fondo.mean(axis=1).plot.hist(bins=50, facecolor='b', alpha=0.2,label='fondo')\n",
    "phi_senal.mean(axis=1).plot.hist(bins=50, facecolor='r', alpha=0.2,label='señal')\n",
    "plt.xlabel(r'Media $\\phi$')\n",
    "plt.ylabel('Número de eventos')\n",
    "plt.legend(loc='upper right')\n",
    "plt.show()\n",
    "#plt.savefig(\"leadjetpt.pdf\")"
   ]
  },
  {
   "cell_type": "markdown",
   "metadata": {},
   "source": [
    "## Clustering"
   ]
  },
  {
   "cell_type": "markdown",
   "metadata": {},
   "source": [
    "Para el clustering vamos a usar la librería <code>pyjet</code>. Esta librería permite hacer el clustering de los jets mediante FastJet y arreglos de NumPy. \n",
    "\n",
    "**FastJet** posee 3 clases principales que formarán parte del clustering:\n",
    "- *PseudoJets*: provee un jet con cuadri-momento y algunos indices internos para situarlo en el contexto de una secuencia de clustering de jets.\n",
    "- *JetDefinition*: contiene especificaciones sobre cómo se hará el clustering\n",
    "- *ClusterSequence*: la clase que lleva a cabo el clustering y provee acceso a los jets finales.\n",
    "\n",
    "Como input tenemos los 1000 eventos con hasta 700 hadrones y como output tendremos:\n",
    "- Un diccionario con los jets de fondo y de señal en objetos PseudoJets\n",
    "- Tres diccionario separado en señal y fondo con:\n",
    "   - $pT$ del jet principal de cada evento\n",
    "   - $\\eta$ del jet principal de cada evento\n",
    "   - $\\phi$ del jet principal de cada evento\n",
    "\n",
    "\n",
    "El código para el clustering es el siguiente:"
   ]
  },
  {
   "cell_type": "code",
   "execution_count": 18,
   "metadata": {},
   "outputs": [
    {
     "name": "stdout",
     "output_type": "stream",
     "text": [
      "CLUSTERING DE JETS\n",
      "En estos datos hay 1000 eventos y 700 hadrones p/evento\n",
      "fondo 0\n",
      "BREVE ANALISIS DE LAS VARIABLES\n",
      "**pseudojets_input**: tipo <class 'numpy.ndarray'>, largo 137\n",
      "**secuencia**: tipo <class 'pyjet._libpyjet.ClusterSequence'>\n",
      "**jets**: tipo <class 'list'>, largo 4, tipo de objetos que contiene <class 'pyjet._libpyjet.PseudoJet'>\n",
      "**leadpT**: tipo <class 'dict'>, largo 1, tipo de objeto que contiene <class 'float'>\n",
      "**alljets**: tipo <class 'dict'>, largo 1, tipo de objeto que contiene <class 'list'>\n",
      "fondo 100\n",
      "fondo 200\n",
      "fondo 300\n",
      "fondo 400\n",
      "fondo 500\n",
      "fondo 600\n",
      "fondo 700\n",
      "fondo 800\n",
      "fondo 900\n",
      "BREVE ANALISIS DE LAS VARIABLES\n",
      "**pseudojets_input**: tipo <class 'numpy.ndarray'>, largo 102\n",
      "**secuencia**: tipo <class 'pyjet._libpyjet.ClusterSequence'>\n",
      "**jets**: tipo <class 'list'>, largo 3, tipo de objetos que contiene <class 'pyjet._libpyjet.PseudoJet'>\n",
      "**leadpT**: tipo <class 'dict'>, largo 1, tipo de objeto que contiene <class 'float'>\n",
      "**alljets**: tipo <class 'dict'>, largo 1, tipo de objeto que contiene <class 'list'>\n",
      "senal 0\n",
      "senal 100\n",
      "senal 200\n",
      "senal 300\n",
      "senal 400\n",
      "senal 500\n",
      "senal 600\n",
      "senal 700\n",
      "senal 800\n",
      "senal 900\n"
     ]
    }
   ],
   "source": [
    "# Creamos las variables a utilizar\n",
    "alljets={}                                     # diccionario con los jets de cada evento y su información\n",
    "leadpT={}                                      # diccionario de pT del jet principal de cada evento\n",
    "leadeta={}                                     # diccionario de eta del jet principal de cada evento\n",
    "leadphi={}                                     # diccionario de phi del jet principal de cada evento\n",
    "n_eventos = eventos_tiny.shape[0]              # número de eventos (1000)\n",
    "n_hadrones = int((eventos_tiny.shape[1]-1)/3)  # número de hadrones (700)\n",
    "\n",
    "print('CLUSTERING DE JETS')\n",
    "print(\"En estos datos hay {} eventos y {} hadrones p/evento\".format(n_eventos, n_hadrones))\n",
    "\n",
    "for mitipo in ['fondo','senal']:\n",
    "    # Creamos el key para cada diccionario \n",
    "    alljets[mitipo]=[] \n",
    "    leadpT[mitipo]=[]\n",
    "    leadeta[mitipo]=[]  \n",
    "    leadphi[mitipo]=[]\n",
    "    \n",
    "    for evento in range(n_eventos):\n",
    "        # Indicamos que el código está corriendo\n",
    "        if (evento%100==0):\n",
    "            print(mitipo,evento)\n",
    "            pass\n",
    "        \n",
    "        # La última columna tiene la información sobre si el evento es señal(1) o fondo(0)\n",
    "        essenal = eventos_tiny.iloc[evento,-1]\n",
    "        \n",
    "        # Si estamos en fondo solo analizamos los eventos que son fondo y viceversa.\n",
    "        if (mitipo=='fondo' and essenal):\n",
    "            continue\n",
    "        elif (mitipo=='senal' and essenal==0):\n",
    "             continue            \n",
    "            \n",
    "        # Creamos un numpy array de ceros del tamaño de la cantidad de datos distintos de cero que hay en el evento\n",
    "        # ** Buscar que es  pyjet DTYPE_PTEPM **\n",
    "        \n",
    "        pseudojets_input = np.zeros(len([data for data in eventos_tiny.iloc[evento,::3] if data > 0]), dtype=DTYPE_PTEPM) \n",
    "        \n",
    "        for hadron in range(n_hadrones):\n",
    "            if (eventos_tiny.iloc[evento,hadron*3]>0): ## si pT > 0 \n",
    "                \n",
    "                ## Llenamos el arreglo con pT, eta y phi de cada \"partícula\"\n",
    "                pseudojets_input[hadron]['pT'] = eventos_tiny.iloc[evento,hadron*3] \n",
    "                pseudojets_input[hadron]['eta'] = eventos_tiny.iloc[evento,hadron*3+1]\n",
    "                pseudojets_input[hadron]['phi'] = eventos_tiny.iloc[evento,hadron*3+2]\n",
    "                \n",
    "                pass\n",
    "            pass\n",
    "        \n",
    "        ## Devuelve una \"ClusterSequence\" (un tipo de lista de pyjet)\n",
    "        ## ** No sé en verdad que está haciendo la función. clustering con anti-kt? o con que? que es p? ## \n",
    "        secuencia = cluster(pseudojets_input, R=1.0, p=-1) \n",
    "        \n",
    "        ## Con inclusive_jets accedemos a todos los jets que fueron clusterizados\n",
    "        ## y filtramos los que tienen pT mayor que 20\n",
    "        ## Hacemos una lista con objetos PseudoJet\n",
    "        jets = secuencia.inclusive_jets(ptmin=20) \n",
    "        \n",
    "        # Agrega el pT, eta y phi del jet principal\n",
    "        # ** No sé cómo están en orden **\n",
    "        leadpT[mitipo] += [jets[0].pt] \n",
    "        leadeta[mitipo] += [jets[0].eta] \n",
    "        leadphi[mitipo] += [jets[0].phi] \n",
    "        \n",
    "        # agregamos todos los jets a alljets\n",
    "        alljets[mitipo] += [jets] \n",
    "        \n",
    "        ###################################CHEQUEANDO LOS TIPOS DE VARIABLES#############################################\n",
    "        if evento==0 or evento==900: \n",
    "            print('BREVE ANALISIS DE LAS VARIABLES')\n",
    "            print('**pseudojets_input**: tipo {}, largo {}'.format(type(pseudojets_input), len(pseudojets_input)))\n",
    "            print('**secuencia**: tipo {}'.format(type(secuencia)))\n",
    "            print('**jets**: tipo {}, largo {}, tipo de objetos que contiene {}'.format(type(jets), len(jets), type(jets[0])))\n",
    "            print('**leadpT**: tipo {}, largo {}, tipo de objeto que contiene {}'.format(type(leadpT), len(leadpT), type(leadpT[mitipo][0])))\n",
    "            print('**alljets**: tipo {}, largo {}, tipo de objeto que contiene {}'.format(type(alljets), len(alljets), type(alljets[mitipo][0])))\n",
    "            \n",
    "        pass        "
   ]
  },
  {
   "cell_type": "markdown",
   "metadata": {},
   "source": [
    "### Gráficas\n",
    "\n",
    "**Graficamos** la distribución de los valores de los jets principales:"
   ]
  },
  {
   "cell_type": "code",
   "execution_count": 19,
   "metadata": {},
   "outputs": [
    {
     "data": {
      "image/png": "[encoded data removed]",
      "text/plain": [
       "<Figure size 432x288 with 1 Axes>"
      ]
     },
     "metadata": {
      "needs_background": "light"
     },
     "output_type": "display_data"
    },
    {
     "data": {
      "text/plain": [
       "<Figure size 432x288 with 0 Axes>"
      ]
     },
     "metadata": {},
     "output_type": "display_data"
    }
   ],
   "source": [
    "# Distribución de pT\n",
    "\n",
    "fig = plt.figure()\n",
    "ax = fig.add_subplot(1, 1, 1)\n",
    "n,b,p = plt.hist(leadpT['fondo'], bins=50, facecolor='b', alpha=0.2,label='fondo')\n",
    "plt.hist(leadpT['senal'], bins=b, facecolor='r', alpha=0.2,label='señal')\n",
    "plt.xlabel(r'$p_{T}$ de Jet Lider [GeV]')\n",
    "plt.ylabel('Número de eventos')\n",
    "plt.legend(loc='upper right')\n",
    "plt.title('Distribución de pT de jets principales')\n",
    "plt.show()\n",
    "plt.savefig(\"leadjetpt.pdf\")"
   ]
  },
  {
   "cell_type": "code",
   "execution_count": 20,
   "metadata": {},
   "outputs": [
    {
     "data": {
      "image/png": "[encoded data removed]",
      "text/plain": [
       "<Figure size 432x288 with 1 Axes>"
      ]
     },
     "metadata": {
      "needs_background": "light"
     },
     "output_type": "display_data"
    },
    {
     "data": {
      "text/plain": [
       "<Figure size 432x288 with 0 Axes>"
      ]
     },
     "metadata": {},
     "output_type": "display_data"
    }
   ],
   "source": [
    "# Distribución de eta\n",
    "\n",
    "fig = plt.figure()\n",
    "ax = fig.add_subplot(1, 1, 1)\n",
    "n,b,p = plt.hist(leadeta['fondo'], bins=50, facecolor='b', alpha=0.2,label='fondo')\n",
    "plt.hist(leadeta['senal'], bins=b, facecolor='r', alpha=0.2,label='señal')\n",
    "plt.xlabel(r'$\\eta$ de Jet Lider')\n",
    "plt.ylabel('Número de eventos')\n",
    "plt.legend(loc='upper right')\n",
    "plt.title('Distribución de $\\eta$ de jets principales')\n",
    "plt.show()\n",
    "plt.savefig(\"leadjeteta.pdf\")"
   ]
  },
  {
   "cell_type": "code",
   "execution_count": 21,
   "metadata": {
    "scrolled": true
   },
   "outputs": [
    {
     "data": {
      "image/png": "[encoded data removed]",
      "text/plain": [
       "<Figure size 432x288 with 1 Axes>"
      ]
     },
     "metadata": {
      "needs_background": "light"
     },
     "output_type": "display_data"
    },
    {
     "data": {
      "text/plain": [
       "<Figure size 432x288 with 0 Axes>"
      ]
     },
     "metadata": {},
     "output_type": "display_data"
    }
   ],
   "source": [
    "# Distribución de phi\n",
    "\n",
    "fig = plt.figure()\n",
    "ax = fig.add_subplot(1, 1, 1)\n",
    "n,b,p = plt.hist(leadphi['fondo'], bins=50, facecolor='b', alpha=0.2,label='fondo')\n",
    "plt.hist(leadphi['senal'], bins=b, facecolor='r', alpha=0.2,label='señal')\n",
    "plt.xlabel(r'$\\phi$ de Jet Lider')\n",
    "plt.ylabel('Número de eventos')\n",
    "plt.legend(loc='upper right')\n",
    "plt.title('Distribución de $\\phi$ de jets principales')\n",
    "plt.show()\n",
    "plt.savefig(\"leadjetphi.pdf\")"
   ]
  },
  {
   "cell_type": "markdown",
   "metadata": {},
   "source": [
    "Utilizando funciones de FastJet sobre los objetos PseudoJets podemos calcular la masa invariante facilmente:"
   ]
  },
  {
   "cell_type": "code",
   "execution_count": 22,
   "metadata": {},
   "outputs": [],
   "source": [
    "# MASA INVARIANTE\n",
    "mjj={}\n",
    "\n",
    "for mitipo in ['fondo','senal']:\n",
    "    n_eventos = len(alljets[mitipo])\n",
    "    mjj[mitipo]=[]\n",
    "    \n",
    "    for evento in range(n_eventos): \n",
    "        \n",
    "        jet = alljets[mitipo][evento]\n",
    "        \n",
    "        # De cada evento sumamos la energía de los dos jets más energéticos\n",
    "        E = jet[0].e + jet[1].e\n",
    "        \n",
    "        # Igual aqui pero con las componentes del momento\n",
    "        px = jet[0].px + jet[1].px \n",
    "        py = jet[0].py + jet[1].py\n",
    "        pz = jet[0].pz + jet[1].pz\n",
    "        \n",
    "        ## Calculamos la masa invariante\n",
    "        mjj[mitipo]+=[(E**2-px**2-py**2-pz**2)**0.5] \n",
    "        pass\n",
    "    pass"
   ]
  },
  {
   "cell_type": "markdown",
   "metadata": {},
   "source": [
    "Y graficamos la distribución"
   ]
  },
  {
   "cell_type": "code",
   "execution_count": 23,
   "metadata": {},
   "outputs": [
    {
     "data": {
      "image/png": "[encoded data removed]",
      "text/plain": [
       "<Figure size 432x288 with 1 Axes>"
      ]
     },
     "metadata": {
      "needs_background": "light"
     },
     "output_type": "display_data"
    },
    {
     "data": {
      "text/plain": [
       "<Figure size 432x288 with 0 Axes>"
      ]
     },
     "metadata": {},
     "output_type": "display_data"
    }
   ],
   "source": [
    "# Distribución de masa invariante\n",
    "\n",
    "fig = plt.figure()\n",
    "ax = fig.add_subplot(1, 1, 1)\n",
    "n,b,p = plt.hist(mjj['fondo'], bins=50, facecolor='b', alpha=0.2,label='fondo')\n",
    "plt.hist(mjj['senal'], bins=b, facecolor='r', alpha=0.2,label='senal')\n",
    "plt.xlabel(r'$m_{JJ}$ [GeV]')\n",
    "plt.ylabel('Número de eventos')\n",
    "plt.title('Distribución de masa invariante')\n",
    "plt.legend(loc='upper right')\n",
    "plt.show()\n",
    "plt.savefig(\"mjj.pdf\")"
   ]
  },
  {
   "cell_type": "markdown",
   "metadata": {},
   "source": [
    "También podemos ver si hay alguna **relación entre las variables**"
   ]
  },
  {
   "cell_type": "code",
   "execution_count": 24,
   "metadata": {},
   "outputs": [
    {
     "data": {
      "text/plain": [
       "Text(0, 0.5, '$\\\\eta$')"
      ]
     },
     "execution_count": 24,
     "metadata": {},
     "output_type": "execute_result"
    },
    {
     "data": {
      "image/png": "[encoded data removed]",
      "text/plain": [
       "<Figure size 432x288 with 1 Axes>"
      ]
     },
     "metadata": {
      "needs_background": "light"
     },
     "output_type": "display_data"
    },
    {
     "data": {
      "image/png": "[encoded data removed]",
      "text/plain": [
       "<Figure size 432x288 with 1 Axes>"
      ]
     },
     "metadata": {
      "needs_background": "light"
     },
     "output_type": "display_data"
    }
   ],
   "source": [
    "# Relación entre eta y phi\n",
    "\n",
    "# señal\n",
    "fig = plt.figure()\n",
    "plt.scatter(leadphi['senal'], leadeta['senal'], c='r')\n",
    "plt.title(r'$\\eta$ vs. $\\phi$ de Jet Lider (señal)')\n",
    "plt.xlabel(r'$\\phi$')\n",
    "\n",
    "# fondo\n",
    "fig = plt.figure()\n",
    "plt.scatter(leadphi['fondo'], leadeta['fondo'], c='b')\n",
    "plt.title(r'$\\eta$ vs. $\\phi$ de Jet Lider (fondo)')\n",
    "plt.xlabel(r'$\\phi$')\n",
    "plt.ylabel(r'$\\eta$')"
   ]
  },
  {
   "cell_type": "code",
   "execution_count": 25,
   "metadata": {},
   "outputs": [
    {
     "data": {
      "text/plain": [
       "Text(0, 0.5, '$\\\\eta$r')"
      ]
     },
     "execution_count": 25,
     "metadata": {},
     "output_type": "execute_result"
    },
    {
     "data": {
      "image/png": "[encoded data removed]",
      "text/plain": [
       "<Figure size 432x288 with 1 Axes>"
      ]
     },
     "metadata": {
      "needs_background": "light"
     },
     "output_type": "display_data"
    },
    {
     "data": {
      "image/png": "[encoded data removed]",
      "text/plain": [
       "<Figure size 432x288 with 1 Axes>"
      ]
     },
     "metadata": {
      "needs_background": "light"
     },
     "output_type": "display_data"
    }
   ],
   "source": [
    "# Relación entre eta y pT\n",
    "\n",
    "# señal\n",
    "fig = plt.figure()\n",
    "plt.scatter(leadpT['senal'], leadeta['senal'], c='r')\n",
    "plt.title(r'$\\eta$ vs. $pT$ de Jet Lider (señal)')\n",
    "plt.xlabel(r'$pT$ [GeV]')\n",
    "plt.ylabel(r'$\\eta$')\n",
    "\n",
    "# fondo\n",
    "fig = plt.figure()\n",
    "plt.scatter(leadpT['fondo'], leadeta['fondo'], c='b')\n",
    "plt.title(r'$\\eta$ vs. $pT$ de Jet Lider (fondo)')\n",
    "plt.xlabel(r'$pT$ [GeV]')\n",
    "plt.ylabel(r'$\\eta$r')"
   ]
  },
  {
   "cell_type": "code",
   "execution_count": 26,
   "metadata": {},
   "outputs": [
    {
     "data": {
      "text/plain": [
       "Text(0, 0.5, '$\\\\phi$')"
      ]
     },
     "execution_count": 26,
     "metadata": {},
     "output_type": "execute_result"
    },
    {
     "data": {
      "image/png": "[encoded data removed]",
      "text/plain": [
       "<Figure size 432x288 with 1 Axes>"
      ]
     },
     "metadata": {
      "needs_background": "light"
     },
     "output_type": "display_data"
    },
    {
     "data": {
      "image/png": "[encoded data removed]",
      "text/plain": [
       "<Figure size 432x288 with 1 Axes>"
      ]
     },
     "metadata": {
      "needs_background": "light"
     },
     "output_type": "display_data"
    }
   ],
   "source": [
    "# Relación entre phi y pT\n",
    "\n",
    "# señal\n",
    "fig = plt.figure()\n",
    "plt.scatter(leadpT['senal'], leadphi['senal'], c='r')\n",
    "plt.title(r'$\\phi$ vs. $pT$ de Jet Lider (señal)')\n",
    "plt.xlabel(r'$pT$ [GeV]')\n",
    "plt.ylabel(r'$\\phi$')\n",
    "\n",
    "# fondo\n",
    "fig = plt.figure()\n",
    "plt.scatter(leadpT['fondo'], leadphi['fondo'], c='b')\n",
    "plt.title(r'$\\phi$ vs. $pT$ de Jet Lider (fondo)')\n",
    "plt.xlabel(r'$pT [GeV]$ ')\n",
    "plt.ylabel(r'$\\phi$')"
   ]
  }
 ],
 "metadata": {
  "kernelspec": {
   "display_name": "Python 3",
   "language": "python",
   "name": "python3"
  },
  "language_info": {
   "codemirror_mode": {
    "name": "ipython",
    "version": 3
   },
   "file_extension": ".py",
   "mimetype": "text/x-python",
   "name": "python",
   "nbconvert_exporter": "python",
   "pygments_lexer": "ipython3",
   "version": "3.7.3"
  }
 },
 "nbformat": 4,
 "nbformat_minor": 2
}
