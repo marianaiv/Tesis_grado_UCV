{
 "cells": [
  {
   "cell_type": "code",
   "execution_count": 1,
   "metadata": {},
   "outputs": [],
   "source": [
    "import pandas as pd\n",
    "import matplotlib.pyplot as plt\n",
    "from benchtools.src.plotools import bkg_sig_hist"
   ]
  },
  {
   "cell_type": "code",
   "execution_count": 2,
   "metadata": {},
   "outputs": [
    {
     "data": {
      "text/html": [
       "<div>\n",
       "<style scoped>\n",
       "    .dataframe tbody tr th:only-of-type {\n",
       "        vertical-align: middle;\n",
       "    }\n",
       "\n",
       "    .dataframe tbody tr th {\n",
       "        vertical-align: top;\n",
       "    }\n",
       "\n",
       "    .dataframe thead th {\n",
       "        text-align: right;\n",
       "    }\n",
       "</style>\n",
       "<table border=\"1\" class=\"dataframe\">\n",
       "  <thead>\n",
       "    <tr style=\"text-align: right;\">\n",
       "      <th></th>\n",
       "      <th>pT_j1</th>\n",
       "      <th>m_j1</th>\n",
       "      <th>eta_j1</th>\n",
       "      <th>phi_j1</th>\n",
       "      <th>E_j1</th>\n",
       "      <th>tau_21_j1</th>\n",
       "      <th>nhadrons_j1</th>\n",
       "      <th>pT_j2</th>\n",
       "      <th>m_j2</th>\n",
       "      <th>eta_j2</th>\n",
       "      <th>phi_j2</th>\n",
       "      <th>E_j2</th>\n",
       "      <th>tau_21_j2</th>\n",
       "      <th>nhadrons_j2</th>\n",
       "      <th>m_jj</th>\n",
       "      <th>deltaR_j12</th>\n",
       "      <th>n_hadrons</th>\n",
       "      <th>label</th>\n",
       "    </tr>\n",
       "  </thead>\n",
       "  <tbody>\n",
       "    <tr>\n",
       "      <th>0</th>\n",
       "      <td>1286.727685</td>\n",
       "      <td>106.912129</td>\n",
       "      <td>0.185508</td>\n",
       "      <td>-2.763676</td>\n",
       "      <td>1313.290435</td>\n",
       "      <td>0.624659</td>\n",
       "      <td>36</td>\n",
       "      <td>1283.220733</td>\n",
       "      <td>63.164215</td>\n",
       "      <td>0.064989</td>\n",
       "      <td>0.393688</td>\n",
       "      <td>1287.481934</td>\n",
       "      <td>0.713248</td>\n",
       "      <td>33</td>\n",
       "      <td>2580.489568</td>\n",
       "      <td>3.159663</td>\n",
       "      <td>109.0</td>\n",
       "      <td>0.0</td>\n",
       "    </tr>\n",
       "    <tr>\n",
       "      <th>1</th>\n",
       "      <td>1354.394070</td>\n",
       "      <td>614.269108</td>\n",
       "      <td>0.826505</td>\n",
       "      <td>1.365524</td>\n",
       "      <td>1943.559886</td>\n",
       "      <td>0.311688</td>\n",
       "      <td>84</td>\n",
       "      <td>1325.613761</td>\n",
       "      <td>439.064150</td>\n",
       "      <td>-0.874319</td>\n",
       "      <td>-1.786248</td>\n",
       "      <td>1916.370744</td>\n",
       "      <td>0.276881</td>\n",
       "      <td>97</td>\n",
       "      <td>3859.315047</td>\n",
       "      <td>3.581406</td>\n",
       "      <td>208.0</td>\n",
       "      <td>0.0</td>\n",
       "    </tr>\n",
       "    <tr>\n",
       "      <th>2</th>\n",
       "      <td>1214.955723</td>\n",
       "      <td>645.865619</td>\n",
       "      <td>-0.196786</td>\n",
       "      <td>2.040545</td>\n",
       "      <td>1396.840654</td>\n",
       "      <td>0.238205</td>\n",
       "      <td>119</td>\n",
       "      <td>1072.462085</td>\n",
       "      <td>113.768840</td>\n",
       "      <td>0.143831</td>\n",
       "      <td>-1.090330</td>\n",
       "      <td>1089.530630</td>\n",
       "      <td>0.726963</td>\n",
       "      <td>59</td>\n",
       "      <td>2480.769725</td>\n",
       "      <td>3.149348</td>\n",
       "      <td>196.0</td>\n",
       "      <td>0.0</td>\n",
       "    </tr>\n",
       "    <tr>\n",
       "      <th>3</th>\n",
       "      <td>1285.227873</td>\n",
       "      <td>516.835248</td>\n",
       "      <td>0.328693</td>\n",
       "      <td>2.975321</td>\n",
       "      <td>1450.485926</td>\n",
       "      <td>0.013429</td>\n",
       "      <td>65</td>\n",
       "      <td>1220.251279</td>\n",
       "      <td>174.796077</td>\n",
       "      <td>0.294854</td>\n",
       "      <td>-0.322661</td>\n",
       "      <td>1285.618789</td>\n",
       "      <td>0.706361</td>\n",
       "      <td>89</td>\n",
       "      <td>2609.893413</td>\n",
       "      <td>3.298155</td>\n",
       "      <td>183.0</td>\n",
       "      <td>0.0</td>\n",
       "    </tr>\n",
       "    <tr>\n",
       "      <th>4</th>\n",
       "      <td>1210.415787</td>\n",
       "      <td>129.499352</td>\n",
       "      <td>-0.744836</td>\n",
       "      <td>-2.883347</td>\n",
       "      <td>1567.345300</td>\n",
       "      <td>0.423550</td>\n",
       "      <td>54</td>\n",
       "      <td>1091.785816</td>\n",
       "      <td>155.362262</td>\n",
       "      <td>1.060534</td>\n",
       "      <td>0.264977</td>\n",
       "      <td>1772.340209</td>\n",
       "      <td>0.787662</td>\n",
       "      <td>57</td>\n",
       "      <td>3313.488835</td>\n",
       "      <td>3.629229</td>\n",
       "      <td>169.0</td>\n",
       "      <td>1.0</td>\n",
       "    </tr>\n",
       "  </tbody>\n",
       "</table>\n",
       "</div>"
      ],
      "text/plain": [
       "         pT_j1        m_j1    eta_j1    phi_j1         E_j1  tau_21_j1  \\\n",
       "0  1286.727685  106.912129  0.185508 -2.763676  1313.290435   0.624659   \n",
       "1  1354.394070  614.269108  0.826505  1.365524  1943.559886   0.311688   \n",
       "2  1214.955723  645.865619 -0.196786  2.040545  1396.840654   0.238205   \n",
       "3  1285.227873  516.835248  0.328693  2.975321  1450.485926   0.013429   \n",
       "4  1210.415787  129.499352 -0.744836 -2.883347  1567.345300   0.423550   \n",
       "\n",
       "   nhadrons_j1        pT_j2        m_j2    eta_j2    phi_j2         E_j2  \\\n",
       "0           36  1283.220733   63.164215  0.064989  0.393688  1287.481934   \n",
       "1           84  1325.613761  439.064150 -0.874319 -1.786248  1916.370744   \n",
       "2          119  1072.462085  113.768840  0.143831 -1.090330  1089.530630   \n",
       "3           65  1220.251279  174.796077  0.294854 -0.322661  1285.618789   \n",
       "4           54  1091.785816  155.362262  1.060534  0.264977  1772.340209   \n",
       "\n",
       "   tau_21_j2  nhadrons_j2         m_jj  deltaR_j12  n_hadrons  label  \n",
       "0   0.713248           33  2580.489568    3.159663      109.0    0.0  \n",
       "1   0.276881           97  3859.315047    3.581406      208.0    0.0  \n",
       "2   0.726963           59  2480.769725    3.149348      196.0    0.0  \n",
       "3   0.706361           89  2609.893413    3.298155      183.0    0.0  \n",
       "4   0.787662           57  3313.488835    3.629229      169.0    1.0  "
      ]
     },
     "execution_count": 2,
     "metadata": {},
     "output_type": "execute_result"
    }
   ],
   "source": [
    "df_RnD = pd.read_csv(\"../../datos/RnD-1100000.csv\")\n",
    "df_RnD.head()"
   ]
  },
  {
   "cell_type": "code",
   "execution_count": 3,
   "metadata": {},
   "outputs": [
    {
     "data": {
      "text/plain": [
       "Text(0.5, 1.0, 'Distribución de la masa del jet principal')"
      ]
     },
     "execution_count": 3,
     "metadata": {},
     "output_type": "execute_result"
    },
    {
     "data": {
      "text/plain": [
       "<Figure size 432x288 with 0 Axes>"
      ]
     },
     "metadata": {},
     "output_type": "display_data"
    },
    {
     "data": {
      "image/png": "[encoded data removed]",
      "text/plain": [
       "<Figure size 432x288 with 1 Axes>"
      ]
     },
     "metadata": {
      "needs_background": "light"
     },
     "output_type": "display_data"
    }
   ],
   "source": [
    "fig = plt.figure(facecolor='white')\n",
    "bkg_sig_hist(df_RnD, 'm_j1', label='label', xlabel='m (GeV)', ylabel='Densidad de eventos', n_bins=50)\n",
    "plt.title(r'Distribución de la masa del jet principal')\n",
    "#plt.savefig('../../figuras/jets-tau.png', bbox_inches='tight', facecolor=fig.get_facecolor(),edgecolor='none')"
   ]
  },
  {
   "cell_type": "code",
   "execution_count": 6,
   "metadata": {},
   "outputs": [
    {
     "data": {
      "text/plain": [
       "Text(0.5, 1.0, 'Distribución de $\\\\tau_{21}$ del jet principal')"
      ]
     },
     "execution_count": 6,
     "metadata": {},
     "output_type": "execute_result"
    },
    {
     "data": {
      "text/plain": [
       "<Figure size 432x288 with 0 Axes>"
      ]
     },
     "metadata": {},
     "output_type": "display_data"
    },
    {
     "data": {
      "image/png": "[encoded data removed]",
      "text/plain": [
       "<Figure size 432x288 with 1 Axes>"
      ]
     },
     "metadata": {
      "needs_background": "light"
     },
     "output_type": "display_data"
    }
   ],
   "source": [
    "fig = plt.figure(facecolor='white')\n",
    "bkg_sig_hist(df_RnD, 'tau_21_j1', label='label', xlabel='m (GeV)', ylabel='Densidad de eventos', n_bins=50)\n",
    "plt.title(r'Distribución de $\\tau_{21}$ del jet principal')\n",
    "#plt.savefig('../../figuras/jets-tau.png', bbox_inches='tight', facecolor=fig.get_facecolor(),edgecolor='none')"
   ]
  },
  {
   "cell_type": "code",
   "execution_count": null,
   "metadata": {},
   "outputs": [],
   "source": []
  }
 ],
 "metadata": {
  "kernelspec": {
   "display_name": "Python 3.8.11 ('base')",
   "language": "python",
   "name": "python3"
  },
  "language_info": {
   "codemirror_mode": {
    "name": "ipython",
    "version": 3
   },
   "file_extension": ".py",
   "mimetype": "text/x-python",
   "name": "python",
   "nbconvert_exporter": "python",
   "pygments_lexer": "ipython3",
   "version": "3.8.11"
  },
  "orig_nbformat": 4,
  "vscode": {
   "interpreter": {
    "hash": "be244558907c567e73a32fad5ffef5514602d6da01bb2b6b51508d7e46fcc84d"
   }
  }
 },
 "nbformat": 4,
 "nbformat_minor": 2
}
