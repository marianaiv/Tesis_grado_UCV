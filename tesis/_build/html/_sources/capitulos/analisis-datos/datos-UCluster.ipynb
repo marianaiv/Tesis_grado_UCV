{
 "cells": [
  {
   "cell_type": "markdown",
   "metadata": {},
   "source": [
    "(dUcluster)=\n",
    "# Datos de UCluster\n",
    "El pre-procesamiento de los datos de cada participante de las LHCO 2020 es distinto. Algunos métodos requieren la creación de imágenes, otros el cálculo de variables, y el uso de estas variables también depende del algoritmo a utilizar. En esta sección vamos a analizar el pre-procesamiento de los datos hecho para UCluster utilizando el conjunto R&D.\n",
    "\n",
    "(dUcluster-dist)=\n",
    "## Distribuciones\n",
    "Las variables de los datos pre-procesados por UCluster se describen en la {numref}`datoslhco-ucluster-variables`{cite}`Mikuni_2021`:\n",
    "\n",
    "```{table} Definición de las variables utilizadas por UCluster para entrenamiento y clasificación.\n",
    ":name: datoslhco-ucluster-variables\n",
    "|Variable                    |Descripción                                                                   |\n",
    "|:--------------------------:|:----------------------------------------------------------------------------:|\n",
    "|$\\Delta\\eta$                | Diferencia entre la pseudo-rapidez del constituyente y del jet               |\n",
    "|$\\Delta\\phi$                | Diferencia entre el ángulo azimutal del constituyente y del jet              |\n",
    "|$\\log{p_T}$                 | Logaritmo del $p_T$ del constituyente                                        |\n",
    "|$\\log{E}$                   | Logaritmo de la $E$ del constituyente                                        |\n",
    "|$\\log\\frac{p_T}{p_{T_{jet}}}$| Logaritmo de la relación entre el $p_T$ del constituyente y el $p_T$ del jet |\n",
    "|$\\log\\frac{E}{E_{jet}}$     | Logaritmo de la relación entre la $E$ del constituyente y la $E$ del jet     |\n",
    "|$\\Delta R$                  | Distancia entre el constituyente y el jet en el espacio $\\eta-\\phi$          |\n",
    "|PID                         | Identificador del tipo de partícula                                          |\n",
    "```\n",
    "La distribución de estas variables se puede observar en {numref}`dUCluster-dist-data`. La distribución de $\\eta$ es igual para señal y fondo. $\\phi$ y $\\Delta R$ poseen una distribución de señal más angosta y con una mayor densidad de eventos que el fondo, por lo explicado en la {numref}`datospp-dist`. Las distribuciones relacionadas a $p_T$ y $E$ son similares, y se observan diferencias entre señal y fondo. En ambas variables, los picos de los eventos de señal se encuentran en valores mayores de $p_T$ que los de fondo, debido a la mayor energía de la interacción, como se explicó anteriormente."
   ]
  },
  {
   "cell_type": "code",
   "execution_count": 2,
   "metadata": {
    "tags": [
     "remove-cell"
    ]
   },
   "outputs": [],
   "source": [
    "# Importamos librerias básicas\n",
    "import pandas as pd\n",
    "import h5py\n",
    "import numpy as np\n",
    "import matplotlib.pyplot as plt\n",
    "import nexusformat.nexus as nx\n",
    "\n",
    "# Funciones de benchtools\n",
    "from benchtools.src.plotools import bkg_sig_hist, bkg_sig_scatter, create_png, image_grid\n",
    "\n",
    "# Definimos variables globales\n",
    "PATH_IMAGES='../../figuras/'"
   ]
  },
  {
   "cell_type": "code",
   "execution_count": 4,
   "metadata": {
    "tags": [
     "remove-cell"
    ]
   },
   "outputs": [],
   "source": [
    "# Cargamos el archivo de los datos de UCluster\n",
    "# Hay varios dataframes en el archivo, aqui se carga \"data\"\n",
    "with h5py.File('../../../datos/train_20v_RD_100P_2NJET.h5', 'r') as hdf:\n",
    "    hdfdata = hdf.get('data')\n",
    "    data = np.array(hdfdata)"
   ]
  },
  {
   "cell_type": "code",
   "execution_count": 5,
   "metadata": {
    "tags": [
     "remove-cell"
    ]
   },
   "outputs": [
    {
     "data": {
      "text/plain": [
       "<Figure size 432x288 with 0 Axes>"
      ]
     },
     "metadata": {},
     "output_type": "display_data"
    },
    {
     "data": {
      "text/plain": [
       "<Figure size 432x288 with 0 Axes>"
      ]
     },
     "metadata": {},
     "output_type": "display_data"
    },
    {
     "data": {
      "text/plain": [
       "<Figure size 432x288 with 0 Axes>"
      ]
     },
     "metadata": {},
     "output_type": "display_data"
    },
    {
     "data": {
      "text/plain": [
       "<Figure size 432x288 with 0 Axes>"
      ]
     },
     "metadata": {},
     "output_type": "display_data"
    },
    {
     "data": {
      "text/plain": [
       "<Figure size 432x288 with 0 Axes>"
      ]
     },
     "metadata": {},
     "output_type": "display_data"
    },
    {
     "data": {
      "text/plain": [
       "<Figure size 432x288 with 0 Axes>"
      ]
     },
     "metadata": {},
     "output_type": "display_data"
    },
    {
     "data": {
      "text/plain": [
       "<Figure size 432x288 with 0 Axes>"
      ]
     },
     "metadata": {},
     "output_type": "display_data"
    }
   ],
   "source": [
    "# Convertimos los datos en dataframe\n",
    "columns = ['eta', 'phi', 'ratio_pT', 'ratio_E', 'pT', 'E', 'delta_R']\n",
    "# Calculamos la media de cada variable, por evento\n",
    "df = pd.DataFrame(data.mean(axis=(1)), columns = columns)\n",
    "# Agregamos la etiqueta de señal o fondo\n",
    "pid = pd.Series(np.array(h5py.File('../../../datos/train_20v_RD_100P_2NJET.h5', 'r')['pid']))\n",
    "df = df.assign(label=pid.values)\n",
    "\n",
    "# Graficamos\n",
    "variables = df.drop('label', axis=1).columns\n",
    "lista = create_png(namedf='UCluster', df=df, variables=variables, path=PATH_IMAGES, keyname='dist', nbins=50, type='distribution',title=True)\n",
    "# Grid de imagenes\n",
    "image_grid(rows=2, columns=4, images=lista, name='dUCluster-dist-data', path=PATH_IMAGES, remove=True)\n"
   ]
  },
  {
   "cell_type": "markdown",
   "metadata": {},
   "source": [
    "```{figure} ./../../figuras/dUCluster-dist-data.png\n",
    "---\n",
    "name: dUCluster-dist-data\n",
    "width: 100%\n",
    "---\n",
    "Distribución de las variables en la {numref}`datoslhco-ucluster-variables`\n",
    "```\n",
    "Para UCluster también se calculan variables globales del evento, que son utilizadas para parametrizar la red. Estas son: el logaritmo de la masa de los dos jets principales y $\\tau_{21}$ de los dos jets principales ({numref}`dUCluster-dist-global`). La distribución de $\\tau_{21}$ es similar a la obtenida con `benchtools`, analizada en la {numref}`datospp-dist`."
   ]
  },
  {
   "cell_type": "code",
   "execution_count": 6,
   "metadata": {
    "tags": [
     "remove-cell"
    ]
   },
   "outputs": [
    {
     "data": {
      "text/plain": [
       "<Figure size 432x288 with 0 Axes>"
      ]
     },
     "metadata": {},
     "output_type": "display_data"
    },
    {
     "data": {
      "text/plain": [
       "<Figure size 432x288 with 0 Axes>"
      ]
     },
     "metadata": {},
     "output_type": "display_data"
    },
    {
     "data": {
      "text/plain": [
       "<Figure size 432x288 with 0 Axes>"
      ]
     },
     "metadata": {},
     "output_type": "display_data"
    },
    {
     "data": {
      "text/plain": [
       "<Figure size 432x288 with 0 Axes>"
      ]
     },
     "metadata": {},
     "output_type": "display_data"
    }
   ],
   "source": [
    "# Obtenemos el dataframe \"global\"\n",
    "columns=['mass_j1', 'tau12_j1', 'mass_j2', 'tau12_j2']\n",
    "df_global = pd.DataFrame(np.array(h5py.File('../../../datos/train_20v_RD_100P_2NJET.h5', 'r')['global']), columns=columns)\n",
    "df_global=df_global.assign(label=pid.values)\n",
    "\n",
    "# Graficamos\n",
    "lista = create_png(namedf='UCluster', df=df_global, variables=columns, path=PATH_IMAGES, keyname='global', nbins=50, type='distribution', title=True)\n",
    "# Grid de imagenes\n",
    "image_grid(rows=2, columns=2, images=lista, name='dUCluster-dist-global', path=PATH_IMAGES, remove=True)"
   ]
  },
  {
   "cell_type": "markdown",
   "metadata": {},
   "source": [
    "```{figure} ./../../figuras/dUCluster-dist-global.png\n",
    "---\n",
    "name: dUCluster-dist-global\n",
    "width: 70%\n",
    "---\n",
    "Distribución de las variables para parametrizar la red de UCluster.\n",
    "```\n",
    "\n",
    "El conjunto de datos pre-procesados también posee un conjunto *label*, que hace referencia a las etiquetas de masa asignadas a los constituyentes de los jets. De la reconstrucción de esta variable, considerando el rango de masa utilizado por el método{cite}`Kasieczka_2021`, se obtiene la {numref}`dUCluster-label`, donde se observan dos picos alrededor de la masa de las partículas $X$ y $Y$ del conjunto R&D."
   ]
  },
  {
   "cell_type": "code",
   "execution_count": 7,
   "metadata": {
    "tags": [
     "remove-cell"
    ]
   },
   "outputs": [],
   "source": [
    "# Cargamos el dataframe de label\n",
    "df_label = pd.DataFrame(np.array(h5py.File('../../../datos/train_20v_RD_100P_2NJET.h5', 'r')['label']))\n",
    "# Agregamos las etiquetas de señal y fondo\n",
    "df_label = df_label.assign(label=pid.values)\n",
    "# Separamos señal y fondo\n",
    "df_label_bkg = df_label.loc[df_label['label']==0]\n",
    "df_label_sig = df_label.loc[df_label['label']==1]\n",
    "\n",
    "# Hacemos un mapeo entre la etiqueta y la masa\n",
    "# Creamos el rango de masas y de etiquetas\n",
    "MASSRANGE = np.linspace(10,1000,20)\n",
    "MASSRANGE = np.append(MASSRANGE, [100000])\n",
    "map_list = []\n",
    "for x in enumerate(MASSRANGE):\n",
    "    if x[0]==20: break\n",
    "    map_list.append(x)\n",
    "df_map = pd.DataFrame(map_list, columns=['value', 'mass'])\n",
    "df_map.head()\n",
    "\n",
    "# Mapeamos en el dataframe las etiquetas con los valores de masa\n",
    "df_map = df_map.set_index(\"value\")[\"mass\"]\n",
    "df_label_map = pd.DataFrame()\n",
    "for col in df_label.drop('label', axis=1):\n",
    "    df_label_map[col] = df_label[col].map(df_map).fillna(df_label[col])\n",
    "# Agregamos las etiquetas de señal y fondo a este dataframe\n",
    "df_label_map = df_label_map.assign(label=pid.values)\n",
    "df_label_map.head()\n",
    "# Separamos\n",
    "df_label_bkg = df_label_map.loc[df_label_map['label']==0]\n",
    "df_label_sig = df_label_map.loc[df_label_map['label']==1]\n",
    "# Graficamos\n",
    "fig = plt.figure(facecolor='white')\n",
    "# 'stack' para graficar todos los valores de dataframe en el histograma \n",
    "df_label_bkg.drop('label', axis=1).stack().plot.hist(facecolor='b', alpha=0.2, label='background', density=True)\n",
    "df_label_sig.drop('label', axis=1).stack().plot.hist(facecolor='r', alpha=0.2, label='signal', density=True)\n",
    "plt.legend(loc='upper right')\n",
    "plt.title('Distribución de la variable \"label\"');\n",
    "# Guardamos la figura\n",
    "plt.savefig('../../figuras/dUCluster-label.png', bbox_inches='tight', facecolor=fig.get_facecolor(),edgecolor='none')\n",
    "plt.close()"
   ]
  },
  {
   "cell_type": "markdown",
   "metadata": {},
   "source": [
    "```{figure} ./../../figuras/dUCluster-label.png\n",
    "---\n",
    "name: dUCluster-label\n",
    "width: 50%\n",
    "---\n",
    "Distribución de la media de las etiquetas de masa asignadas a los constituyentes de los jets. Los picos de la señal coinciden con la masa de las partículas $X$ y $Y$ para el conjunto analizado.\n",
    "```\n",
    "(dUCluster-corr)=\n",
    "## Correlaciones\n",
    "En la {numref}`dUCluster-correlaciones`, se presenta el mapa de correlaciones de las variables utilizadas por UCluster."
   ]
  },
  {
   "cell_type": "code",
   "execution_count": 8,
   "metadata": {
    "tags": [
     "remove-cell"
    ]
   },
   "outputs": [],
   "source": [
    "# Juntamos los dataframes con las variables\n",
    "df_all = pd.concat([df, df_global], axis=1)\n",
    "# Eliminamos la columna 'label' duplicada\n",
    "df_all = df_all.loc[:,~df_all.columns.duplicated()]\n",
    "\n",
    "# Queremos tener las correlaciones para la señal y el fondo en dataframes separados\n",
    "df_sig = df_all[df_all['label']==1].drop(['label'], axis=1)\n",
    "df_bkg = df_all[df_all['label']==0].drop(['label'], axis=1)\n",
    "\n",
    "# Calculamos las correlaciones\n",
    "df_sig_corr = df_sig.corr()\n",
    "df_bkg_corr = df_bkg.corr()\n",
    "\n",
    "# Definimos figura y tamaño\n",
    "fig, axes = plt.subplots(figsize=[14,11], facecolor='white', nrows=1, ncols=2, sharey=True)\n",
    "fig.tight_layout() \n",
    "\n",
    "# Para graficar el mapa de correlaciones:\n",
    "for ax, (name, corr) in zip(axes.flat, [('Señal', df_sig_corr), ('Fondo', df_bkg_corr)]):\n",
    "    \n",
    "    cax = ax.matshow(corr,cmap='coolwarm', vmin=-1, vmax=1)\n",
    "\n",
    "    #Ejes\n",
    "    ticks = np.arange(0,len(corr.columns),1)\n",
    "    ax.set_xticks(ticks)\n",
    "    ax.set_yticks(ticks)\n",
    "    ax.set_xticklabels(corr.columns, rotation=90)\n",
    "    ax.set_yticklabels(corr.columns)\n",
    "    ax.xaxis.tick_top()\n",
    "    ax.set_title('{}'.format(name), fontsize=16)\n",
    "    \n",
    "    \n",
    "# Mapa de color\n",
    "fig.colorbar(cax, ax=axes.ravel().tolist(), fraction=0.025, pad=0.04)\n",
    "# Título\n",
    "#fig.suptitle('Mapa de correlaciones', fontsize=25)\n",
    "\n",
    "#plt.show()\n",
    "plt.savefig('./../../figuras/dUCluster-correlaciones', bbox_inches='tight', facecolor=fig.get_facecolor(),edgecolor='none')\n",
    "plt.close()"
   ]
  },
  {
   "cell_type": "markdown",
   "metadata": {},
   "source": [
    "\n",
    "```{figure} ./../../figuras/dUCluster-correlaciones.png\n",
    "---\n",
    "name: dUCluster-correlaciones\n",
    "width: 80%\n",
    "---\n",
    "Correlaciones de las variables obtenidas del pre-procesamiento realizado para UCluster.\n",
    "```\n",
    "Se observa que en los eventos de señal y fondo existen correlaciones fuertes entre $ratio\\_E$ y $ratio\\_pT$ y entre $E$ y $pT$. Esta relación es natural debido a que $E$ se calcula con las componentes del momento. En el fondo, se observan correlaciones entre la masa del jet principal y secundario con $pT$. Sin embargo, no son evidentes en la {numref}`dUCluster-bkgcorr`."
   ]
  },
  {
   "cell_type": "code",
   "execution_count": 9,
   "metadata": {
    "tags": [
     "remove-cell"
    ]
   },
   "outputs": [
    {
     "data": {
      "text/plain": [
       "<Figure size 432x288 with 0 Axes>"
      ]
     },
     "metadata": {},
     "output_type": "display_data"
    },
    {
     "data": {
      "text/plain": [
       "<Figure size 432x288 with 0 Axes>"
      ]
     },
     "metadata": {},
     "output_type": "display_data"
    }
   ],
   "source": [
    "variables = [('mass_j1', 'ratio_pT'), ('mass_j2', 'ratio_pT')]\n",
    "lista = create_png(namedf='UCluster', df=df_all, variables=variables, path=PATH_IMAGES, keyname='bkgcorr', type='scatter', title=True)\n",
    "image_grid(rows=1, columns=2, images=lista, name='dUCluster-bkgcorr', path=PATH_IMAGES, remove=True)"
   ]
  },
  {
   "cell_type": "markdown",
   "metadata": {},
   "source": [
    "```{figure} ./../../figuras/dUCluster-bkgcorr.png\n",
    "---\n",
    "name: dUCluster-bkgcorr\n",
    "width: 100%\n",
    "---\n",
    "Correlaciones de las masa de los jets principales con $ratio\\_pT$.\n",
    "```"
   ]
  }
 ],
 "metadata": {
  "celltoolbar": "Tags",
  "interpreter": {
   "hash": "be244558907c567e73a32fad5ffef5514602d6da01bb2b6b51508d7e46fcc84d"
  },
  "kernelspec": {
   "display_name": "Python 3",
   "language": "python",
   "name": "python3"
  },
  "language_info": {
   "codemirror_mode": {
    "name": "ipython",
    "version": 3
   },
   "file_extension": ".py",
   "mimetype": "text/x-python",
   "name": "python",
   "nbconvert_exporter": "python",
   "pygments_lexer": "ipython3",
   "version": "3.8.11"
  }
 },
 "nbformat": 4,
 "nbformat_minor": 2
}
