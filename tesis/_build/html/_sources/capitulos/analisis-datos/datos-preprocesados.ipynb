{
 "cells": [
  {
   "cell_type": "markdown",
   "metadata": {},
   "source": [
    "(datospp)=\n",
    "# Datos pre-procesados\n",
    "En la sección anterior, analizamos los datos públicados para las LHCO 2020 sin alteración. En esta sección, analizaremos los datos pre-procesados de estos conjuntos. \n",
    "\n",
    "Al igual que en la sección anterior, utilizamos los primeros 100,000 eventos de cada conjunto de datos.\n",
    "\n",
    "Los datos pre-procesados de los primeros 100,000 eventos se obtienen utilizando `build_features` de `benchtools.src.clustering`, que utiliza la librería `pyjet`. Los detalles del pre-procesamiento se encuentran en la {numref}`bench-pre`."
   ]
  },
  {
   "cell_type": "code",
   "execution_count": 1,
   "metadata": {
    "tags": [
     "remove-cell"
    ]
   },
   "outputs": [],
   "source": [
    "# Importamos las librerías principales\n",
    "import pandas as pd\n",
    "import numpy as np\n",
    "import matplotlib.pyplot as plt\n",
    "from myst_nb import glue\n",
    "from PIL import Image\n",
    "import os\n",
    "\n",
    "# Funciones de benchtools\n",
    "from benchtools.src.plotools import bkg_sig_hist, bkg_sig_scatter\n",
    "from benchtools.src.clustering import build_features"
   ]
  },
  {
   "cell_type": "code",
   "execution_count": 2,
   "metadata": {
    "tags": [
     "remove-cell"
    ]
   },
   "outputs": [],
   "source": [
    "# Definimos donde están los datos\n",
    "path_data_RnD = \"../../../datos/events_anomalydetection.h5\"\n",
    "path_data_BB1 = \"../../../datos/events_LHCO2020_BlackBox1.h5\"\n",
    "path_key_BB1 = \"../../../datos/events_LHCO2020_BlackBox1.masterkey\""
   ]
  },
  {
   "cell_type": "code",
   "execution_count": 3,
   "metadata": {
    "tags": [
     "hide-cell"
    ]
   },
   "outputs": [
    {
     "name": "stdout",
     "output_type": "stream",
     "text": [
      "A file with that name already exists\n"
     ]
    }
   ],
   "source": [
    "# Pre-procesamiento R&D\n",
    "# Esta celda se corre una vez para pre-procesar los datos\n",
    "# Una vez que el archivo existe no vuelve a correr\n",
    "build_features(path_data=path_data_RnD, nbatch=2, outname='RnD-100000', outdir='../../../datos/', chunksize=50000)"
   ]
  },
  {
   "cell_type": "code",
   "execution_count": 4,
   "metadata": {
    "tags": [
     "hide-cell"
    ]
   },
   "outputs": [
    {
     "name": "stdout",
     "output_type": "stream",
     "text": [
      "A file with that name already exists\n"
     ]
    }
   ],
   "source": [
    "# Pre-procesamiento BB1\n",
    "# Esta celda se corre una vez para pre-procesar los datos\n",
    "# Una vez que el archivo existe no vuelve a correr\n",
    "build_features(path_data=path_data_BB1, nbatch=2, outname='BB1-100000', path_label=path_key_BB1, outdir='../../../datos/', chunksize=50000)"
   ]
  },
  {
   "cell_type": "code",
   "execution_count": 5,
   "metadata": {
    "tags": [
     "remove-cell"
    ]
   },
   "outputs": [
    {
     "data": {
      "application/papermill.record/text/html": "<div>\n<style scoped>\n    .dataframe tbody tr th:only-of-type {\n        vertical-align: middle;\n    }\n\n    .dataframe tbody tr th {\n        vertical-align: top;\n    }\n\n    .dataframe thead th {\n        text-align: right;\n    }\n</style>\n<table border=\"1\" class=\"dataframe\">\n  <thead>\n    <tr style=\"text-align: right;\">\n      <th></th>\n      <th>pT_j1</th>\n      <th>m_j1</th>\n      <th>eta_j1</th>\n      <th>phi_j1</th>\n      <th>E_j1</th>\n      <th>tau_21_j1</th>\n      <th>nhadrons_j1</th>\n      <th>pT_j2</th>\n      <th>m_j2</th>\n      <th>eta_j2</th>\n      <th>phi_j2</th>\n      <th>E_j2</th>\n      <th>tau_21_j2</th>\n      <th>nhadrons_j2</th>\n      <th>m_jj</th>\n      <th>deltaR_j12</th>\n      <th>n_hadrons</th>\n      <th>label</th>\n    </tr>\n  </thead>\n  <tbody>\n    <tr>\n      <th>0</th>\n      <td>1286.727685</td>\n      <td>106.912129</td>\n      <td>0.185508</td>\n      <td>-2.763676</td>\n      <td>1313.290435</td>\n      <td>0.624659</td>\n      <td>36</td>\n      <td>1283.220733</td>\n      <td>63.164215</td>\n      <td>0.064989</td>\n      <td>0.393688</td>\n      <td>1287.481934</td>\n      <td>0.713248</td>\n      <td>33</td>\n      <td>2580.489568</td>\n      <td>3.159663</td>\n      <td>109.0</td>\n      <td>0.0</td>\n    </tr>\n    <tr>\n      <th>1</th>\n      <td>1354.394070</td>\n      <td>614.269108</td>\n      <td>0.826505</td>\n      <td>1.365524</td>\n      <td>1943.559886</td>\n      <td>0.311688</td>\n      <td>84</td>\n      <td>1325.613761</td>\n      <td>439.064150</td>\n      <td>-0.874319</td>\n      <td>-1.786248</td>\n      <td>1916.370744</td>\n      <td>0.276881</td>\n      <td>97</td>\n      <td>3859.315047</td>\n      <td>3.581406</td>\n      <td>208.0</td>\n      <td>0.0</td>\n    </tr>\n    <tr>\n      <th>2</th>\n      <td>1214.955723</td>\n      <td>645.865619</td>\n      <td>-0.196786</td>\n      <td>2.040545</td>\n      <td>1396.840654</td>\n      <td>0.238205</td>\n      <td>119</td>\n      <td>1072.462085</td>\n      <td>113.768840</td>\n      <td>0.143831</td>\n      <td>-1.090330</td>\n      <td>1089.530630</td>\n      <td>0.726963</td>\n      <td>59</td>\n      <td>2480.769725</td>\n      <td>3.149348</td>\n      <td>196.0</td>\n      <td>0.0</td>\n    </tr>\n    <tr>\n      <th>3</th>\n      <td>1285.227873</td>\n      <td>516.835248</td>\n      <td>0.328693</td>\n      <td>2.975321</td>\n      <td>1450.485926</td>\n      <td>0.013429</td>\n      <td>65</td>\n      <td>1220.251279</td>\n      <td>174.796077</td>\n      <td>0.294854</td>\n      <td>-0.322661</td>\n      <td>1285.618789</td>\n      <td>0.706361</td>\n      <td>89</td>\n      <td>2609.893413</td>\n      <td>3.298155</td>\n      <td>183.0</td>\n      <td>0.0</td>\n    </tr>\n    <tr>\n      <th>4</th>\n      <td>1210.415787</td>\n      <td>129.499352</td>\n      <td>-0.744836</td>\n      <td>-2.883347</td>\n      <td>1567.345300</td>\n      <td>0.423550</td>\n      <td>54</td>\n      <td>1091.785816</td>\n      <td>155.362262</td>\n      <td>1.060534</td>\n      <td>0.264977</td>\n      <td>1772.340209</td>\n      <td>0.787662</td>\n      <td>57</td>\n      <td>3313.488835</td>\n      <td>3.629229</td>\n      <td>169.0</td>\n      <td>1.0</td>\n    </tr>\n  </tbody>\n</table>\n</div>",
      "application/papermill.record/text/plain": "         pT_j1        m_j1    eta_j1    phi_j1         E_j1  tau_21_j1  \\\n0  1286.727685  106.912129  0.185508 -2.763676  1313.290435   0.624659   \n1  1354.394070  614.269108  0.826505  1.365524  1943.559886   0.311688   \n2  1214.955723  645.865619 -0.196786  2.040545  1396.840654   0.238205   \n3  1285.227873  516.835248  0.328693  2.975321  1450.485926   0.013429   \n4  1210.415787  129.499352 -0.744836 -2.883347  1567.345300   0.423550   \n\n   nhadrons_j1        pT_j2        m_j2    eta_j2    phi_j2         E_j2  \\\n0           36  1283.220733   63.164215  0.064989  0.393688  1287.481934   \n1           84  1325.613761  439.064150 -0.874319 -1.786248  1916.370744   \n2          119  1072.462085  113.768840  0.143831 -1.090330  1089.530630   \n3           65  1220.251279  174.796077  0.294854 -0.322661  1285.618789   \n4           54  1091.785816  155.362262  1.060534  0.264977  1772.340209   \n\n   tau_21_j2  nhadrons_j2         m_jj  deltaR_j12  n_hadrons  label  \n0   0.713248           33  2580.489568    3.159663      109.0    0.0  \n1   0.276881           97  3859.315047    3.581406      208.0    0.0  \n2   0.726963           59  2480.769725    3.149348      196.0    0.0  \n3   0.706361           89  2609.893413    3.298155      183.0    0.0  \n4   0.787662           57  3313.488835    3.629229      169.0    1.0  "
     },
     "metadata": {
      "scrapbook": {
       "mime_prefix": "application/papermill.record/",
       "name": "df-RnD"
      }
     },
     "output_type": "display_data"
    }
   ],
   "source": [
    "# Cargamos los datos\n",
    "df_RnD = pd.read_csv(\"../../../datos/RnD-100000.csv\")\n",
    "df_BB1 = pd.read_csv(\"../../../datos/BB1-100000.csv\")\n",
    "\n",
    "glue(\"df-RnD\", df_RnD.head(), display=False)"
   ]
  },
  {
   "cell_type": "markdown",
   "metadata": {},
   "source": [
    "```{glue:figure} df-RnD\n",
    ":figwidth: 700px\n",
    ":name: \"df-RnD\"\n",
    "\n",
    "Primeros 5 eventos de los datos R&D pre-procesados usando `benchtools`.\n",
    "```\n",
    "(datospp-dist)=\n",
    "## Distribuciones\n",
    "Son de interés las variables que posean diferencias entre eventos de señal y de fondo, puesto que en principio, estas son las variables que los podelos van a utilizar para distinguir entre las clases. "
   ]
  },
  {
   "cell_type": "code",
   "execution_count": 28,
   "metadata": {
    "tags": [
     "remove-cell"
    ]
   },
   "outputs": [],
   "source": [
    "def image_grid(rows, columns, images, title, remove=True):\n",
    "    # getting sized\n",
    "    width = []\n",
    "    height = []\n",
    "    for image in images:\n",
    "        img = Image.open(image)\n",
    "        w, h = img.size\n",
    "        width.append(w)\n",
    "        height.append(h)\n",
    "\n",
    "    wmax = max(width)\n",
    "    hmax = max(height)\n",
    "\n",
    "    new_image = Image.new('RGB', (columns*wmax, rows*hmax), color = 'white')\n",
    "    if len(images) % 2 != 0:\n",
    "        img = Image.new(\"RGB\", (wmax, hmax), (255, 255, 255))\n",
    "        img.save('./../../figuras/whiteimage.png', \"PNG\")\n",
    "        images.append('./../../figuras/whiteimage.png')\n",
    "    \n",
    "    ii = 0\n",
    "    for row in range(rows):\n",
    "        for column in range(columns):\n",
    "            img = Image.open(images[ii])\n",
    "            new_image.paste(img, (column*wmax, row*hmax))\n",
    "            ii+=1\n",
    "\n",
    "    # save it\n",
    "    new_image.save('./../../figuras/{}.png'.format(title))\n",
    "\n",
    "    # Eliminando las imagenes individuales\n",
    "    if remove is True:\n",
    "        for img in images: \n",
    "            os.remove(img)\n",
    "        \n",
    "    return None\n",
    "\n",
    "\n",
    "def create_png(namedf, df, variables, prefilename, nbins=50, type='distribution'):\n",
    "    lista= []\n",
    "    for variable in variables:\n",
    "        # Graficamos\n",
    "        fig = plt.figure(facecolor='white') # Fondo blanco para la imagen\n",
    "        if type == 'distribution':\n",
    "            bkg_sig_hist(df, variable=variable, label='label', n_bins=nbins)\n",
    "            plt.title('{}: distribución de {}'.format(namedf, variable))\n",
    "            # Definimos el path y nombre del archivo\n",
    "            filename = os.path.join('../../figuras/','{}-{}-{}.png'.format(prefilename,namedf,variable))\n",
    "        if type == 'scatter':\n",
    "            bkg_sig_scatter(df, variable[0], variable[1], title='{}: correlación entre {} y {}'.format(namedf,variable[0], variable[1]))\n",
    "            # Definimos el path y nombre del archivo\n",
    "            filename = os.path.join('../../figuras/','{}-{}-{}v{}.png'.format(prefilename,namedf,variable[0], variable[1]))\n",
    "        # Guardamos los nombres de los archivos para hacer grid\n",
    "        lista.append(filename)\n",
    "        # Guardamos la figura\n",
    "        plt.savefig(filename, bbox_inches='tight', facecolor=fig.get_facecolor(),edgecolor='none')\n",
    "        plt.close()\n",
    "    return lista"
   ]
  },
  {
   "cell_type": "code",
   "execution_count": 20,
   "metadata": {
    "tags": [
     "remove-cell"
    ]
   },
   "outputs": [
    {
     "data": {
      "text/plain": [
       "<Figure size 432x288 with 0 Axes>"
      ]
     },
     "metadata": {},
     "output_type": "display_data"
    },
    {
     "data": {
      "text/plain": [
       "<Figure size 432x288 with 0 Axes>"
      ]
     },
     "metadata": {},
     "output_type": "display_data"
    },
    {
     "data": {
      "text/plain": [
       "<Figure size 432x288 with 0 Axes>"
      ]
     },
     "metadata": {},
     "output_type": "display_data"
    },
    {
     "data": {
      "text/plain": [
       "<Figure size 432x288 with 0 Axes>"
      ]
     },
     "metadata": {},
     "output_type": "display_data"
    },
    {
     "data": {
      "text/plain": [
       "<Figure size 432x288 with 0 Axes>"
      ]
     },
     "metadata": {},
     "output_type": "display_data"
    },
    {
     "data": {
      "text/plain": [
       "<Figure size 432x288 with 0 Axes>"
      ]
     },
     "metadata": {},
     "output_type": "display_data"
    },
    {
     "data": {
      "text/plain": [
       "<Figure size 432x288 with 0 Axes>"
      ]
     },
     "metadata": {},
     "output_type": "display_data"
    },
    {
     "data": {
      "text/plain": [
       "<Figure size 432x288 with 0 Axes>"
      ]
     },
     "metadata": {},
     "output_type": "display_data"
    }
   ],
   "source": [
    "variables = ['pT_j1','E_j1', 'm_j1','tau_21_j1']\n",
    "lista_RnD = create_png('RnD', df_RnD, variables, 'vardiff', nbins=50, type='distribution')\n",
    "lista_BB1 = create_png('BB1', df_BB1, variables, 'vardiff', nbins=50, type='distribution')\n",
    "# Grid de imagenes para RnD y BB1\n",
    "image_grid(rows=2, columns=2, images=lista_RnD, title='datospp-vardiff-RnD')\n",
    "image_grid(rows=2, columns=2, images=lista_BB1, title='datospp-vardiff-BB1')"
   ]
  },
  {
   "cell_type": "markdown",
   "metadata": {},
   "source": [
    "```{figure} ./../../figuras/datospp-vardiff-RnD.png\n",
    "---\n",
    "name: datospp-vardiff-RnD\n",
    "width: 70%\n",
    "---\n",
    "Distribución de $p_T$, $E$, $m$ y $\\tau_{21}$ para el conjunto R&D.\n",
    "```\n",
    "Observamos que el $p_T$ del fondo decae suavemente, lo que indica que los jets más energéticos de eventos de QCD tienden a tener un momento transverso menor a 1500 GeV. Los jets más energéticos de los eventos de señal poseen un $p_T$ mayor, entre 1500 y 2000 GeV. Esto también se observa en las distribuciones de energía, donde los jets principales de eventos de fondo son más energéticos que los de eventos de señal\n",
    "\n",
    "La distribución de masa del jet principal también es diferente. Para el fondo, los jets tienden a ser menos masivos y también decaen suavemente. Sin embargo, en los eventos de señal se observan dos picos alrededor de 100 y 500 GeV. Estas son las masas de las partículas $X$ y $Y$ del evento $Z'\\rightarrow XY$ para el conjunt R&D.\n",
    "\n",
    "Finalmente, se observa una diferencia en la distribución de la variable $\\tau_{21}$. De acuerdo a su definición en la ec.{eq}`jets-ratio_subjettiness`, el valor de esta variable es menor cuando los jets son más consistentes con la subestructura de dos subjets. Por lo tanto, como la señal se agrupa hacia valores más pequeños, los jets de señal son más consistentes con la subestructura de dos subjets.\n",
    "\n",
    "Ambos conjuntos presentan distribuciones similares.\n",
    "\n",
    "```{figure} ./../../figuras/datospp-vardiff-BB1.png\n",
    "---\n",
    "name: datospp-vardiff-BB1\n",
    "width: 70%\n",
    "---\n",
    "Distribución de $p_T$, $E$, $m$ y $\\tau_{21}$ para el conjunto BB1.\n",
    "```\n",
    "La diferencia principal se encuentra en la distribución de la masa del jet. Para el conjunto BB1 los picos de señal están alrededor de 380 y 750 GeV, cercano al valor de las masas de las partículas $X$ y $Y$ de este conjunto.\n",
    "\n",
    "Las distribuciones de $\\eta$ y el número de hadrones que constituyen el jet principal son más angostas para la señal. El ángulo $\\phi$ de los jets no presenta diferencias marcadas. \n",
    "\n",
    "En general, el bajo porcentaje de señal en el conjunto BB1 no permite observar con exactitud la distribución de la señal, pero es evidente la semejanza con el conjunto R&D."
   ]
  },
  {
   "cell_type": "code",
   "execution_count": 21,
   "metadata": {
    "tags": [
     "remove-cell"
    ]
   },
   "outputs": [
    {
     "data": {
      "text/plain": [
       "<Figure size 432x288 with 0 Axes>"
      ]
     },
     "metadata": {},
     "output_type": "display_data"
    },
    {
     "data": {
      "text/plain": [
       "<Figure size 432x288 with 0 Axes>"
      ]
     },
     "metadata": {},
     "output_type": "display_data"
    },
    {
     "data": {
      "text/plain": [
       "<Figure size 432x288 with 0 Axes>"
      ]
     },
     "metadata": {},
     "output_type": "display_data"
    },
    {
     "data": {
      "text/plain": [
       "<Figure size 432x288 with 0 Axes>"
      ]
     },
     "metadata": {},
     "output_type": "display_data"
    },
    {
     "data": {
      "text/plain": [
       "<Figure size 432x288 with 0 Axes>"
      ]
     },
     "metadata": {},
     "output_type": "display_data"
    },
    {
     "data": {
      "text/plain": [
       "<Figure size 432x288 with 0 Axes>"
      ]
     },
     "metadata": {},
     "output_type": "display_data"
    }
   ],
   "source": [
    "variables = ['eta_j1', 'nhadrons_j1', 'phi_j1']\n",
    "lista_RnD = create_png('RnD', df_RnD, variables, 'vareq', nbins=50, type='distribution')\n",
    "lista_BB1 = create_png('BB1', df_BB1, variables, 'vareq', nbins=20, type='distribution')\n",
    "\n",
    "# Grid de imagenes para RnD y BB1\n",
    "image_grid(rows=1, columns=3, images=lista_RnD, title='datospp-vareq-RnD')\n",
    "image_grid(rows=1, columns=3, images=lista_BB1, title='datospp-vareq-BB1')"
   ]
  },
  {
   "cell_type": "markdown",
   "metadata": {},
   "source": [
    "```{figure} ./../../figuras/datospp-vareq-RnD.png\n",
    "---\n",
    "name: datospp-vareq-RnD\n",
    "width: 100%\n",
    "---\n",
    "Distribución de $\\eta$, *nro. de hadrones* y $\\phi$ del jet principal para el conjunto R&D.\n",
    "```\n",
    "\n",
    "```{figure} ./../../figuras/datospp-vareq-BB1.png\n",
    "---\n",
    "name: datospp-vareq-BB1\n",
    "width: 100%\n",
    "---\n",
    "Distribución de $\\eta$, *nro. de hadrones* y $\\phi$ del jet principal para el conjunto BB1.\n",
    "```\n",
    "Las distribuciones de estas variables para el jet secundario poseen las mismas características que las del jet principal."
   ]
  },
  {
   "cell_type": "code",
   "execution_count": 22,
   "metadata": {
    "tags": [
     "remove-cell"
    ]
   },
   "outputs": [
    {
     "data": {
      "text/plain": [
       "<Figure size 432x288 with 0 Axes>"
      ]
     },
     "metadata": {},
     "output_type": "display_data"
    },
    {
     "data": {
      "text/plain": [
       "<Figure size 432x288 with 0 Axes>"
      ]
     },
     "metadata": {},
     "output_type": "display_data"
    },
    {
     "data": {
      "text/plain": [
       "<Figure size 432x288 with 0 Axes>"
      ]
     },
     "metadata": {},
     "output_type": "display_data"
    },
    {
     "data": {
      "text/plain": [
       "<Figure size 432x288 with 0 Axes>"
      ]
     },
     "metadata": {},
     "output_type": "display_data"
    },
    {
     "data": {
      "text/plain": [
       "<Figure size 432x288 with 0 Axes>"
      ]
     },
     "metadata": {},
     "output_type": "display_data"
    },
    {
     "data": {
      "text/plain": [
       "<Figure size 432x288 with 0 Axes>"
      ]
     },
     "metadata": {},
     "output_type": "display_data"
    },
    {
     "data": {
      "text/plain": [
       "<Figure size 432x288 with 0 Axes>"
      ]
     },
     "metadata": {},
     "output_type": "display_data"
    },
    {
     "data": {
      "text/plain": [
       "<Figure size 432x288 with 0 Axes>"
      ]
     },
     "metadata": {},
     "output_type": "display_data"
    },
    {
     "data": {
      "text/plain": [
       "<Figure size 432x288 with 0 Axes>"
      ]
     },
     "metadata": {},
     "output_type": "display_data"
    },
    {
     "data": {
      "text/plain": [
       "<Figure size 432x288 with 0 Axes>"
      ]
     },
     "metadata": {},
     "output_type": "display_data"
    },
    {
     "data": {
      "text/plain": [
       "<Figure size 432x288 with 0 Axes>"
      ]
     },
     "metadata": {},
     "output_type": "display_data"
    },
    {
     "data": {
      "text/plain": [
       "<Figure size 432x288 with 0 Axes>"
      ]
     },
     "metadata": {},
     "output_type": "display_data"
    },
    {
     "data": {
      "text/plain": [
       "<Figure size 432x288 with 0 Axes>"
      ]
     },
     "metadata": {},
     "output_type": "display_data"
    },
    {
     "data": {
      "text/plain": [
       "<Figure size 432x288 with 0 Axes>"
      ]
     },
     "metadata": {},
     "output_type": "display_data"
    }
   ],
   "source": [
    "variables = ['pT_j2','E_j2', 'm_j2','tau_21_j2', 'eta_j2', 'nhadrons_j2', 'phi_j2']\n",
    "lista_RnD = create_png('RnD', df_RnD, variables, 'jet2', nbins=50, type='distribution')\n",
    "lista_BB1 = create_png('BB1', df_BB1, variables, 'jet2', nbins=20, type='distribution')\n",
    "\n",
    "# Grid de imagenes para RnD y BB1\n",
    "image_grid(rows=2, columns=4, images=lista_RnD, title='datospp-jet2-RnD')\n",
    "image_grid(rows=2, columns=4, images=lista_BB1, title='datospp-jet2-BB1')"
   ]
  },
  {
   "cell_type": "markdown",
   "metadata": {},
   "source": [
    "```{figure} ./../../figuras/datospp-jet2-RnD.png\n",
    "---\n",
    "name: datospp-jet2-RnD\n",
    "width: 100%\n",
    "---\n",
    "Distribución de las variables del jet secundario para el conjunto R&D.\n",
    "```\n",
    "\n",
    "```{figure} ./../../figuras/datospp-jet2-BB1.png\n",
    "---\n",
    "name: datospp-jet2-BB1\n",
    "width: 100%\n",
    "---\n",
    "Distribución de las variables del jet secundario para el conjunto BB1.\n",
    "```\n",
    "Por último, están las variables que relacionan los dos jets principales, $\\Delta R$ y $m_{jj}$. En estas variables se observa diferencia entre las distribuciones de señal y de fondo."
   ]
  },
  {
   "cell_type": "code",
   "execution_count": 33,
   "metadata": {
    "tags": [
     "remove-cell"
    ]
   },
   "outputs": [
    {
     "data": {
      "text/plain": [
       "<Figure size 432x288 with 0 Axes>"
      ]
     },
     "metadata": {},
     "output_type": "display_data"
    },
    {
     "data": {
      "text/plain": [
       "<Figure size 432x288 with 0 Axes>"
      ]
     },
     "metadata": {},
     "output_type": "display_data"
    },
    {
     "data": {
      "text/plain": [
       "<Figure size 432x288 with 0 Axes>"
      ]
     },
     "metadata": {},
     "output_type": "display_data"
    },
    {
     "data": {
      "text/plain": [
       "<Figure size 432x288 with 0 Axes>"
      ]
     },
     "metadata": {},
     "output_type": "display_data"
    }
   ],
   "source": [
    "lista_RnD = create_png('RnD', df_RnD, ['deltaR_j12','m_jj'], 'jetrelations', type='distribution')\n",
    "lista_BB1 = create_png('BB1', df_BB1, ['deltaR_j12','m_jj'], 'jetrelations', type='distribution')\n",
    "\n",
    "# Grid de imagenes para RnD y BB1\n",
    "image_grid(rows=1, columns=2, images=lista_RnD, title='datospp-jetrelations-RnD')\n",
    "image_grid(rows=1, columns=2, images=lista_BB1, title='datospp-jetrelations-BB1')"
   ]
  },
  {
   "cell_type": "markdown",
   "metadata": {},
   "source": [
    "```{figure} ./../../figuras/datospp-jetrelations-RnD.png\n",
    "---\n",
    "name: datospp-jetrelations-RnD\n",
    "width: 80%\n",
    "---\n",
    "Distribución de las variables $\\Delta R$ y $m_{jj}$ para el conjunto R&D.\n",
    "```"
   ]
  },
  {
   "cell_type": "code",
   "execution_count": 23,
   "metadata": {
    "tags": [
     "remove-cell"
    ]
   },
   "outputs": [
    {
     "data": {
      "text/plain": [
       "3475.979232378178"
      ]
     },
     "metadata": {
      "scrapbook": {
       "mime_prefix": "",
       "name": "mjj-RnD"
      }
     },
     "output_type": "display_data"
    },
    {
     "data": {
      "text/plain": [
       "3672.7057998092414"
      ]
     },
     "metadata": {
      "scrapbook": {
       "mime_prefix": "",
       "name": "mjj-BB1"
      }
     },
     "output_type": "display_data"
    }
   ],
   "source": [
    "mjj_RnD = df_RnD.loc[df_RnD['label']==1]['m_jj'].mean()\n",
    "glue('mjj-RnD', mjj_RnD, display=True)\n",
    "mjj_BB1  = df_BB1.loc[df_BB1['label']==1]['m_jj'].mean()\n",
    "glue('mjj-BB1', mjj_BB1, display=True)"
   ]
  },
  {
   "cell_type": "markdown",
   "metadata": {},
   "source": [
    "\n",
    "La distribución de $\\Delta R$ es más angosta para los eventos de señal. La masa invariante del fondo se encuentra entre 2000 y 3000 GeV, y decae suavemente, mientras que para la señal del conjunto R&D se observa un pico en {glue:text}`mjj-RnD:.0f` GeV, consistente con la masa del bosón $Z'$ de nueva física para el evento de este conjunto de datos. Para el conjunto BB1 se observa un pico en {glue:text}`mjj-BB1:.0f`, cerca de la masa de el bosón $Z'$ para este conjunto.\n",
    "\n",
    "```{figure} ./../../figuras/datospp-jetrelations-BB1.png\n",
    "---\n",
    "name: datospp-jetrelations-BB1\n",
    "width: 80%\n",
    "---\n",
    "Distribución de las variables $\\Delta R$ y $m_{jj}$ para el conjunto BB1.\n",
    "```\n",
    "Aunque las variables de masa poseen diferentes distribuciones para señal y fondo, y podrían ser de utilidad para que el modelo aprenda, no serán utilizadas para el entrenamiento ni la clasificación. La idea es que la búsqueda sea lo más libre de modelo posible, por lo que no se desea que los algoritmos aprendan la distribución de masa.\n",
    "(datospp-correlaciones)=\n",
    "## Correlaciones\n",
    "La correlación de las variables que se utilizarán para entrenamiento se pueden observar a continuación."
   ]
  },
  {
   "cell_type": "code",
   "execution_count": 103,
   "metadata": {
    "tags": [
     "remove-cell"
    ]
   },
   "outputs": [],
   "source": [
    "for label, intlabel in [('señal', 1), ('fondo', 0)]:\n",
    "    # Queremos tener las correlaciones para la señal y el fondo en dataframes separados\n",
    "    df_BB1_nm = df_BB1[df_BB1['label']==intlabel].drop(['label','m_jj','m_j1','m_j2'], axis=1)\n",
    "    df_RnD_nm = df_RnD[df_RnD['label']==intlabel].drop(['label','m_jj','m_j1','m_j2'], axis=1)\n",
    "\n",
    "    # Calculamos las correlaciones\n",
    "    df_BB1_corr = df_BB1_nm.corr()\n",
    "    df_RnD_corr = df_RnD_nm.corr()\n",
    "    \n",
    "    # Definimos figura y tamaño\n",
    "    fig, axes = plt.subplots(figsize=[14,11], facecolor='white', nrows=1, ncols=2, sharey=True)\n",
    "    fig.tight_layout() \n",
    "    # Para graficar el mapa de correlaciones:\n",
    "    for ax, (name, corr) in zip(axes.flat, [('R&D', df_RnD_corr), ('BB1', df_BB1_corr)]):\n",
    "        \n",
    "        cax = ax.matshow(corr,cmap='coolwarm', vmin=-1, vmax=1)\n",
    "\n",
    "        #Ejes\n",
    "        ticks = np.arange(0,len(corr.columns),1)\n",
    "        ax.set_xticks(ticks)\n",
    "        ax.set_yticks(ticks)\n",
    "        ax.set_xticklabels(corr.columns, rotation=90)\n",
    "        ax.set_yticklabels(corr.columns)\n",
    "        ax.xaxis.tick_top()\n",
    "        ax.set_title('{}'.format(name), fontsize=16)\n",
    "        \n",
    "     \n",
    "    # Mapa de color\n",
    "    fig.colorbar(cax, ax=axes.ravel().tolist(), fraction=0.025, pad=0.04)\n",
    "    # Título\n",
    "    #fig.suptitle('Mapa de correlación de {}'.format(label), fontsize=25)\n",
    "    \n",
    "    #plt.show()\n",
    "    plt.savefig('./../../figuras/datospp-correlaciones-{}'.format(label), bbox_inches='tight', facecolor=fig.get_facecolor(),edgecolor='none')\n",
    "    plt.close()"
   ]
  },
  {
   "cell_type": "markdown",
   "metadata": {},
   "source": [
    "```{figure} ./../../figuras/datospp-correlaciones-fondo.png\n",
    "---\n",
    "name: datospp-correlaciones-fondo\n",
    "width: 80%\n",
    "---\n",
    "Mapa de correlaciones para los eventos de **fondo**.\n",
    "```\n",
    "```{figure} ./../../figuras/datospp-correlaciones-señal.png\n",
    "---\n",
    "name: datospp-correlaciones-señal\n",
    "width: 80%\n",
    "---\n",
    "Mapa de correlaciones para los eventos de **señal**.\n",
    "```"
   ]
  },
  {
   "cell_type": "markdown",
   "metadata": {},
   "source": [
    "La mayoría de las variables no están correlacionadas. Sin embargo, tanto para la señal como para el fondo, el $p_T$ de los dos jets principales y $\\phi$ de ambos jets están correlacionados. Para la señal, los $p_T$ de los jets principales presentan correlaciones negativas con $\\Delta R$."
   ]
  },
  {
   "cell_type": "code",
   "execution_count": 34,
   "metadata": {
    "tags": [
     "remove-cell"
    ]
   },
   "outputs": [
    {
     "data": {
      "text/plain": [
       "<Figure size 432x288 with 0 Axes>"
      ]
     },
     "metadata": {},
     "output_type": "display_data"
    },
    {
     "data": {
      "text/plain": [
       "<Figure size 432x288 with 0 Axes>"
      ]
     },
     "metadata": {},
     "output_type": "display_data"
    },
    {
     "data": {
      "text/plain": [
       "<Figure size 432x288 with 0 Axes>"
      ]
     },
     "metadata": {},
     "output_type": "display_data"
    },
    {
     "data": {
      "text/plain": [
       "<Figure size 432x288 with 0 Axes>"
      ]
     },
     "metadata": {},
     "output_type": "display_data"
    },
    {
     "data": {
      "text/plain": [
       "<Figure size 432x288 with 0 Axes>"
      ]
     },
     "metadata": {},
     "output_type": "display_data"
    },
    {
     "data": {
      "text/plain": [
       "<Figure size 432x288 with 0 Axes>"
      ]
     },
     "metadata": {},
     "output_type": "display_data"
    },
    {
     "data": {
      "text/plain": [
       "<Figure size 432x288 with 0 Axes>"
      ]
     },
     "metadata": {},
     "output_type": "display_data"
    },
    {
     "data": {
      "text/plain": [
       "<Figure size 432x288 with 0 Axes>"
      ]
     },
     "metadata": {},
     "output_type": "display_data"
    }
   ],
   "source": [
    "variables = [('pT_j1', 'pT_j2'), ('phi_j1', 'phi_j2'), ('pT_j1', 'deltaR_j12'), ('pT_j2', 'deltaR_j12')]\n",
    "lista_RnD = create_png('RnD', df_RnD, variables, 'corr', type='scatter')\n",
    "lista_BB1 = create_png('BB1', df_BB1, variables, 'corr', type='scatter')\n",
    "\n",
    "# Grid de imagenes para RnD y BB1\n",
    "image_grid(rows=2, columns=2, images=lista_RnD, title='datospp-correlaciones-RnD')\n",
    "image_grid(rows=2, columns=2, images=lista_BB1, title='datospp-correlaciones-BB1')"
   ]
  },
  {
   "cell_type": "markdown",
   "metadata": {},
   "source": [
    "```{figure} ./../../figuras/datospp-correlaciones-RnD.png\n",
    "---\n",
    "name: datospp-correlaciones-fondo\n",
    "width: 100%\n",
    "---\n",
    "Variables correlacionadas del conjunto R&D.\n",
    "```\n",
    "\n",
    "```{figure} ./../../figuras/datospp-correlaciones-BB1.png\n",
    "---\n",
    "name: datospp-correlaciones-fondo\n",
    "width: 100%\n",
    "---\n",
    "Variables correlacionadas del conjunto BB1.\n",
    "```\n",
    "La correlación del $p_T$ de los jets es lineal por la naturaleza del evento y del agrupamiento. Se escogieron como jets principales los más energéticos, por lo que el $p_T$ de los jets secundarios puede ser a lo sumo igual que el de los jets principales. Además, el momento de la colisión se distribuye de acuerdo a los dos productos principales que se formen, manteniendo una relación entre sí. \n",
    "\n",
    "Los valores de $\\phi$ también presentan una correlación positiva por la naturaleza del evento. En los eventos dijet, los jets se generan en direcciones opuestas, por lo que la dirección angular del jet principal se relaciona con la del jet secundario. Las demás correlaciones no son evidentes en los gráficos.\n",
    "\n",
    "La correlación de los datos puede generar problemas al utilizar algoritmos de aprendizaje automático para regresión. Sin embargo, debido a los modelos que se van a utilizar y a que la tarea es de clasificación, las consideraciones respecto a la correlación de las variables relacionadas al entrenamiento de los modelos no son necesarias.\n",
    "\n",
    "Para la señal del conjunto BB1 parece haber una correlación de $\\tau_{21}\\_j2$ y $E\\_j2$ con el $p_T$ del jet secundario. Sin embargo, por la poca cantidad de señal, no es evidente en los gráficos."
   ]
  },
  {
   "cell_type": "code",
   "execution_count": 117,
   "metadata": {
    "tags": [
     "remove-cell"
    ]
   },
   "outputs": [
    {
     "data": {
      "text/plain": [
       "<Figure size 432x288 with 0 Axes>"
      ]
     },
     "metadata": {},
     "output_type": "display_data"
    },
    {
     "data": {
      "text/plain": [
       "<Figure size 432x288 with 0 Axes>"
      ]
     },
     "metadata": {},
     "output_type": "display_data"
    }
   ],
   "source": [
    "lista_BB1 = create_png('BB1', df_BB1, [('tau_21_j2','pT_j2'),('E_j2', 'pT_j2')], 'correlaciones-senal', type='scatter')\n",
    "\n",
    "# Grid de imagenes para RnD y BB1\n",
    "image_grid(rows=1, columns=2, images=lista_BB1, title='datospp-correlaciones-senal-BB1')"
   ]
  },
  {
   "cell_type": "markdown",
   "metadata": {},
   "source": [
    "```{figure} ./../../figuras/datospp-correlaciones-senal-BB1.png\n",
    "---\n",
    "name: datospp-correlaciones-senal-BB1\n",
    "width: 100%\n",
    "---\n",
    "Correlaciones de la señal del conjunto BB1 que no se encuentran en el conjunto R&D.\n",
    "```"
   ]
  }
 ],
 "metadata": {
  "celltoolbar": "Tags",
  "interpreter": {
   "hash": "be244558907c567e73a32fad5ffef5514602d6da01bb2b6b51508d7e46fcc84d"
  },
  "kernelspec": {
   "display_name": "Python 3",
   "language": "python",
   "name": "python3"
  },
  "language_info": {
   "codemirror_mode": {
    "name": "ipython",
    "version": 3
   },
   "file_extension": ".py",
   "mimetype": "text/x-python",
   "name": "python",
   "nbconvert_exporter": "python",
   "pygments_lexer": "ipython3",
   "version": "3.8.11"
  }
 },
 "nbformat": 4,
 "nbformat_minor": 2
}
